{
  "nbformat": 4,
  "nbformat_minor": 0,
  "metadata": {
    "colab": {
      "name": "Untitled2.ipynb",
      "provenance": [],
      "collapsed_sections": [],
      "authorship_tag": "ABX9TyOfYeJpND3TKPLFbyto91Vp",
      "include_colab_link": true
    },
    "kernelspec": {
      "name": "python3",
      "display_name": "Python 3"
    },
    "language_info": {
      "name": "python"
    },
    "accelerator": "GPU"
  },
  "cells": [
    {
      "cell_type": "markdown",
      "metadata": {
        "id": "view-in-github",
        "colab_type": "text"
      },
      "source": [
        "<a href=\"https://colab.research.google.com/github/fractalxv/Bangkit-C22-PS221-Product-Based-Capstone/blob/main/Untitled2.ipynb\" target=\"_parent\"><img src=\"https://colab.research.google.com/assets/colab-badge.svg\" alt=\"Open In Colab\"/></a>"
      ]
    },
    {
      "cell_type": "markdown",
      "source": [
        "**Import data from drive**"
      ],
      "metadata": {
        "id": "FUO-rKdqiOOC"
      }
    },
    {
      "cell_type": "code",
      "execution_count": 2,
      "metadata": {
        "colab": {
          "base_uri": "https://localhost:8080/"
        },
        "id": "tE-ta8yb-mwk",
        "outputId": "e8a4843d-d2f0-49b0-affa-f8ae81da5bdb"
      },
      "outputs": [
        {
          "output_type": "stream",
          "name": "stdout",
          "text": [
            "Mounted at /content/gdrive\n",
            "gdrive\tsample_data\n"
          ]
        }
      ],
      "source": [
        "from google.colab import drive\n",
        "drive.mount('/content/gdrive')\n",
        "!ls"
      ]
    },
    {
      "cell_type": "markdown",
      "source": [
        "**Unzip file**"
      ],
      "metadata": {
        "id": "V27BHmNYiicP"
      }
    },
    {
      "cell_type": "code",
      "source": [
        "import zipfile\n",
        "\n",
        "# Unzip the dataset\n",
        "local_zip = './gdrive/MyDrive/DATASET_TANAMAN_HERBAL.zip'\n",
        "zip_ref = zipfile.ZipFile(local_zip, 'r')\n",
        "zip_ref.extractall('./herbs-plant')\n",
        "zip_ref.close()"
      ],
      "metadata": {
        "id": "Dy4HkHgSexqr"
      },
      "execution_count": 3,
      "outputs": []
    },
    {
      "cell_type": "markdown",
      "source": [
        "**define directories**"
      ],
      "metadata": {
        "id": "L8lysrpuumg6"
      }
    },
    {
      "cell_type": "code",
      "source": [
        "import os\n",
        "\n",
        "#train\n",
        "train_jambu_dir = os.path.join('./herbs-plant/Data_Training/Daun_Jambu_Biji')\n",
        "train_kari_dir = os.path.join('./herbs-plant/Data_Training/Daun_Kari')\n",
        "train_kemangi_dir = os.path.join('./herbs-plant/Data_Training/Daun_Kemangi')\n",
        "train_kunyit_dir = os.path.join('./herbs-plant/Data_Training/Daun_Kunyit')\n",
        "train_mint_dir = os.path.join('./herbs-plant/Data_Training/Daun_Mint')\n",
        "train_pepaya_dir = os.path.join('./herbs-plant/Data_Training/Daun_Pepaya')\n",
        "train_sirih_dir = os.path.join('./herbs-plant/Data_Training/Daun_Sirih')\n",
        "train_sirsak_dir = os.path.join('./herbs-plant/Data_Training/Daun_Sirsak')\n",
        "train_lidahbuaya_dir = os.path.join('./herbs-plant/Data_Training/Lidah_Buaya')\n",
        "train_tehhijau_dir = os.path.join('./herbs-plant/Data_Training/Teh_Hijau')\n",
        "\n",
        "#validation\n",
        "validation_jambu_dir = os.path.join('./herbs-plant/Data_Validation/Daun_Jambu_Biji')\n",
        "validation_kari_dir = os.path.join('./herbs-plant/Data_Validation/Daun_Kari')\n",
        "validation_kemangi_dir = os.path.join('./herbs-plant/Data_Validation/Daun_Kemangi')\n",
        "validation_kunyit_dir = os.path.join('./herbs-plant/Data_Validation/Daun_Kunyit')\n",
        "validation_mint_dir = os.path.join('./herbs-plant/Data_Validation/Daun_Mint')\n",
        "validation_pepaya_dir = os.path.join('./herbs-plant/Data_Validation/Daun_Pepaya')\n",
        "validation_sirih_dir = os.path.join('./herbs-plant/Data_Validation/Daun_Sirih')\n",
        "validation_sirsak_dir = os.path.join('./herbs-plant/Data_Validation/Daun_Sirsak')\n",
        "validation_lidahbuaya_dir = os.path.join('./herbs-plant/Data_Validation/Lidah_Buaya')\n",
        "validation_tehhijau_dir = os.path.join('./herbs-plant/Data_Validation/Teh_Hijau')"
      ],
      "metadata": {
        "id": "d93FCNQpiLyd"
      },
      "execution_count": 4,
      "outputs": []
    },
    {
      "cell_type": "code",
      "source": [
        "print('KEMANGI TRAIN SET:', len(os.listdir(train_kemangi_dir)))\n",
        "print('MINT TRAIN SET:', len(os.listdir(train_mint_dir)))\n",
        "print('PEPAYA TRAIN SET:', len(os.listdir(train_pepaya_dir)))\n",
        "print('SIRIH TRAIN SET:', len(os.listdir(train_sirih_dir)))\n",
        "print('LIDAH BUAYA TRAIN SET:', len(os.listdir(train_lidahbuaya_dir)))"
      ],
      "metadata": {
        "colab": {
          "base_uri": "https://localhost:8080/"
        },
        "id": "BVl-WGCyw9QY",
        "outputId": "c15b9a19-9d08-44de-ccdf-b7e2fc831b1c"
      },
      "execution_count": 5,
      "outputs": [
        {
          "output_type": "stream",
          "name": "stdout",
          "text": [
            "KEMANGI TRAIN SET: 80\n",
            "MINT TRAIN SET: 80\n",
            "PEPAYA TRAIN SET: 80\n",
            "SIRIH TRAIN SET: 80\n",
            "LIDAH BUAYA TRAIN SET: 80\n"
          ]
        }
      ]
    },
    {
      "cell_type": "code",
      "source": [
        "print('KEMANGI VALIDATION SET:', len(os.listdir(validation_kemangi_dir)))\n",
        "print('MINT VALIDATION SET:', len(os.listdir(validation_mint_dir)))\n",
        "print('PEPAYA VALIDATION SET:', len(os.listdir(validation_pepaya_dir)))\n",
        "print('SIRIH VALIDATION SET:', len(os.listdir(validation_sirih_dir)))\n",
        "print('LIDAH VALIDATION TRAIN SET:', len(os.listdir(validation_lidahbuaya_dir)))"
      ],
      "metadata": {
        "colab": {
          "base_uri": "https://localhost:8080/"
        },
        "id": "AWvJ557Lxy8K",
        "outputId": "09755055-2c9f-4f46-ed41-dc5cbf1ee7e4"
      },
      "execution_count": 8,
      "outputs": [
        {
          "output_type": "stream",
          "name": "stdout",
          "text": [
            "KEMANGI VALIDATION SET: 20\n",
            "MINT VALIDATION SET: 20\n",
            "PEPAYA VALIDATION SET: 20\n",
            "SIRIH VALIDATION SET: 20\n",
            "LIDAH VALIDATION TRAIN SET: 20\n"
          ]
        }
      ]
    },
    {
      "cell_type": "markdown",
      "source": [
        "**check data**"
      ],
      "metadata": {
        "id": "TO5upRnEyRpr"
      }
    },
    {
      "cell_type": "code",
      "source": [
        "#train data\n",
        "train_kemangi_names = os.listdir(train_kemangi_dir)\n",
        "print(f'KEMANGI TRAIN SET: {train_kemangi_names[:10]}')\n",
        "\n",
        "train_mint_names = os.listdir(train_mint_dir)\n",
        "print(f'MINT TRAIN SET: {train_mint_names[:10]}')\n",
        "\n",
        "train_pepaya_names = os.listdir(train_pepaya_dir)\n",
        "print(f'PEPAYA TRAIN SET: {train_pepaya_names[:10]}')\n",
        "\n",
        "train_sirih_names = os.listdir(train_sirih_dir)\n",
        "print(f'SIRIH TRAIN SET: {train_sirih_names[:10]}')\n",
        "\n",
        "train_lidahbuaya_names = os.listdir(train_lidahbuaya_dir)\n",
        "print(f'LIDAH BUAYA TRAIN SET: {train_lidahbuaya_names[:10]}')"
      ],
      "metadata": {
        "colab": {
          "base_uri": "https://localhost:8080/"
        },
        "id": "wGTx7U_1yOn-",
        "outputId": "f1a16541-1e68-4c97-fcbd-c36c1ff35f5f"
      },
      "execution_count": 9,
      "outputs": [
        {
          "output_type": "stream",
          "name": "stdout",
          "text": [
            "KEMANGI TRAIN SET: ['daun kemangi (48).jpg', 'daun kemangi (39).jpg', 'daun kemangi (20).jpg', 'daun kemangi (6).jpg', 'daun kemangi (1).jpg', 'daun kemangi (43).jpg', 'daun kemangi (22).jpg', 'daun kemangi (8).jpg', 'daun kemangi (35).jpg', 'daun kemangi (58).jpg']\n",
            "MINT TRAIN SET: ['mint (44).jpg', 'mint (71).jpg', 'mint (21).jpg', 'mint (75).jpg', 'mint (37).jpg', 'mint (33).jpg', 'mint (25).jpg', 'mint (10).jpg', 'mint (26).jpg', 'mint (70).jpg']\n",
            "PEPAYA TRAIN SET: ['pepaya (52).JPG', 'pepaya (27).JPG', 'pepaya (49).JPG', 'pepaya (70).JPG', 'pepaya (19).JPG', 'pepaya (15).JPG', 'pepaya (4).JPG', 'pepaya (29).JPG', 'pepaya (47).JPG', 'pepaya (68).JPG']\n",
            "SIRIH TRAIN SET: ['Sirih (42).jpg', 'Sirih (22).jpg', 'Sirih (36).jpg', 'Sirih (25).jpg', 'Sirih (20).jpg', 'Sirih (11).jpg', 'Sirih (58).jpg', 'Sirih (48).jpg', 'Sirih (21).jpg', 'Sirih (53).jpg']\n",
            "LIDAH BUAYA TRAIN SET: ['lidah buaya (50).JPG', 'lidah buaya (16).JPG', 'lidah buaya (37).JPG', 'lidah buaya (62).JPG', 'lidah buaya (8).JPG', 'lidah buaya (14).JPG', 'lidah buaya (31).JPG', 'lidah buaya (52).JPG', 'lidah buaya (1).JPG', 'lidah buaya (56).JPG']\n"
          ]
        }
      ]
    },
    {
      "cell_type": "code",
      "source": [
        "#validation data\n",
        "validation_kemangi_names = os.listdir(validation_kemangi_dir)\n",
        "print(f'KEMANGI VAL SET: {validation_kemangi_names[:10]}')\n",
        "\n",
        "validation_mint_names = os.listdir(validation_mint_dir)\n",
        "print(f'MINT VAL SET: {validation_mint_names[:10]}')\n",
        "\n",
        "validation_pepaya_names = os.listdir(validation_pepaya_dir)\n",
        "print(f'PEPAYA VAL SET: {validation_pepaya_names[:10]}')\n",
        "\n",
        "validation_sirih_names = os.listdir(validation_sirih_dir)\n",
        "print(f'SIRIH VAL SET: {validation_sirih_names[:10]}')\n",
        "\n",
        "validation_lidahbuaya_names = os.listdir(validation_lidahbuaya_dir)\n",
        "print(f'LIDAH BUAYA VAL SET: {validation_lidahbuaya_names[:10]}')"
      ],
      "metadata": {
        "colab": {
          "base_uri": "https://localhost:8080/"
        },
        "id": "RJ364fiEz6nX",
        "outputId": "c94c6b4c-8088-4344-b376-612379255aff"
      },
      "execution_count": 10,
      "outputs": [
        {
          "output_type": "stream",
          "name": "stdout",
          "text": [
            "KEMANGI VAL SET: ['daun kemangi (82).jpg', 'daun kemangi (95).jpg', 'daun kemangi (92).jpg', 'daun kemangi (85).jpg', 'daun kemangi (87).jpg', 'daun kemangi (97).jpg', 'daun kemangi (98).jpg', 'daun kemangi (91).jpg', 'daun kemangi (96).jpg', 'daun kemangi (100).jpg']\n",
            "MINT VAL SET: ['mint (93).jpg', 'mint (96).jpg', 'mint (92).jpg', 'mint (82).jpg', 'mint (88).jpg', 'mint (90).jpg', 'mint (84).jpg', 'mint (98).jpg', 'mint (86).jpg', 'mint (94).jpg']\n",
            "PEPAYA VAL SET: ['pepaya (100).JPG', 'pepaya (96).JPG', 'pepaya (90).JPG', 'pepaya (88).JPG', 'pepaya (84).JPG', 'pepaya (99).JPG', 'pepaya (95).JPG', 'pepaya (82).JPG', 'pepaya (93).JPG', 'pepaya (89).JPG']\n",
            "SIRIH VAL SET: ['Sirih (92).jpg', 'Sirih (82).jpg', 'Sirih (88).jpg', 'Sirih (93).jpg', 'Sirih (84).jpg', 'Sirih (85).jpg', 'Sirih (98).jpg', 'Sirih (95).jpg', 'Sirih (100).jpg', 'Sirih (90).jpg']\n",
            "LIDAH BUAYA VAL SET: ['lidah buaya (94).jpg', 'lidah buaya (84).jpg', 'lidah buaya (95).jpg', 'lidah buaya (85).jpg', 'lidah buaya (97).jpg', 'lidah buaya (98).jpg', 'lidah buaya (81).jpg', 'lidah buaya (83).jpg', 'lidah buaya (89).jpg', 'lidah buaya (93).jpg']\n"
          ]
        }
      ]
    },
    {
      "cell_type": "markdown",
      "source": [
        "**data augmentation**"
      ],
      "metadata": {
        "id": "UF2rPXHU2S_w"
      }
    },
    {
      "cell_type": "code",
      "source": [
        "import tensorflow as tf\n",
        "import keras_preprocessing\n",
        "from keras_preprocessing import image\n",
        "from keras_preprocessing.image import ImageDataGenerator"
      ],
      "metadata": {
        "id": "DxtqjFhx2Wmr"
      },
      "execution_count": 6,
      "outputs": []
    },
    {
      "cell_type": "code",
      "source": [
        "dir_training = \"./herbs-plant/Data_Training/\"\n",
        "\n",
        "training_datagen = ImageDataGenerator(\n",
        "      rescale = 1.0/255.,\n",
        "\t    rotation_range=30,\n",
        "      width_shift_range=0.1,\n",
        "      height_shift_range=0.1,\n",
        "      shear_range=0.3,\n",
        "      zoom_range=0.3,\n",
        "      horizontal_flip=True,\n",
        "      vertical_flip=True,\n",
        "      fill_mode='nearest')\n",
        "\n",
        "train_generator = training_datagen.flow_from_directory(\n",
        "\tdir_training,\n",
        "\ttarget_size=(224,224),\n",
        "\tclass_mode='categorical'\n",
        ")"
      ],
      "metadata": {
        "colab": {
          "base_uri": "https://localhost:8080/"
        },
        "id": "o0WopHNK2fnX",
        "outputId": "adc0a9df-dbe8-447b-b4f3-42ce1aa721da"
      },
      "execution_count": 7,
      "outputs": [
        {
          "output_type": "stream",
          "name": "stdout",
          "text": [
            "Found 800 images belonging to 11 classes.\n"
          ]
        }
      ]
    },
    {
      "cell_type": "code",
      "source": [
        "dir_validation = \"./herbs-plant/Data_Validation/\"\n",
        "\n",
        "validation_datagen = ImageDataGenerator(rescale = 1.0/255.)\n",
        "\n",
        "validation_generator = validation_datagen.flow_from_directory(\n",
        "\tdir_validation,\n",
        "\ttarget_size=(224,224),\n",
        "\tclass_mode='categorical'\n",
        ")"
      ],
      "metadata": {
        "colab": {
          "base_uri": "https://localhost:8080/"
        },
        "id": "iwVnjTQy3xYD",
        "outputId": "51f9ee23-9fa3-482d-8760-b72b2413004c"
      },
      "execution_count": 8,
      "outputs": [
        {
          "output_type": "stream",
          "name": "stdout",
          "text": [
            "Found 200 images belonging to 11 classes.\n"
          ]
        }
      ]
    },
    {
      "cell_type": "code",
      "source": [
        "model = tf.keras.models.Sequential([\n",
        "    tf.keras.layers.Conv2D(64, (3,3), activation='relu', input_shape=(224, 224, 3)),\n",
        "    tf.keras.layers.MaxPooling2D(2, 2),\n",
        "    tf.keras.layers.Conv2D(128, (3,3), activation='relu'),\n",
        "    tf.keras.layers.MaxPooling2D(2,2),\n",
        "    tf.keras.layers.Conv2D(64, (3,3), activation='relu'),\n",
        "    tf.keras.layers.MaxPooling2D(2,2),\n",
        "    tf.keras.layers.Flatten(),\n",
        "    tf.keras.layers.Dropout(0.5),\n",
        "    tf.keras.layers.Dense(512, activation='relu'),\n",
        "    tf.keras.layers.Dense(11, activation='softmax')\n",
        "])\n",
        "\n",
        "\n",
        "model.summary()"
      ],
      "metadata": {
        "id": "A76Lmvrd4JK4",
        "colab": {
          "base_uri": "https://localhost:8080/"
        },
        "outputId": "5b03420f-67bc-4965-8ccd-766745a4e421"
      },
      "execution_count": 9,
      "outputs": [
        {
          "output_type": "stream",
          "name": "stdout",
          "text": [
            "Model: \"sequential\"\n",
            "_________________________________________________________________\n",
            " Layer (type)                Output Shape              Param #   \n",
            "=================================================================\n",
            " conv2d (Conv2D)             (None, 222, 222, 64)      1792      \n",
            "                                                                 \n",
            " max_pooling2d (MaxPooling2D  (None, 111, 111, 64)     0         \n",
            " )                                                               \n",
            "                                                                 \n",
            " conv2d_1 (Conv2D)           (None, 109, 109, 128)     73856     \n",
            "                                                                 \n",
            " max_pooling2d_1 (MaxPooling  (None, 54, 54, 128)      0         \n",
            " 2D)                                                             \n",
            "                                                                 \n",
            " conv2d_2 (Conv2D)           (None, 52, 52, 64)        73792     \n",
            "                                                                 \n",
            " max_pooling2d_2 (MaxPooling  (None, 26, 26, 64)       0         \n",
            " 2D)                                                             \n",
            "                                                                 \n",
            " flatten (Flatten)           (None, 43264)             0         \n",
            "                                                                 \n",
            " dropout (Dropout)           (None, 43264)             0         \n",
            "                                                                 \n",
            " dense (Dense)               (None, 512)               22151680  \n",
            "                                                                 \n",
            " dense_1 (Dense)             (None, 11)                5643      \n",
            "                                                                 \n",
            "=================================================================\n",
            "Total params: 22,306,763\n",
            "Trainable params: 22,306,763\n",
            "Non-trainable params: 0\n",
            "_________________________________________________________________\n"
          ]
        }
      ]
    },
    {
      "cell_type": "code",
      "source": [
        "labels = train_generator.class_indices.keys()\n",
        "model.compile(loss = 'categorical_crossentropy', optimizer='adam', metrics=['accuracy'])\n",
        "performa = model.fit(train_generator, epochs=20, steps_per_epoch=15, validation_data = validation_generator, verbose = 1)"
      ],
      "metadata": {
        "id": "MtC8Fxaj4TDG",
        "colab": {
          "base_uri": "https://localhost:8080/"
        },
        "outputId": "9a29c39a-9557-424f-d018-d8ebf0b339d0"
      },
      "execution_count": 11,
      "outputs": [
        {
          "output_type": "stream",
          "name": "stdout",
          "text": [
            "Epoch 1/20\n",
            "15/15 [==============================] - 134s 9s/step - loss: 1.4389 - accuracy: 0.4729 - val_loss: 1.7326 - val_accuracy: 0.4500\n",
            "Epoch 2/20\n",
            "15/15 [==============================] - 129s 9s/step - loss: 1.1097 - accuracy: 0.5562 - val_loss: 1.4775 - val_accuracy: 0.5000\n",
            "Epoch 3/20\n",
            "15/15 [==============================] - 126s 9s/step - loss: 1.0172 - accuracy: 0.6104 - val_loss: 1.5072 - val_accuracy: 0.4950\n",
            "Epoch 4/20\n",
            "15/15 [==============================] - 130s 9s/step - loss: 1.0056 - accuracy: 0.6062 - val_loss: 1.2802 - val_accuracy: 0.5950\n",
            "Epoch 5/20\n",
            "15/15 [==============================] - 127s 9s/step - loss: 0.8865 - accuracy: 0.6542 - val_loss: 1.4687 - val_accuracy: 0.5600\n",
            "Epoch 6/20\n",
            "15/15 [==============================] - 128s 9s/step - loss: 0.8218 - accuracy: 0.6667 - val_loss: 1.5503 - val_accuracy: 0.5750\n",
            "Epoch 7/20\n",
            "15/15 [==============================] - 128s 9s/step - loss: 0.7785 - accuracy: 0.7250 - val_loss: 1.3358 - val_accuracy: 0.5750\n",
            "Epoch 8/20\n",
            "15/15 [==============================] - ETA: 0s - loss: 0.7462 - accuracy: 0.7354Epoch 9/20\n",
            "15/15 [==============================] - 129s 9s/step - loss: 0.6914 - accuracy: 0.7563 - val_loss: 1.1370 - val_accuracy: 0.6600\n",
            "Epoch 10/20\n",
            "15/15 [==============================] - 127s 9s/step - loss: 0.6327 - accuracy: 0.7729 - val_loss: 1.3526 - val_accuracy: 0.6050\n",
            "Epoch 11/20\n",
            "15/15 [==============================] - 128s 9s/step - loss: 0.6863 - accuracy: 0.7333 - val_loss: 1.2429 - val_accuracy: 0.6550\n",
            "Epoch 12/20\n",
            "15/15 [==============================] - 129s 9s/step - loss: 0.6374 - accuracy: 0.7917 - val_loss: 1.3899 - val_accuracy: 0.6250\n",
            "Epoch 13/20\n",
            "15/15 [==============================] - 130s 9s/step - loss: 0.7194 - accuracy: 0.7437 - val_loss: 1.0957 - val_accuracy: 0.6950\n",
            "Epoch 14/20\n",
            "15/15 [==============================] - 129s 9s/step - loss: 0.6669 - accuracy: 0.7750 - val_loss: 1.1970 - val_accuracy: 0.6750\n",
            "Epoch 15/20\n",
            "15/15 [==============================] - 128s 9s/step - loss: 0.6322 - accuracy: 0.7625 - val_loss: 1.4919 - val_accuracy: 0.6900\n",
            "Epoch 16/20\n",
            "15/15 [==============================] - 125s 8s/step - loss: 0.5715 - accuracy: 0.7896 - val_loss: 1.3396 - val_accuracy: 0.6750\n",
            "Epoch 17/20\n",
            "15/15 [==============================] - 128s 9s/step - loss: 0.5427 - accuracy: 0.7896 - val_loss: 1.3553 - val_accuracy: 0.7350\n",
            "Epoch 18/20\n",
            "15/15 [==============================] - 127s 9s/step - loss: 0.5468 - accuracy: 0.8125 - val_loss: 1.3634 - val_accuracy: 0.6550\n",
            "Epoch 19/20\n",
            "15/15 [==============================] - 128s 9s/step - loss: 0.4387 - accuracy: 0.8521 - val_loss: 1.6623 - val_accuracy: 0.6350\n",
            "Epoch 20/20\n",
            "15/15 [==============================] - 130s 9s/step - loss: 0.5410 - accuracy: 0.7958 - val_loss: 1.0652 - val_accuracy: 0.7250\n"
          ]
        }
      ]
    }
  ]
}