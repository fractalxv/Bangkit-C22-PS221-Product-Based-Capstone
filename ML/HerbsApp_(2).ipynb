{
  "nbformat": 4,
  "nbformat_minor": 0,
  "metadata": {
    "colab": {
      "name": "HerbsApp (2).ipynb",
      "provenance": [],
      "collapsed_sections": []
    },
    "kernelspec": {
      "name": "python3",
      "display_name": "Python 3"
    },
    "language_info": {
      "name": "python"
    },
    "accelerator": "GPU"
  },
  "cells": [
    {
      "cell_type": "markdown",
      "source": [
        "**Import data from drive**"
      ],
      "metadata": {
        "id": "FUO-rKdqiOOC"
      }
    },
    {
      "cell_type": "code",
      "execution_count": 1,
      "metadata": {
        "colab": {
          "base_uri": "https://localhost:8080/"
        },
        "id": "tE-ta8yb-mwk",
        "outputId": "ea489837-6fa2-4de0-cd21-b4e0c570faa0"
      },
      "outputs": [
        {
          "output_type": "stream",
          "name": "stdout",
          "text": [
            "Mounted at /content/gdrive\n",
            "gdrive\tsample_data\n"
          ]
        }
      ],
      "source": [
        "from google.colab import drive\n",
        "drive.mount('/content/gdrive')\n",
        "!ls"
      ]
    },
    {
      "cell_type": "markdown",
      "source": [
        "**Unzip file**"
      ],
      "metadata": {
        "id": "V27BHmNYiicP"
      }
    },
    {
      "cell_type": "code",
      "source": [
        "import zipfile\n",
        "\n",
        "# Unzip the dataset\n",
        "local_zip = './gdrive/MyDrive/DATASET_TANAMAN_HERBAL.zip'\n",
        "zip_ref = zipfile.ZipFile(local_zip, 'r')\n",
        "zip_ref.extractall('./herbs-plant')\n",
        "zip_ref.close()"
      ],
      "metadata": {
        "id": "Dy4HkHgSexqr"
      },
      "execution_count": 2,
      "outputs": []
    },
    {
      "cell_type": "markdown",
      "source": [
        "**define directories**"
      ],
      "metadata": {
        "id": "L8lysrpuumg6"
      }
    },
    {
      "cell_type": "code",
      "source": [
        "import os\n",
        "\n",
        "#train\n",
        "train_jambu_dir = os.path.join('./herbs-plant/Data_Training/Daun_Jambu_Biji')\n",
        "train_kari_dir = os.path.join('./herbs-plant/Data_Training/Daun_Kari')\n",
        "train_kemangi_dir = os.path.join('./herbs-plant/Data_Training/Daun_Kemangi')\n",
        "train_kunyit_dir = os.path.join('./herbs-plant/Data_Training/Daun_Kunyit')\n",
        "train_mint_dir = os.path.join('./herbs-plant/Data_Training/Daun_Mint')\n",
        "train_pepaya_dir = os.path.join('./herbs-plant/Data_Training/Daun_Pepaya')\n",
        "train_sirih_dir = os.path.join('./herbs-plant/Data_Training/Daun_Sirih')\n",
        "train_sirsak_dir = os.path.join('./herbs-plant/Data_Training/Daun_Sirsak')\n",
        "train_lidahbuaya_dir = os.path.join('./herbs-plant/Data_Training/Lidah_Buaya')\n",
        "train_tehhijau_dir = os.path.join('./herbs-plant/Data_Training/Teh_Hijau')\n",
        "\n",
        "#validation\n",
        "validation_jambu_dir = os.path.join('./herbs-plant/Data_Validation/Daun_Jambu_Biji')\n",
        "validation_kari_dir = os.path.join('./herbs-plant/Data_Validation/Daun_Kari')\n",
        "validation_kemangi_dir = os.path.join('./herbs-plant/Data_Validation/Daun_Kemangi')\n",
        "validation_kunyit_dir = os.path.join('./herbs-plant/Data_Validation/Daun_Kunyit')\n",
        "validation_mint_dir = os.path.join('./herbs-plant/Data_Validation/Daun_Mint')\n",
        "validation_pepaya_dir = os.path.join('./herbs-plant/Data_Validation/Daun_Pepaya')\n",
        "validation_sirih_dir = os.path.join('./herbs-plant/Data_Validation/Daun_Sirih')\n",
        "validation_sirsak_dir = os.path.join('./herbs-plant/Data_Validation/Daun_Sirsak')\n",
        "validation_lidahbuaya_dir = os.path.join('./herbs-plant/Data_Validation/Lidah_Buaya')\n",
        "validation_tehhijau_dir = os.path.join('./herbs-plant/Data_Validation/Teh_Hijau')"
      ],
      "metadata": {
        "id": "d93FCNQpiLyd"
      },
      "execution_count": 3,
      "outputs": []
    },
    {
      "cell_type": "code",
      "source": [
        "print('JAMBU BIJI TRAIN SET:', len(os.listdir(train_jambu_dir)))\n",
        "print('KARI TRAIN SET:', len(os.listdir(train_kari_dir)))\n",
        "print('KEMANGI TRAIN SET:', len(os.listdir(train_kemangi_dir)))\n",
        "print('KUNYIT TRAIN SET:', len(os.listdir(train_kunyit_dir)))\n",
        "print('MINT TRAIN SET:', len(os.listdir(train_mint_dir)))\n",
        "print('PEPAYA TRAIN SET:', len(os.listdir(train_pepaya_dir)))\n",
        "print('SIRIH TRAIN SET:', len(os.listdir(train_sirih_dir)))\n",
        "print('SIRSAK TRAIN SET:', len(os.listdir(train_sirsak_dir)))\n",
        "print('LIDAH BUAYA TRAIN SET:', len(os.listdir(train_lidahbuaya_dir)))\n",
        "print('TEH HIJAU TRAIN SET:', len(os.listdir(train_tehhijau_dir)))"
      ],
      "metadata": {
        "colab": {
          "base_uri": "https://localhost:8080/"
        },
        "id": "BVl-WGCyw9QY",
        "outputId": "63454916-4b98-44a8-eef8-810d55e3920d"
      },
      "execution_count": 4,
      "outputs": [
        {
          "output_type": "stream",
          "name": "stdout",
          "text": [
            "JAMBU BIJI TRAIN SET: 80\n",
            "KARI TRAIN SET: 80\n",
            "KEMANGI TRAIN SET: 80\n",
            "KUNYIT TRAIN SET: 80\n",
            "MINT TRAIN SET: 80\n",
            "PEPAYA TRAIN SET: 80\n",
            "SIRIH TRAIN SET: 80\n",
            "SIRSAK TRAIN SET: 80\n",
            "LIDAH BUAYA TRAIN SET: 80\n",
            "TEH HIJAU TRAIN SET: 80\n"
          ]
        }
      ]
    },
    {
      "cell_type": "code",
      "source": [
        "print('JAMBU BIJI VALIDATION SET:', len(os.listdir(validation_jambu_dir)))\n",
        "print('KARI VALIDATION SET:', len(os.listdir(validation_kari_dir)))\n",
        "print('KEMANGI VALIDATION SET:', len(os.listdir(validation_kemangi_dir)))\n",
        "print('KUNYIT VALIDATION SET:', len(os.listdir(validation_kunyit_dir)))\n",
        "print('MINT VALIDATION SET:', len(os.listdir(validation_mint_dir)))\n",
        "print('PEPAYA VALIDATION SET:', len(os.listdir(validation_pepaya_dir)))\n",
        "print('SIRIH VALIDATION SET:', len(os.listdir(validation_sirih_dir)))\n",
        "print('SIRSAK VALIDATION SET:', len(os.listdir(validation_sirsak_dir)))\n",
        "print('LIDAH VALIDATION TRAIN SET:', len(os.listdir(validation_lidahbuaya_dir)))\n",
        "print('TEH HIJAU VALIDATION SET:', len(os.listdir(validation_tehhijau_dir)))"
      ],
      "metadata": {
        "colab": {
          "base_uri": "https://localhost:8080/"
        },
        "id": "AWvJ557Lxy8K",
        "outputId": "acd20746-a75f-4162-8a22-7d9d2d0a31b5"
      },
      "execution_count": 5,
      "outputs": [
        {
          "output_type": "stream",
          "name": "stdout",
          "text": [
            "JAMBU BIJI VALIDATION SET: 20\n",
            "KARI VALIDATION SET: 20\n",
            "KEMANGI VALIDATION SET: 20\n",
            "KUNYIT VALIDATION SET: 20\n",
            "MINT VALIDATION SET: 20\n",
            "PEPAYA VALIDATION SET: 20\n",
            "SIRIH VALIDATION SET: 20\n",
            "SIRSAK VALIDATION SET: 20\n",
            "LIDAH VALIDATION TRAIN SET: 20\n",
            "TEH HIJAU VALIDATION SET: 20\n"
          ]
        }
      ]
    },
    {
      "cell_type": "markdown",
      "source": [
        "**check data**"
      ],
      "metadata": {
        "id": "TO5upRnEyRpr"
      }
    },
    {
      "cell_type": "code",
      "source": [
        "#train data\n",
        "train_jambu_names = os.listdir(train_jambu_dir)\n",
        "print(f'JAMBU BIJI TRAIN SET: {train_jambu_names[:10]}')\n",
        "\n",
        "train_kari_names = os.listdir(train_kari_dir)\n",
        "print(f'KARI TRAIN SET: {train_kari_names[:10]}')\n",
        "\n",
        "train_kemangi_names = os.listdir(train_kemangi_dir)\n",
        "print(f'KEMANGI TRAIN SET: {train_kemangi_names[:10]}')\n",
        "\n",
        "train_kunyit_names = os.listdir(train_kunyit_dir)\n",
        "print(f'KUNYIT TRAIN SET: {train_kunyit_names[:10]}')\n",
        "\n",
        "train_mint_names = os.listdir(train_mint_dir)\n",
        "print(f'MINT TRAIN SET: {train_mint_names[:10]}')\n",
        "\n",
        "train_pepaya_names = os.listdir(train_pepaya_dir)\n",
        "print(f'PEPAYA TRAIN SET: {train_pepaya_names[:10]}')\n",
        "\n",
        "train_sirih_names = os.listdir(train_sirih_dir)\n",
        "print(f'SIRIH TRAIN SET: {train_sirih_names[:10]}')\n",
        "\n",
        "train_sirsak_names = os.listdir(train_sirsak_dir)\n",
        "print(f'SIRIH TRAIN SET: {train_sirsak_names[:10]}')\n",
        "\n",
        "train_lidahbuaya_names = os.listdir(train_lidahbuaya_dir)\n",
        "print(f'LIDAH BUAYA TRAIN SET: {train_lidahbuaya_names[:10]}')\n",
        "\n",
        "train_tehhijau_names = os.listdir(train_tehhijau_dir)\n",
        "print(f'TEH HIJAU TRAIN SET: {train_tehhijau_names[:10]}')"
      ],
      "metadata": {
        "colab": {
          "base_uri": "https://localhost:8080/"
        },
        "id": "wGTx7U_1yOn-",
        "outputId": "171e40ea-e08b-4344-ea68-d6f51583fbf5"
      },
      "execution_count": 6,
      "outputs": [
        {
          "output_type": "stream",
          "name": "stdout",
          "text": [
            "JAMBU BIJI TRAIN SET: ['jambu biji (10).JPG', 'jambu biji (47).JPG', 'jambu biji (48).JPG', 'jambu biji (40).JPG', 'jambu biji (73).JPG', 'jambu biji (35).JPG', 'jambu biji (72).JPG', 'jambu biji (13).JPG', 'jambu biji (25).JPG', 'jambu biji (54).JPG']\n",
            "KARI TRAIN SET: ['KARI (10).JPG', 'KARI (4).JPG', 'KARI (5).JPG', 'KARI (17).JPG', 'KARI (27).JPG', 'KARI (58).JPG', 'KARI (77).JPG', 'KARI (39).JPG', 'KARI (15).JPG', 'KARI (9).JPG']\n",
            "KEMANGI TRAIN SET: ['daun kemangi (56).jpg', 'daun kemangi (30).jpg', 'daun kemangi (34).jpg', 'daun kemangi (65).jpg', 'daun kemangi (2).jpg', 'daun kemangi (64).jpg', 'daun kemangi (23).jpg', 'daun kemangi (49).jpg', 'daun kemangi (40).jpg', 'daun kemangi (48).jpg']\n",
            "KUNYIT TRAIN SET: ['kunyit (6).JPG', 'kunyit (31).JPG', 'kunyit (38).JPG', 'kunyit (10).JPG', 'kunyit (63).JPG', 'kunyit (55).JPG', 'kunyit (24).JPG', 'kunyit (56).JPG', 'kunyit (11).JPG', 'kunyit (2).JPG']\n",
            "MINT TRAIN SET: ['mint (28).jpg', 'mint (35).jpg', 'mint (72).jpg', 'mint (76).jpg', 'mint (70).jpg', 'mint (45).jpg', 'mint (58).jpg', 'mint (54).jpg', 'mint (5).jpg', 'mint (34).jpg']\n",
            "PEPAYA TRAIN SET: ['pepaya (54).JPG', 'pepaya (67).JPG', 'pepaya (22).JPG', 'pepaya (60).JPG', 'pepaya (61).JPG', 'pepaya (31).JPG', 'pepaya (64).JPG', 'pepaya (35).JPG', 'pepaya (48).JPG', 'pepaya (72).JPG']\n",
            "SIRIH TRAIN SET: ['Sirih (27).jpg', 'Sirih (64).jpg', 'Sirih (66).jpg', 'Sirih (7).jpg', 'Sirih (11).jpg', 'Sirih (78).jpg', 'Sirih (17).jpg', 'Sirih (70).jpg', 'Sirih (22).jpg', 'Sirih (16).jpg']\n",
            "SIRIH TRAIN SET: ['sirsakk (17).JPG', 'sirsakk (45).JPG', 'sirsakk (40).JPG', 'sirsakk (61).JPG', 'sirsakk (37).JPG', 'sirsakk (44).JPG', 'sirsakk (11).JPG', 'sirsakk (18).JPG', 'sirsakk (29).JPG', 'sirsakk (34).JPG']\n",
            "LIDAH BUAYA TRAIN SET: ['lidah buaya (61).JPG', 'lidah buaya (23).jpg', 'lidah buaya (34).JPG', 'lidah buaya (27).jpg', 'lidah buaya (39).JPG', 'lidah buaya (19).JPG', 'lidah buaya (58).JPG', 'lidah buaya (55).JPG', 'lidah buaya (24).jpg', 'lidah buaya (57).JPG']\n",
            "TEH HIJAU TRAIN SET: ['Teh Hijauu (75).jpg', 'Teh Hijauu (29).jpg', 'Teh Hijauu (21).jpg', 'Teh Hijauu (79).jpg', 'Teh Hijauu (32).jpg', 'Teh Hijauu (33).jpg', 'Teh Hijauu (5).jpg', 'Teh Hijauu (63).jpg', 'Teh Hijauu (34).jpg', 'Teh Hijauu (15).jpg']\n"
          ]
        }
      ]
    },
    {
      "cell_type": "code",
      "source": [
        "#validation data\n",
        "validation_jambu_names = os.listdir(validation_jambu_dir)\n",
        "print(f'JAMBU BIJI VAL SET: {train_jambu_names[:10]}')\n",
        "\n",
        "validation_kari_names = os.listdir(validation_kari_dir)\n",
        "print(f'KARI VAL SET: {validation_kari_names[:10]}')\n",
        "\n",
        "validation_kemangi_names = os.listdir(validation_kemangi_dir)\n",
        "print(f'KEMANGI VAL SET: {validation_kemangi_names[:10]}')\n",
        "\n",
        "validation_kunyit_names = os.listdir(validation_kunyit_dir)\n",
        "print(f'KUNYIT VAL SET: {validation_kunyit_names[:10]}')\n",
        "\n",
        "validation_mint_names = os.listdir(validation_mint_dir)\n",
        "print(f'MINT VAL SET: {validation_mint_names[:10]}')\n",
        "\n",
        "validation_pepaya_names = os.listdir(validation_pepaya_dir)\n",
        "print(f'PEPAYA VAL SET: {validation_pepaya_names[:10]}')\n",
        "\n",
        "validation_sirih_names = os.listdir(validation_sirih_dir)\n",
        "print(f'SIRIH VAL SET: {validation_sirih_names[:10]}')\n",
        "\n",
        "validation_sirsak_names = os.listdir(validation_sirsak_dir)\n",
        "print(f'SIRIH VAL SET: {validation_sirsak_names[:10]}')\n",
        "\n",
        "validation_lidahbuaya_names = os.listdir(validation_lidahbuaya_dir)\n",
        "print(f'LIDAH BUAYA VAL SET: {validation_lidahbuaya_names[:10]}')\n",
        "\n",
        "validation_tehhijau_names = os.listdir(validation_tehhijau_dir)\n",
        "print(f'TEH HIJAU VAL SET: {validation_tehhijau_names[:10]}')"
      ],
      "metadata": {
        "colab": {
          "base_uri": "https://localhost:8080/"
        },
        "id": "RJ364fiEz6nX",
        "outputId": "be4fdc41-62c8-4bdb-b112-6e509d60a7fe"
      },
      "execution_count": 7,
      "outputs": [
        {
          "output_type": "stream",
          "name": "stdout",
          "text": [
            "JAMBU BIJI VAL SET: ['jambu biji (10).JPG', 'jambu biji (47).JPG', 'jambu biji (48).JPG', 'jambu biji (40).JPG', 'jambu biji (73).JPG', 'jambu biji (35).JPG', 'jambu biji (72).JPG', 'jambu biji (13).JPG', 'jambu biji (25).JPG', 'jambu biji (54).JPG']\n",
            "KARI VAL SET: ['KARI (98).JPG', 'KARI (86).JPG', 'KARI (100).JPG', 'KARI (83).JPG', 'KARI (85).JPG', 'KARI (95).JPG', 'KARI (93).JPG', 'KARI (81).JPG', 'KARI (89).JPG', 'KARI (88).JPG']\n",
            "KEMANGI VAL SET: ['daun kemangi (95).jpg', 'daun kemangi (83).jpg', 'daun kemangi (92).jpg', 'daun kemangi (90).jpg', 'daun kemangi (100).jpg', 'daun kemangi (94).jpg', 'daun kemangi (81).jpg', 'daun kemangi (82).jpg', 'daun kemangi (96).jpg', 'daun kemangi (93).jpg']\n",
            "KUNYIT VAL SET: ['kunyit (88).JPG', 'kunyit (83).JPG', 'kunyit (84).JPG', 'kunyit (96).JPG', 'kunyit (99).JPG', 'kunyit (85).JPG', 'kunyit (93).JPG', 'kunyit (81).JPG', 'kunyit (95).JPG', 'kunyit (86).JPG']\n",
            "MINT VAL SET: ['mint (81).jpg', 'mint (96).jpg', 'mint (84).jpg', 'mint (89).jpg', 'mint (99).jpg', 'mint (92).jpg', 'mint (90).jpg', 'mint (87).jpg', 'mint (95).jpg', 'mint (91).jpg']\n",
            "PEPAYA VAL SET: ['pepaya (98).JPG', 'pepaya (87).JPG', 'pepaya (89).JPG', 'pepaya (100).JPG', 'pepaya (95).JPG', 'pepaya (93).JPG', 'pepaya (91).JPG', 'pepaya (83).JPG', 'pepaya (97).JPG', 'pepaya (99).JPG']\n",
            "SIRIH VAL SET: ['Sirih (94).jpg', 'Sirih (89).jpg', 'Sirih (100).jpg', 'Sirih (97).jpg', 'Sirih (95).jpg', 'Sirih (85).jpg', 'Sirih (88).jpg', 'Sirih (90).jpg', 'Sirih (84).jpg', 'Sirih (93).jpg']\n",
            "SIRIH VAL SET: ['sirsakk (95).JPG', 'sirsakk (91).JPG', 'sirsakk (89).JPG', 'sirsakk (84).JPG', 'sirsakk (92).JPG', 'sirsakk (85).JPG', 'sirsakk (82).JPG', 'sirsakk (99).JPG', 'sirsakk (87).JPG', 'sirsakk (81).JPG']\n",
            "LIDAH BUAYA VAL SET: ['lidah buaya (88).jpg', 'lidah buaya (87).jpg', 'lidah buaya (83).jpg', 'lidah buaya (97).jpg', 'lidah buaya (98).jpg', 'lidah buaya (81).jpg', 'lidah buaya (82).jpg', 'lidah buaya (92).jpg', 'lidah buaya (89).jpg', 'lidah buaya (85).jpg']\n",
            "TEH HIJAU VAL SET: ['Teh Hijauu (82).jpg', 'Teh Hijauu (90).jpg', 'Teh Hijauu (81).jpg', 'Teh Hijauu (88).jpg', 'Teh Hijauu (92).jpg', 'Teh Hijauu (98).jpg', 'Teh Hijauu (91).jpg', 'Teh Hijauu (89).jpg', 'Teh Hijauu (85).jpg', 'Teh Hijauu (99).jpg']\n"
          ]
        }
      ]
    },
    {
      "cell_type": "markdown",
      "source": [
        "**data augmentation**"
      ],
      "metadata": {
        "id": "UF2rPXHU2S_w"
      }
    },
    {
      "cell_type": "code",
      "source": [
        "import tensorflow as tf\n",
        "import keras_preprocessing\n",
        "from keras_preprocessing import image\n",
        "from keras_preprocessing.image import ImageDataGenerator"
      ],
      "metadata": {
        "id": "DxtqjFhx2Wmr"
      },
      "execution_count": 8,
      "outputs": []
    },
    {
      "cell_type": "code",
      "source": [
        "dir_training = \"./herbs-plant/Data_Training/\"\n",
        "\n",
        "training_datagen = ImageDataGenerator(\n",
        "      rescale = 1.0/255.,\n",
        "      featurewise_center=False,  \n",
        "      samplewise_center=False,  \n",
        "      featurewise_std_normalization=False,  \n",
        "      samplewise_std_normalization=False,  \n",
        "      zca_whitening=False,\n",
        "\t    rotation_range=30,\n",
        "      width_shift_range=0.1,\n",
        "      height_shift_range=0.1,\n",
        "      shear_range=0.3,\n",
        "      zoom_range=0.1,\n",
        "      horizontal_flip=True,\n",
        "      vertical_flip=True,\n",
        "      fill_mode='nearest')\n",
        "\n",
        "train_generator = training_datagen.flow_from_directory(\n",
        "\tdir_training,\n",
        "\ttarget_size=(224,224),\n",
        "\tclass_mode='categorical'\n",
        ")"
      ],
      "metadata": {
        "colab": {
          "base_uri": "https://localhost:8080/"
        },
        "id": "o0WopHNK2fnX",
        "outputId": "7509f874-cee3-40a9-b951-54b02312755a"
      },
      "execution_count": 12,
      "outputs": [
        {
          "output_type": "stream",
          "name": "stdout",
          "text": [
            "Found 800 images belonging to 11 classes.\n"
          ]
        }
      ]
    },
    {
      "cell_type": "code",
      "source": [
        "dir_validation = \"./herbs-plant/Data_Validation/\"\n",
        "\n",
        "validation_datagen = ImageDataGenerator(rescale = 1.0/255.)\n",
        "\n",
        "validation_generator = validation_datagen.flow_from_directory(\n",
        "\tdir_validation,\n",
        "\ttarget_size=(224,224),\n",
        "\tclass_mode='categorical',\n",
        ")"
      ],
      "metadata": {
        "colab": {
          "base_uri": "https://localhost:8080/"
        },
        "id": "iwVnjTQy3xYD",
        "outputId": "17a17164-1f1b-44c0-8610-72ed0c5ef7cc"
      },
      "execution_count": 13,
      "outputs": [
        {
          "output_type": "stream",
          "name": "stdout",
          "text": [
            "Found 200 images belonging to 11 classes.\n"
          ]
        }
      ]
    },
    {
      "cell_type": "code",
      "source": [
        "from tensorflow.keras.applications.xception import Xception\n",
        "from tensorflow.keras.preprocessing import image\n",
        "from tensorflow.keras.models import Model\n",
        "from tensorflow.keras.layers import Dropout, Dense, Flatten\n",
        "from tensorflow.keras.optimizers import Adam\n",
        "\n",
        "model = Xception(weights='imagenet', input_shape = (224,224,3), include_top=False, pooling = 'avg')\n",
        "\n",
        "x = model.output\n",
        "\n",
        "x = Flatten()(x)\n",
        "x = Dense(1024, activation='relu')(x)\n",
        "x = Dropout(0.2)(x)\n",
        "x = Dense(64, activation='relu')(x)\n",
        "x = Dropout(0.2)(x)\n",
        "x = Dense(16, activation='relu')(x)\n",
        "x = Dense(11, activation='softmax')(x)\n",
        "\n",
        "model_herbs = Model(inputs=model.input, outputs=x)\n",
        "\n",
        "for layer in model.layers:\n",
        "    layer.trainable = False\n",
        "\n",
        "model_herbs.summary()\n",
        "\n",
        "model_herbs.compile(optimizer='adam', loss='categorical_crossentropy', metrics = ['accuracy'])\n",
        "\n",
        "history = model_herbs.fit(train_generator, epochs=15, steps_per_epoch=25, validation_data = validation_generator, verbose = 1)"
      ],
      "metadata": {
        "id": "A76Lmvrd4JK4",
        "colab": {
          "base_uri": "https://localhost:8080/"
        },
        "outputId": "ee904627-c637-4ba8-a920-367a056e040b"
      },
      "execution_count": 14,
      "outputs": [
        {
          "output_type": "stream",
          "name": "stdout",
          "text": [
            "Model: \"model_1\"\n",
            "__________________________________________________________________________________________________\n",
            " Layer (type)                   Output Shape         Param #     Connected to                     \n",
            "==================================================================================================\n",
            " input_2 (InputLayer)           [(None, 224, 224, 3  0           []                               \n",
            "                                )]                                                                \n",
            "                                                                                                  \n",
            " block1_conv1 (Conv2D)          (None, 111, 111, 32  864         ['input_2[0][0]']                \n",
            "                                )                                                                 \n",
            "                                                                                                  \n",
            " block1_conv1_bn (BatchNormaliz  (None, 111, 111, 32  128        ['block1_conv1[0][0]']           \n",
            " ation)                         )                                                                 \n",
            "                                                                                                  \n",
            " block1_conv1_act (Activation)  (None, 111, 111, 32  0           ['block1_conv1_bn[0][0]']        \n",
            "                                )                                                                 \n",
            "                                                                                                  \n",
            " block1_conv2 (Conv2D)          (None, 109, 109, 64  18432       ['block1_conv1_act[0][0]']       \n",
            "                                )                                                                 \n",
            "                                                                                                  \n",
            " block1_conv2_bn (BatchNormaliz  (None, 109, 109, 64  256        ['block1_conv2[0][0]']           \n",
            " ation)                         )                                                                 \n",
            "                                                                                                  \n",
            " block1_conv2_act (Activation)  (None, 109, 109, 64  0           ['block1_conv2_bn[0][0]']        \n",
            "                                )                                                                 \n",
            "                                                                                                  \n",
            " block2_sepconv1 (SeparableConv  (None, 109, 109, 12  8768       ['block1_conv2_act[0][0]']       \n",
            " 2D)                            8)                                                                \n",
            "                                                                                                  \n",
            " block2_sepconv1_bn (BatchNorma  (None, 109, 109, 12  512        ['block2_sepconv1[0][0]']        \n",
            " lization)                      8)                                                                \n",
            "                                                                                                  \n",
            " block2_sepconv2_act (Activatio  (None, 109, 109, 12  0          ['block2_sepconv1_bn[0][0]']     \n",
            " n)                             8)                                                                \n",
            "                                                                                                  \n",
            " block2_sepconv2 (SeparableConv  (None, 109, 109, 12  17536      ['block2_sepconv2_act[0][0]']    \n",
            " 2D)                            8)                                                                \n",
            "                                                                                                  \n",
            " block2_sepconv2_bn (BatchNorma  (None, 109, 109, 12  512        ['block2_sepconv2[0][0]']        \n",
            " lization)                      8)                                                                \n",
            "                                                                                                  \n",
            " conv2d_4 (Conv2D)              (None, 55, 55, 128)  8192        ['block1_conv2_act[0][0]']       \n",
            "                                                                                                  \n",
            " block2_pool (MaxPooling2D)     (None, 55, 55, 128)  0           ['block2_sepconv2_bn[0][0]']     \n",
            "                                                                                                  \n",
            " batch_normalization_4 (BatchNo  (None, 55, 55, 128)  512        ['conv2d_4[0][0]']               \n",
            " rmalization)                                                                                     \n",
            "                                                                                                  \n",
            " add_12 (Add)                   (None, 55, 55, 128)  0           ['block2_pool[0][0]',            \n",
            "                                                                  'batch_normalization_4[0][0]']  \n",
            "                                                                                                  \n",
            " block3_sepconv1_act (Activatio  (None, 55, 55, 128)  0          ['add_12[0][0]']                 \n",
            " n)                                                                                               \n",
            "                                                                                                  \n",
            " block3_sepconv1 (SeparableConv  (None, 55, 55, 256)  33920      ['block3_sepconv1_act[0][0]']    \n",
            " 2D)                                                                                              \n",
            "                                                                                                  \n",
            " block3_sepconv1_bn (BatchNorma  (None, 55, 55, 256)  1024       ['block3_sepconv1[0][0]']        \n",
            " lization)                                                                                        \n",
            "                                                                                                  \n",
            " block3_sepconv2_act (Activatio  (None, 55, 55, 256)  0          ['block3_sepconv1_bn[0][0]']     \n",
            " n)                                                                                               \n",
            "                                                                                                  \n",
            " block3_sepconv2 (SeparableConv  (None, 55, 55, 256)  67840      ['block3_sepconv2_act[0][0]']    \n",
            " 2D)                                                                                              \n",
            "                                                                                                  \n",
            " block3_sepconv2_bn (BatchNorma  (None, 55, 55, 256)  1024       ['block3_sepconv2[0][0]']        \n",
            " lization)                                                                                        \n",
            "                                                                                                  \n",
            " conv2d_5 (Conv2D)              (None, 28, 28, 256)  32768       ['add_12[0][0]']                 \n",
            "                                                                                                  \n",
            " block3_pool (MaxPooling2D)     (None, 28, 28, 256)  0           ['block3_sepconv2_bn[0][0]']     \n",
            "                                                                                                  \n",
            " batch_normalization_5 (BatchNo  (None, 28, 28, 256)  1024       ['conv2d_5[0][0]']               \n",
            " rmalization)                                                                                     \n",
            "                                                                                                  \n",
            " add_13 (Add)                   (None, 28, 28, 256)  0           ['block3_pool[0][0]',            \n",
            "                                                                  'batch_normalization_5[0][0]']  \n",
            "                                                                                                  \n",
            " block4_sepconv1_act (Activatio  (None, 28, 28, 256)  0          ['add_13[0][0]']                 \n",
            " n)                                                                                               \n",
            "                                                                                                  \n",
            " block4_sepconv1 (SeparableConv  (None, 28, 28, 728)  188672     ['block4_sepconv1_act[0][0]']    \n",
            " 2D)                                                                                              \n",
            "                                                                                                  \n",
            " block4_sepconv1_bn (BatchNorma  (None, 28, 28, 728)  2912       ['block4_sepconv1[0][0]']        \n",
            " lization)                                                                                        \n",
            "                                                                                                  \n",
            " block4_sepconv2_act (Activatio  (None, 28, 28, 728)  0          ['block4_sepconv1_bn[0][0]']     \n",
            " n)                                                                                               \n",
            "                                                                                                  \n",
            " block4_sepconv2 (SeparableConv  (None, 28, 28, 728)  536536     ['block4_sepconv2_act[0][0]']    \n",
            " 2D)                                                                                              \n",
            "                                                                                                  \n",
            " block4_sepconv2_bn (BatchNorma  (None, 28, 28, 728)  2912       ['block4_sepconv2[0][0]']        \n",
            " lization)                                                                                        \n",
            "                                                                                                  \n",
            " conv2d_6 (Conv2D)              (None, 14, 14, 728)  186368      ['add_13[0][0]']                 \n",
            "                                                                                                  \n",
            " block4_pool (MaxPooling2D)     (None, 14, 14, 728)  0           ['block4_sepconv2_bn[0][0]']     \n",
            "                                                                                                  \n",
            " batch_normalization_6 (BatchNo  (None, 14, 14, 728)  2912       ['conv2d_6[0][0]']               \n",
            " rmalization)                                                                                     \n",
            "                                                                                                  \n",
            " add_14 (Add)                   (None, 14, 14, 728)  0           ['block4_pool[0][0]',            \n",
            "                                                                  'batch_normalization_6[0][0]']  \n",
            "                                                                                                  \n",
            " block5_sepconv1_act (Activatio  (None, 14, 14, 728)  0          ['add_14[0][0]']                 \n",
            " n)                                                                                               \n",
            "                                                                                                  \n",
            " block5_sepconv1 (SeparableConv  (None, 14, 14, 728)  536536     ['block5_sepconv1_act[0][0]']    \n",
            " 2D)                                                                                              \n",
            "                                                                                                  \n",
            " block5_sepconv1_bn (BatchNorma  (None, 14, 14, 728)  2912       ['block5_sepconv1[0][0]']        \n",
            " lization)                                                                                        \n",
            "                                                                                                  \n",
            " block5_sepconv2_act (Activatio  (None, 14, 14, 728)  0          ['block5_sepconv1_bn[0][0]']     \n",
            " n)                                                                                               \n",
            "                                                                                                  \n",
            " block5_sepconv2 (SeparableConv  (None, 14, 14, 728)  536536     ['block5_sepconv2_act[0][0]']    \n",
            " 2D)                                                                                              \n",
            "                                                                                                  \n",
            " block5_sepconv2_bn (BatchNorma  (None, 14, 14, 728)  2912       ['block5_sepconv2[0][0]']        \n",
            " lization)                                                                                        \n",
            "                                                                                                  \n",
            " block5_sepconv3_act (Activatio  (None, 14, 14, 728)  0          ['block5_sepconv2_bn[0][0]']     \n",
            " n)                                                                                               \n",
            "                                                                                                  \n",
            " block5_sepconv3 (SeparableConv  (None, 14, 14, 728)  536536     ['block5_sepconv3_act[0][0]']    \n",
            " 2D)                                                                                              \n",
            "                                                                                                  \n",
            " block5_sepconv3_bn (BatchNorma  (None, 14, 14, 728)  2912       ['block5_sepconv3[0][0]']        \n",
            " lization)                                                                                        \n",
            "                                                                                                  \n",
            " add_15 (Add)                   (None, 14, 14, 728)  0           ['block5_sepconv3_bn[0][0]',     \n",
            "                                                                  'add_14[0][0]']                 \n",
            "                                                                                                  \n",
            " block6_sepconv1_act (Activatio  (None, 14, 14, 728)  0          ['add_15[0][0]']                 \n",
            " n)                                                                                               \n",
            "                                                                                                  \n",
            " block6_sepconv1 (SeparableConv  (None, 14, 14, 728)  536536     ['block6_sepconv1_act[0][0]']    \n",
            " 2D)                                                                                              \n",
            "                                                                                                  \n",
            " block6_sepconv1_bn (BatchNorma  (None, 14, 14, 728)  2912       ['block6_sepconv1[0][0]']        \n",
            " lization)                                                                                        \n",
            "                                                                                                  \n",
            " block6_sepconv2_act (Activatio  (None, 14, 14, 728)  0          ['block6_sepconv1_bn[0][0]']     \n",
            " n)                                                                                               \n",
            "                                                                                                  \n",
            " block6_sepconv2 (SeparableConv  (None, 14, 14, 728)  536536     ['block6_sepconv2_act[0][0]']    \n",
            " 2D)                                                                                              \n",
            "                                                                                                  \n",
            " block6_sepconv2_bn (BatchNorma  (None, 14, 14, 728)  2912       ['block6_sepconv2[0][0]']        \n",
            " lization)                                                                                        \n",
            "                                                                                                  \n",
            " block6_sepconv3_act (Activatio  (None, 14, 14, 728)  0          ['block6_sepconv2_bn[0][0]']     \n",
            " n)                                                                                               \n",
            "                                                                                                  \n",
            " block6_sepconv3 (SeparableConv  (None, 14, 14, 728)  536536     ['block6_sepconv3_act[0][0]']    \n",
            " 2D)                                                                                              \n",
            "                                                                                                  \n",
            " block6_sepconv3_bn (BatchNorma  (None, 14, 14, 728)  2912       ['block6_sepconv3[0][0]']        \n",
            " lization)                                                                                        \n",
            "                                                                                                  \n",
            " add_16 (Add)                   (None, 14, 14, 728)  0           ['block6_sepconv3_bn[0][0]',     \n",
            "                                                                  'add_15[0][0]']                 \n",
            "                                                                                                  \n",
            " block7_sepconv1_act (Activatio  (None, 14, 14, 728)  0          ['add_16[0][0]']                 \n",
            " n)                                                                                               \n",
            "                                                                                                  \n",
            " block7_sepconv1 (SeparableConv  (None, 14, 14, 728)  536536     ['block7_sepconv1_act[0][0]']    \n",
            " 2D)                                                                                              \n",
            "                                                                                                  \n",
            " block7_sepconv1_bn (BatchNorma  (None, 14, 14, 728)  2912       ['block7_sepconv1[0][0]']        \n",
            " lization)                                                                                        \n",
            "                                                                                                  \n",
            " block7_sepconv2_act (Activatio  (None, 14, 14, 728)  0          ['block7_sepconv1_bn[0][0]']     \n",
            " n)                                                                                               \n",
            "                                                                                                  \n",
            " block7_sepconv2 (SeparableConv  (None, 14, 14, 728)  536536     ['block7_sepconv2_act[0][0]']    \n",
            " 2D)                                                                                              \n",
            "                                                                                                  \n",
            " block7_sepconv2_bn (BatchNorma  (None, 14, 14, 728)  2912       ['block7_sepconv2[0][0]']        \n",
            " lization)                                                                                        \n",
            "                                                                                                  \n",
            " block7_sepconv3_act (Activatio  (None, 14, 14, 728)  0          ['block7_sepconv2_bn[0][0]']     \n",
            " n)                                                                                               \n",
            "                                                                                                  \n",
            " block7_sepconv3 (SeparableConv  (None, 14, 14, 728)  536536     ['block7_sepconv3_act[0][0]']    \n",
            " 2D)                                                                                              \n",
            "                                                                                                  \n",
            " block7_sepconv3_bn (BatchNorma  (None, 14, 14, 728)  2912       ['block7_sepconv3[0][0]']        \n",
            " lization)                                                                                        \n",
            "                                                                                                  \n",
            " add_17 (Add)                   (None, 14, 14, 728)  0           ['block7_sepconv3_bn[0][0]',     \n",
            "                                                                  'add_16[0][0]']                 \n",
            "                                                                                                  \n",
            " block8_sepconv1_act (Activatio  (None, 14, 14, 728)  0          ['add_17[0][0]']                 \n",
            " n)                                                                                               \n",
            "                                                                                                  \n",
            " block8_sepconv1 (SeparableConv  (None, 14, 14, 728)  536536     ['block8_sepconv1_act[0][0]']    \n",
            " 2D)                                                                                              \n",
            "                                                                                                  \n",
            " block8_sepconv1_bn (BatchNorma  (None, 14, 14, 728)  2912       ['block8_sepconv1[0][0]']        \n",
            " lization)                                                                                        \n",
            "                                                                                                  \n",
            " block8_sepconv2_act (Activatio  (None, 14, 14, 728)  0          ['block8_sepconv1_bn[0][0]']     \n",
            " n)                                                                                               \n",
            "                                                                                                  \n",
            " block8_sepconv2 (SeparableConv  (None, 14, 14, 728)  536536     ['block8_sepconv2_act[0][0]']    \n",
            " 2D)                                                                                              \n",
            "                                                                                                  \n",
            " block8_sepconv2_bn (BatchNorma  (None, 14, 14, 728)  2912       ['block8_sepconv2[0][0]']        \n",
            " lization)                                                                                        \n",
            "                                                                                                  \n",
            " block8_sepconv3_act (Activatio  (None, 14, 14, 728)  0          ['block8_sepconv2_bn[0][0]']     \n",
            " n)                                                                                               \n",
            "                                                                                                  \n",
            " block8_sepconv3 (SeparableConv  (None, 14, 14, 728)  536536     ['block8_sepconv3_act[0][0]']    \n",
            " 2D)                                                                                              \n",
            "                                                                                                  \n",
            " block8_sepconv3_bn (BatchNorma  (None, 14, 14, 728)  2912       ['block8_sepconv3[0][0]']        \n",
            " lization)                                                                                        \n",
            "                                                                                                  \n",
            " add_18 (Add)                   (None, 14, 14, 728)  0           ['block8_sepconv3_bn[0][0]',     \n",
            "                                                                  'add_17[0][0]']                 \n",
            "                                                                                                  \n",
            " block9_sepconv1_act (Activatio  (None, 14, 14, 728)  0          ['add_18[0][0]']                 \n",
            " n)                                                                                               \n",
            "                                                                                                  \n",
            " block9_sepconv1 (SeparableConv  (None, 14, 14, 728)  536536     ['block9_sepconv1_act[0][0]']    \n",
            " 2D)                                                                                              \n",
            "                                                                                                  \n",
            " block9_sepconv1_bn (BatchNorma  (None, 14, 14, 728)  2912       ['block9_sepconv1[0][0]']        \n",
            " lization)                                                                                        \n",
            "                                                                                                  \n",
            " block9_sepconv2_act (Activatio  (None, 14, 14, 728)  0          ['block9_sepconv1_bn[0][0]']     \n",
            " n)                                                                                               \n",
            "                                                                                                  \n",
            " block9_sepconv2 (SeparableConv  (None, 14, 14, 728)  536536     ['block9_sepconv2_act[0][0]']    \n",
            " 2D)                                                                                              \n",
            "                                                                                                  \n",
            " block9_sepconv2_bn (BatchNorma  (None, 14, 14, 728)  2912       ['block9_sepconv2[0][0]']        \n",
            " lization)                                                                                        \n",
            "                                                                                                  \n",
            " block9_sepconv3_act (Activatio  (None, 14, 14, 728)  0          ['block9_sepconv2_bn[0][0]']     \n",
            " n)                                                                                               \n",
            "                                                                                                  \n",
            " block9_sepconv3 (SeparableConv  (None, 14, 14, 728)  536536     ['block9_sepconv3_act[0][0]']    \n",
            " 2D)                                                                                              \n",
            "                                                                                                  \n",
            " block9_sepconv3_bn (BatchNorma  (None, 14, 14, 728)  2912       ['block9_sepconv3[0][0]']        \n",
            " lization)                                                                                        \n",
            "                                                                                                  \n",
            " add_19 (Add)                   (None, 14, 14, 728)  0           ['block9_sepconv3_bn[0][0]',     \n",
            "                                                                  'add_18[0][0]']                 \n",
            "                                                                                                  \n",
            " block10_sepconv1_act (Activati  (None, 14, 14, 728)  0          ['add_19[0][0]']                 \n",
            " on)                                                                                              \n",
            "                                                                                                  \n",
            " block10_sepconv1 (SeparableCon  (None, 14, 14, 728)  536536     ['block10_sepconv1_act[0][0]']   \n",
            " v2D)                                                                                             \n",
            "                                                                                                  \n",
            " block10_sepconv1_bn (BatchNorm  (None, 14, 14, 728)  2912       ['block10_sepconv1[0][0]']       \n",
            " alization)                                                                                       \n",
            "                                                                                                  \n",
            " block10_sepconv2_act (Activati  (None, 14, 14, 728)  0          ['block10_sepconv1_bn[0][0]']    \n",
            " on)                                                                                              \n",
            "                                                                                                  \n",
            " block10_sepconv2 (SeparableCon  (None, 14, 14, 728)  536536     ['block10_sepconv2_act[0][0]']   \n",
            " v2D)                                                                                             \n",
            "                                                                                                  \n",
            " block10_sepconv2_bn (BatchNorm  (None, 14, 14, 728)  2912       ['block10_sepconv2[0][0]']       \n",
            " alization)                                                                                       \n",
            "                                                                                                  \n",
            " block10_sepconv3_act (Activati  (None, 14, 14, 728)  0          ['block10_sepconv2_bn[0][0]']    \n",
            " on)                                                                                              \n",
            "                                                                                                  \n",
            " block10_sepconv3 (SeparableCon  (None, 14, 14, 728)  536536     ['block10_sepconv3_act[0][0]']   \n",
            " v2D)                                                                                             \n",
            "                                                                                                  \n",
            " block10_sepconv3_bn (BatchNorm  (None, 14, 14, 728)  2912       ['block10_sepconv3[0][0]']       \n",
            " alization)                                                                                       \n",
            "                                                                                                  \n",
            " add_20 (Add)                   (None, 14, 14, 728)  0           ['block10_sepconv3_bn[0][0]',    \n",
            "                                                                  'add_19[0][0]']                 \n",
            "                                                                                                  \n",
            " block11_sepconv1_act (Activati  (None, 14, 14, 728)  0          ['add_20[0][0]']                 \n",
            " on)                                                                                              \n",
            "                                                                                                  \n",
            " block11_sepconv1 (SeparableCon  (None, 14, 14, 728)  536536     ['block11_sepconv1_act[0][0]']   \n",
            " v2D)                                                                                             \n",
            "                                                                                                  \n",
            " block11_sepconv1_bn (BatchNorm  (None, 14, 14, 728)  2912       ['block11_sepconv1[0][0]']       \n",
            " alization)                                                                                       \n",
            "                                                                                                  \n",
            " block11_sepconv2_act (Activati  (None, 14, 14, 728)  0          ['block11_sepconv1_bn[0][0]']    \n",
            " on)                                                                                              \n",
            "                                                                                                  \n",
            " block11_sepconv2 (SeparableCon  (None, 14, 14, 728)  536536     ['block11_sepconv2_act[0][0]']   \n",
            " v2D)                                                                                             \n",
            "                                                                                                  \n",
            " block11_sepconv2_bn (BatchNorm  (None, 14, 14, 728)  2912       ['block11_sepconv2[0][0]']       \n",
            " alization)                                                                                       \n",
            "                                                                                                  \n",
            " block11_sepconv3_act (Activati  (None, 14, 14, 728)  0          ['block11_sepconv2_bn[0][0]']    \n",
            " on)                                                                                              \n",
            "                                                                                                  \n",
            " block11_sepconv3 (SeparableCon  (None, 14, 14, 728)  536536     ['block11_sepconv3_act[0][0]']   \n",
            " v2D)                                                                                             \n",
            "                                                                                                  \n",
            " block11_sepconv3_bn (BatchNorm  (None, 14, 14, 728)  2912       ['block11_sepconv3[0][0]']       \n",
            " alization)                                                                                       \n",
            "                                                                                                  \n",
            " add_21 (Add)                   (None, 14, 14, 728)  0           ['block11_sepconv3_bn[0][0]',    \n",
            "                                                                  'add_20[0][0]']                 \n",
            "                                                                                                  \n",
            " block12_sepconv1_act (Activati  (None, 14, 14, 728)  0          ['add_21[0][0]']                 \n",
            " on)                                                                                              \n",
            "                                                                                                  \n",
            " block12_sepconv1 (SeparableCon  (None, 14, 14, 728)  536536     ['block12_sepconv1_act[0][0]']   \n",
            " v2D)                                                                                             \n",
            "                                                                                                  \n",
            " block12_sepconv1_bn (BatchNorm  (None, 14, 14, 728)  2912       ['block12_sepconv1[0][0]']       \n",
            " alization)                                                                                       \n",
            "                                                                                                  \n",
            " block12_sepconv2_act (Activati  (None, 14, 14, 728)  0          ['block12_sepconv1_bn[0][0]']    \n",
            " on)                                                                                              \n",
            "                                                                                                  \n",
            " block12_sepconv2 (SeparableCon  (None, 14, 14, 728)  536536     ['block12_sepconv2_act[0][0]']   \n",
            " v2D)                                                                                             \n",
            "                                                                                                  \n",
            " block12_sepconv2_bn (BatchNorm  (None, 14, 14, 728)  2912       ['block12_sepconv2[0][0]']       \n",
            " alization)                                                                                       \n",
            "                                                                                                  \n",
            " block12_sepconv3_act (Activati  (None, 14, 14, 728)  0          ['block12_sepconv2_bn[0][0]']    \n",
            " on)                                                                                              \n",
            "                                                                                                  \n",
            " block12_sepconv3 (SeparableCon  (None, 14, 14, 728)  536536     ['block12_sepconv3_act[0][0]']   \n",
            " v2D)                                                                                             \n",
            "                                                                                                  \n",
            " block12_sepconv3_bn (BatchNorm  (None, 14, 14, 728)  2912       ['block12_sepconv3[0][0]']       \n",
            " alization)                                                                                       \n",
            "                                                                                                  \n",
            " add_22 (Add)                   (None, 14, 14, 728)  0           ['block12_sepconv3_bn[0][0]',    \n",
            "                                                                  'add_21[0][0]']                 \n",
            "                                                                                                  \n",
            " block13_sepconv1_act (Activati  (None, 14, 14, 728)  0          ['add_22[0][0]']                 \n",
            " on)                                                                                              \n",
            "                                                                                                  \n",
            " block13_sepconv1 (SeparableCon  (None, 14, 14, 728)  536536     ['block13_sepconv1_act[0][0]']   \n",
            " v2D)                                                                                             \n",
            "                                                                                                  \n",
            " block13_sepconv1_bn (BatchNorm  (None, 14, 14, 728)  2912       ['block13_sepconv1[0][0]']       \n",
            " alization)                                                                                       \n",
            "                                                                                                  \n",
            " block13_sepconv2_act (Activati  (None, 14, 14, 728)  0          ['block13_sepconv1_bn[0][0]']    \n",
            " on)                                                                                              \n",
            "                                                                                                  \n",
            " block13_sepconv2 (SeparableCon  (None, 14, 14, 1024  752024     ['block13_sepconv2_act[0][0]']   \n",
            " v2D)                           )                                                                 \n",
            "                                                                                                  \n",
            " block13_sepconv2_bn (BatchNorm  (None, 14, 14, 1024  4096       ['block13_sepconv2[0][0]']       \n",
            " alization)                     )                                                                 \n",
            "                                                                                                  \n",
            " conv2d_7 (Conv2D)              (None, 7, 7, 1024)   745472      ['add_22[0][0]']                 \n",
            "                                                                                                  \n",
            " block13_pool (MaxPooling2D)    (None, 7, 7, 1024)   0           ['block13_sepconv2_bn[0][0]']    \n",
            "                                                                                                  \n",
            " batch_normalization_7 (BatchNo  (None, 7, 7, 1024)  4096        ['conv2d_7[0][0]']               \n",
            " rmalization)                                                                                     \n",
            "                                                                                                  \n",
            " add_23 (Add)                   (None, 7, 7, 1024)   0           ['block13_pool[0][0]',           \n",
            "                                                                  'batch_normalization_7[0][0]']  \n",
            "                                                                                                  \n",
            " block14_sepconv1 (SeparableCon  (None, 7, 7, 1536)  1582080     ['add_23[0][0]']                 \n",
            " v2D)                                                                                             \n",
            "                                                                                                  \n",
            " block14_sepconv1_bn (BatchNorm  (None, 7, 7, 1536)  6144        ['block14_sepconv1[0][0]']       \n",
            " alization)                                                                                       \n",
            "                                                                                                  \n",
            " block14_sepconv1_act (Activati  (None, 7, 7, 1536)  0           ['block14_sepconv1_bn[0][0]']    \n",
            " on)                                                                                              \n",
            "                                                                                                  \n",
            " block14_sepconv2 (SeparableCon  (None, 7, 7, 2048)  3159552     ['block14_sepconv1_act[0][0]']   \n",
            " v2D)                                                                                             \n",
            "                                                                                                  \n",
            " block14_sepconv2_bn (BatchNorm  (None, 7, 7, 2048)  8192        ['block14_sepconv2[0][0]']       \n",
            " alization)                                                                                       \n",
            "                                                                                                  \n",
            " block14_sepconv2_act (Activati  (None, 7, 7, 2048)  0           ['block14_sepconv2_bn[0][0]']    \n",
            " on)                                                                                              \n",
            "                                                                                                  \n",
            " global_average_pooling2d_1 (Gl  (None, 2048)        0           ['block14_sepconv2_act[0][0]']   \n",
            " obalAveragePooling2D)                                                                            \n",
            "                                                                                                  \n",
            " flatten_1 (Flatten)            (None, 2048)         0           ['global_average_pooling2d_1[0][0\n",
            "                                                                 ]']                              \n",
            "                                                                                                  \n",
            " dense_4 (Dense)                (None, 1024)         2098176     ['flatten_1[0][0]']              \n",
            "                                                                                                  \n",
            " dropout_2 (Dropout)            (None, 1024)         0           ['dense_4[0][0]']                \n",
            "                                                                                                  \n",
            " dense_5 (Dense)                (None, 64)           65600       ['dropout_2[0][0]']              \n",
            "                                                                                                  \n",
            " dropout_3 (Dropout)            (None, 64)           0           ['dense_5[0][0]']                \n",
            "                                                                                                  \n",
            " dense_6 (Dense)                (None, 16)           1040        ['dropout_3[0][0]']              \n",
            "                                                                                                  \n",
            " dense_7 (Dense)                (None, 11)           187         ['dense_6[0][0]']                \n",
            "                                                                                                  \n",
            "==================================================================================================\n",
            "Total params: 23,026,483\n",
            "Trainable params: 2,165,003\n",
            "Non-trainable params: 20,861,480\n",
            "__________________________________________________________________________________________________\n",
            "Epoch 1/15\n",
            "25/25 [==============================] - 206s 8s/step - loss: 1.1544 - accuracy: 0.6162 - val_loss: 0.7104 - val_accuracy: 0.7200\n",
            "Epoch 2/15\n",
            "25/25 [==============================] - 197s 8s/step - loss: 0.4104 - accuracy: 0.8712 - val_loss: 0.5248 - val_accuracy: 0.8150\n",
            "Epoch 3/15\n",
            "25/25 [==============================] - 197s 8s/step - loss: 0.3078 - accuracy: 0.9075 - val_loss: 0.4799 - val_accuracy: 0.8300\n",
            "Epoch 4/15\n",
            "25/25 [==============================] - 197s 8s/step - loss: 0.2038 - accuracy: 0.9325 - val_loss: 0.3698 - val_accuracy: 0.8700\n",
            "Epoch 5/15\n",
            "25/25 [==============================] - 196s 8s/step - loss: 0.1900 - accuracy: 0.9463 - val_loss: 0.3674 - val_accuracy: 0.8900\n",
            "Epoch 6/15\n",
            "25/25 [==============================] - 195s 8s/step - loss: 0.1500 - accuracy: 0.9613 - val_loss: 0.2996 - val_accuracy: 0.9050\n",
            "Epoch 7/15\n",
            "25/25 [==============================] - 196s 8s/step - loss: 0.1026 - accuracy: 0.9688 - val_loss: 0.4060 - val_accuracy: 0.8800\n",
            "Epoch 8/15\n",
            "25/25 [==============================] - 197s 8s/step - loss: 0.1008 - accuracy: 0.9588 - val_loss: 0.3414 - val_accuracy: 0.9050\n",
            "Epoch 9/15\n",
            "25/25 [==============================] - 197s 8s/step - loss: 0.1122 - accuracy: 0.9688 - val_loss: 0.3976 - val_accuracy: 0.8950\n",
            "Epoch 10/15\n",
            "25/25 [==============================] - 198s 8s/step - loss: 0.1041 - accuracy: 0.9663 - val_loss: 0.3566 - val_accuracy: 0.9050\n",
            "Epoch 11/15\n",
            "25/25 [==============================] - 195s 8s/step - loss: 0.0896 - accuracy: 0.9750 - val_loss: 0.3831 - val_accuracy: 0.8950\n",
            "Epoch 12/15\n",
            "25/25 [==============================] - 195s 8s/step - loss: 0.0874 - accuracy: 0.9750 - val_loss: 0.4089 - val_accuracy: 0.8900\n",
            "Epoch 13/15\n",
            "25/25 [==============================] - 195s 8s/step - loss: 0.0863 - accuracy: 0.9712 - val_loss: 0.3557 - val_accuracy: 0.9100\n",
            "Epoch 14/15\n",
            "25/25 [==============================] - 195s 8s/step - loss: 0.0667 - accuracy: 0.9762 - val_loss: 0.4312 - val_accuracy: 0.9000\n",
            "Epoch 15/15\n",
            "25/25 [==============================] - 195s 8s/step - loss: 0.0644 - accuracy: 0.9812 - val_loss: 0.4263 - val_accuracy: 0.9050\n"
          ]
        }
      ]
    },
    {
      "cell_type": "code",
      "source": [
        "import matplotlib.pyplot as plt\n",
        "\n",
        "# Plot the model results\n",
        "acc = history.history['accuracy']\n",
        "val_acc = history.history['val_accuracy']\n",
        "loss = history.history['loss']\n",
        "val_loss = history.history['val_loss']\n",
        "\n",
        "epochs = range(len(acc))\n",
        "\n",
        "plt.plot(epochs, acc, 'r', label='Training accuracy')\n",
        "plt.plot(epochs, val_acc, 'b', label='Validation accuracy')\n",
        "plt.title('Training and validation accuracy')\n",
        "\n",
        "plt.figure()\n",
        "\n",
        "plt.plot(epochs, loss, 'r', label='Training Loss')\n",
        "plt.plot(epochs, val_loss, 'b', label='Validation Loss')\n",
        "plt.title('Training and validation loss')\n",
        "plt.legend()\n",
        "\n",
        "plt.show()"
      ],
      "metadata": {
        "colab": {
          "base_uri": "https://localhost:8080/",
          "height": 545
        },
        "id": "mC816kms5LGB",
        "outputId": "22c634d7-df67-4bb4-bea3-dcc1a8585289"
      },
      "execution_count": 15,
      "outputs": [
        {
          "output_type": "display_data",
          "data": {
            "text/plain": [
              "<Figure size 432x288 with 1 Axes>"
            ],
            "image/png": "[encoded data removed]"
          },
          "metadata": {
            "needs_background": "light"
          }
        },
        {
          "output_type": "display_data",
          "data": {
            "text/plain": [
              "<Figure size 432x288 with 1 Axes>"
            ],
            "image/png": "[encoded data removed]"
          },
          "metadata": {
            "needs_background": "light"
          }
        }
      ]
    },
    {
      "cell_type": "code",
      "source": [
        "model_herbs.save(\"model_Xception_HerbsPlant.h5\")\n",
        "tf.keras.models.save_model(model_herbs,'model_Xception_HerbsPlant.hdf5')"
      ],
      "metadata": {
        "id": "2hCayVe0KdpA"
      },
      "execution_count": 16,
      "outputs": []
    },
    {
      "cell_type": "code",
      "source": [
        "#Convert ke TF Lite\n",
        "import tensorflow as tf\n",
        "\n",
        "#Load model yang telah disimpan\n",
        "model_akhir = tf.keras.models.load_model(filepath=\"model_Xception_HerbsPlant.h5\")\n",
        "\n",
        "#Convert model tsb ke bentuk TF Lite\n",
        "konversi = tf.lite.TFLiteConverter.from_keras_model(model_akhir)\n",
        "model_tflite = konversi.convert()\n",
        "\n",
        "#Simpan TF Lite model.\n",
        "with tf.io.gfile.GFile('model_Xception_HerbsPlant.tflite', 'wb') as f:\n",
        "  f.write(model_tflite)"
      ],
      "metadata": {
        "colab": {
          "base_uri": "https://localhost:8080/"
        },
        "id": "5pbzTp2dLPva",
        "outputId": "d4a791db-bab6-4b2f-8b55-c0c077726251"
      },
      "execution_count": 17,
      "outputs": [
        {
          "output_type": "stream",
          "name": "stdout",
          "text": [
            "INFO:tensorflow:Assets written to: /tmp/tmp93u0b_8z/assets\n"
          ]
        },
        {
          "output_type": "stream",
          "name": "stderr",
          "text": [
            "WARNING:absl:Buffer deduplication procedure will be skipped when flatbuffer library is not properly loaded\n"
          ]
        }
      ]
    },
    {
      "cell_type": "code",
      "source": [
        "model_herbs_json = model_herbs.to_json()\n",
        "with open(\"model_tl_json\", \"w\") as file_json:\n",
        "    file_json.write(model_herbs_json)"
      ],
      "metadata": {
        "id": "Vv80jYikLzQ8"
      },
      "execution_count": 19,
      "outputs": []
    }
  ]
}