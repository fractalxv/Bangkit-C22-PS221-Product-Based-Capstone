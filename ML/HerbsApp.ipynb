{
  "nbformat": 4,
  "nbformat_minor": 0,
  "metadata": {
    "colab": {
      "name": "HerbsApp (1).ipynb",
      "provenance": [],
      "collapsed_sections": []
    },
    "kernelspec": {
      "name": "python3",
      "display_name": "Python 3"
    },
    "language_info": {
      "name": "python"
    },
    "accelerator": "GPU"
  },
  "cells": [
    {
      "cell_type": "markdown",
      "source": [
        "**Import data from drive**"
      ],
      "metadata": {
        "id": "FUO-rKdqiOOC"
      }
    },
    {
      "cell_type": "code",
      "execution_count": 1,
      "metadata": {
        "colab": {
          "base_uri": "https://localhost:8080/"
        },
        "id": "tE-ta8yb-mwk",
        "outputId": "83649992-5785-4493-ba1d-dc5e53a7b285"
      },
      "outputs": [
        {
          "output_type": "stream",
          "name": "stdout",
          "text": [
            "Mounted at /content/gdrive\n",
            "gdrive\tsample_data\n"
          ]
        }
      ],
      "source": [
        "from google.colab import drive\n",
        "drive.mount('/content/gdrive')\n",
        "!ls"
      ]
    },
    {
      "cell_type": "markdown",
      "source": [
        "**Unzip file**"
      ],
      "metadata": {
        "id": "V27BHmNYiicP"
      }
    },
    {
      "cell_type": "code",
      "source": [
        "import zipfile\n",
        "\n",
        "# Unzip the dataset\n",
        "local_zip = './gdrive/MyDrive/DATASET_TANAMAN_HERBAL.zip'\n",
        "zip_ref = zipfile.ZipFile(local_zip, 'r')\n",
        "zip_ref.extractall('./herbs-plant')\n",
        "zip_ref.close()"
      ],
      "metadata": {
        "id": "Dy4HkHgSexqr"
      },
      "execution_count": 3,
      "outputs": []
    },
    {
      "cell_type": "markdown",
      "source": [
        "**define directories**"
      ],
      "metadata": {
        "id": "L8lysrpuumg6"
      }
    },
    {
      "cell_type": "code",
      "source": [
        "import os\n",
        "\n",
        "#train\n",
        "train_jambu_dir = os.path.join('./herbs-plant/Data_Training/Daun_Jambu_Biji')\n",
        "train_kari_dir = os.path.join('./herbs-plant/Data_Training/Daun_Kari')\n",
        "train_kemangi_dir = os.path.join('./herbs-plant/Data_Training/Daun_Kemangi')\n",
        "train_kunyit_dir = os.path.join('./herbs-plant/Data_Training/Daun_Kunyit')\n",
        "train_mint_dir = os.path.join('./herbs-plant/Data_Training/Daun_Mint')\n",
        "train_pepaya_dir = os.path.join('./herbs-plant/Data_Training/Daun_Pepaya')\n",
        "train_sirih_dir = os.path.join('./herbs-plant/Data_Training/Daun_Sirih')\n",
        "train_sirsak_dir = os.path.join('./herbs-plant/Data_Training/Daun_Sirsak')\n",
        "train_lidahbuaya_dir = os.path.join('./herbs-plant/Data_Training/Lidah_Buaya')\n",
        "train_tehhijau_dir = os.path.join('./herbs-plant/Data_Training/Teh_Hijau')\n",
        "\n",
        "#validation\n",
        "validation_jambu_dir = os.path.join('./herbs-plant/Data_Validation/Daun_Jambu_Biji')\n",
        "validation_kari_dir = os.path.join('./herbs-plant/Data_Validation/Daun_Kari')\n",
        "validation_kemangi_dir = os.path.join('./herbs-plant/Data_Validation/Daun_Kemangi')\n",
        "validation_kunyit_dir = os.path.join('./herbs-plant/Data_Validation/Daun_Kunyit')\n",
        "validation_mint_dir = os.path.join('./herbs-plant/Data_Validation/Daun_Mint')\n",
        "validation_pepaya_dir = os.path.join('./herbs-plant/Data_Validation/Daun_Pepaya')\n",
        "validation_sirih_dir = os.path.join('./herbs-plant/Data_Validation/Daun_Sirih')\n",
        "validation_sirsak_dir = os.path.join('./herbs-plant/Data_Validation/Daun_Sirsak')\n",
        "validation_lidahbuaya_dir = os.path.join('./herbs-plant/Data_Validation/Lidah_Buaya')\n",
        "validation_tehhijau_dir = os.path.join('./herbs-plant/Data_Validation/Teh_Hijau')"
      ],
      "metadata": {
        "id": "d93FCNQpiLyd"
      },
      "execution_count": 4,
      "outputs": []
    },
    {
      "cell_type": "code",
      "source": [
        "print('JAMBU BIJI TRAIN SET:', len(os.listdir(train_jambu_dir)))\n",
        "print('KARI TRAIN SET:', len(os.listdir(train_kari_dir)))\n",
        "print('KEMANGI TRAIN SET:', len(os.listdir(train_kemangi_dir)))\n",
        "print('KUNYIT TRAIN SET:', len(os.listdir(train_kunyit_dir)))\n",
        "print('MINT TRAIN SET:', len(os.listdir(train_mint_dir)))\n",
        "print('PEPAYA TRAIN SET:', len(os.listdir(train_pepaya_dir)))\n",
        "print('SIRIH TRAIN SET:', len(os.listdir(train_sirih_dir)))\n",
        "print('SIRSAK TRAIN SET:', len(os.listdir(train_sirsak_dir)))\n",
        "print('LIDAH BUAYA TRAIN SET:', len(os.listdir(train_lidahbuaya_dir)))\n",
        "print('TEH HIJAU TRAIN SET:', len(os.listdir(train_tehhijau_dir)))"
      ],
      "metadata": {
        "colab": {
          "base_uri": "https://localhost:8080/"
        },
        "id": "BVl-WGCyw9QY",
        "outputId": "3cecd16b-4e15-4409-b94c-ad706a141b07"
      },
      "execution_count": 5,
      "outputs": [
        {
          "output_type": "stream",
          "name": "stdout",
          "text": [
            "JAMBU BIJI TRAIN SET: 80\n",
            "KARI TRAIN SET: 80\n",
            "KEMANGI TRAIN SET: 80\n",
            "KUNYIT TRAIN SET: 80\n",
            "MINT TRAIN SET: 80\n",
            "PEPAYA TRAIN SET: 80\n",
            "SIRIH TRAIN SET: 80\n",
            "SIRSAK TRAIN SET: 80\n",
            "LIDAH BUAYA TRAIN SET: 80\n",
            "TEH HIJAU TRAIN SET: 80\n"
          ]
        }
      ]
    },
    {
      "cell_type": "code",
      "source": [
        "print('JAMBU BIJI VALIDATION SET:', len(os.listdir(validation_jambu_dir)))\n",
        "print('KARI VALIDATION SET:', len(os.listdir(validation_kari_dir)))\n",
        "print('KEMANGI VALIDATION SET:', len(os.listdir(validation_kemangi_dir)))\n",
        "print('KUNYIT VALIDATION SET:', len(os.listdir(validation_kunyit_dir)))\n",
        "print('MINT VALIDATION SET:', len(os.listdir(validation_mint_dir)))\n",
        "print('PEPAYA VALIDATION SET:', len(os.listdir(validation_pepaya_dir)))\n",
        "print('SIRIH VALIDATION SET:', len(os.listdir(validation_sirih_dir)))\n",
        "print('SIRSAK VALIDATION SET:', len(os.listdir(validation_sirsak_dir)))\n",
        "print('LIDAH VALIDATION TRAIN SET:', len(os.listdir(validation_lidahbuaya_dir)))\n",
        "print('TEH HIJAU VALIDATION SET:', len(os.listdir(validation_tehhijau_dir)))"
      ],
      "metadata": {
        "colab": {
          "base_uri": "https://localhost:8080/"
        },
        "id": "AWvJ557Lxy8K",
        "outputId": "c5654f51-38bb-4bef-f50e-005c1324ae97"
      },
      "execution_count": 6,
      "outputs": [
        {
          "output_type": "stream",
          "name": "stdout",
          "text": [
            "JAMBU BIJI VALIDATION SET: 20\n",
            "KARI VALIDATION SET: 20\n",
            "KEMANGI VALIDATION SET: 20\n",
            "KUNYIT VALIDATION SET: 20\n",
            "MINT VALIDATION SET: 20\n",
            "PEPAYA VALIDATION SET: 20\n",
            "SIRIH VALIDATION SET: 20\n",
            "SIRSAK VALIDATION SET: 20\n",
            "LIDAH VALIDATION TRAIN SET: 20\n",
            "TEH HIJAU VALIDATION SET: 20\n"
          ]
        }
      ]
    },
    {
      "cell_type": "markdown",
      "source": [
        "**check data**"
      ],
      "metadata": {
        "id": "TO5upRnEyRpr"
      }
    },
    {
      "cell_type": "code",
      "source": [
        "#train data\n",
        "train_jambu_names = os.listdir(train_jambu_dir)\n",
        "print(f'JAMBU BIJI TRAIN SET: {train_jambu_names[:10]}')\n",
        "\n",
        "train_kari_names = os.listdir(train_kari_dir)\n",
        "print(f'KARI TRAIN SET: {train_kari_names[:10]}')\n",
        "\n",
        "train_kemangi_names = os.listdir(train_kemangi_dir)\n",
        "print(f'KEMANGI TRAIN SET: {train_kemangi_names[:10]}')\n",
        "\n",
        "train_kunyit_names = os.listdir(train_kunyit_dir)\n",
        "print(f'KUNYIT TRAIN SET: {train_kunyit_names[:10]}')\n",
        "\n",
        "train_mint_names = os.listdir(train_mint_dir)\n",
        "print(f'MINT TRAIN SET: {train_mint_names[:10]}')\n",
        "\n",
        "train_pepaya_names = os.listdir(train_pepaya_dir)\n",
        "print(f'PEPAYA TRAIN SET: {train_pepaya_names[:10]}')\n",
        "\n",
        "train_sirih_names = os.listdir(train_sirih_dir)\n",
        "print(f'SIRIH TRAIN SET: {train_sirih_names[:10]}')\n",
        "\n",
        "train_sirsak_names = os.listdir(train_sirsak_dir)\n",
        "print(f'SIRIH TRAIN SET: {train_sirsak_names[:10]}')\n",
        "\n",
        "train_lidahbuaya_names = os.listdir(train_lidahbuaya_dir)\n",
        "print(f'LIDAH BUAYA TRAIN SET: {train_lidahbuaya_names[:10]}')\n",
        "\n",
        "train_tehhijau_names = os.listdir(train_tehhijau_dir)\n",
        "print(f'TEH HIJAU TRAIN SET: {train_tehhijau_names[:10]}')"
      ],
      "metadata": {
        "colab": {
          "base_uri": "https://localhost:8080/"
        },
        "id": "wGTx7U_1yOn-",
        "outputId": "ae7f6787-ac90-4b02-823c-af44323dbe25"
      },
      "execution_count": 7,
      "outputs": [
        {
          "output_type": "stream",
          "name": "stdout",
          "text": [
            "JAMBU BIJI TRAIN SET: ['jambu biji (39).jpg', 'jambu biji (19).JPG', 'jambu biji (72).JPG', 'jambu biji (30).JPG', 'jambu biji (32).JPG', 'jambu biji (38).jpg', 'jambu biji (49).JPG', 'jambu biji (29).JPG', 'jambu biji (75).JPG', 'jambu biji (12).JPG']\n",
            "KARI TRAIN SET: ['KARI (79).JPG', 'KARI (52).JPG', 'KARI (76).JPG', 'KARI (7).JPG', 'KARI (17).JPG', 'KARI (33).JPG', 'KARI (45).JPG', 'KARI (59).JPG', 'KARI (73).JPG', 'KARI (60).JPG']\n",
            "KEMANGI TRAIN SET: ['daun kemangi (50).jpg', 'daun kemangi (48).jpg', 'daun kemangi (47).jpg', 'daun kemangi (29).jpg', 'daun kemangi (22).jpg', 'daun kemangi (67).jpg', 'daun kemangi (51).jpg', 'daun kemangi (23).jpg', 'daun kemangi (9).jpg', 'daun kemangi (44).jpg']\n",
            "KUNYIT TRAIN SET: ['kunyit (16).JPG', 'kunyit (14).JPG', 'kunyit (26).JPG', 'kunyit (59).JPG', 'kunyit (27).JPG', 'kunyit (67).JPG', 'kunyit (72).JPG', 'kunyit (45).JPG', 'kunyit (63).JPG', 'kunyit (18).JPG']\n",
            "MINT TRAIN SET: ['mint (50).jpg', 'mint (36).jpg', 'mint (49).jpg', 'mint (29).jpg', 'mint (10).jpg', 'mint (46).jpg', 'mint (70).jpg', 'mint (31).jpg', 'mint (20).jpg', 'mint (17).jpg']\n",
            "PEPAYA TRAIN SET: ['pepaya (62).JPG', 'pepaya (48).JPG', 'pepaya (22).JPG', 'pepaya (1).JPG', 'pepaya (50).JPG', 'pepaya (18).JPG', 'pepaya (4).JPG', 'pepaya (28).JPG', 'pepaya (47).JPG', 'pepaya (41).JPG']\n",
            "SIRIH TRAIN SET: ['Sirih (31).jpg', 'Sirih (34).jpg', 'Sirih (45).jpg', 'Sirih (25).jpg', 'Sirih (38).jpg', 'Sirih (24).jpg', 'Sirih (66).jpg', 'Sirih (58).jpg', 'Sirih (2).jpg', 'Sirih (68).jpg']\n",
            "SIRIH TRAIN SET: ['sirsakk (66).JPG', 'sirsakk (63).JPG', 'sirsakk (14).JPG', 'sirsakk (62).JPG', 'sirsakk (33).JPG', 'sirsakk (49).JPG', 'sirsakk (12).JPG', 'sirsakk (72).JPG', 'sirsakk (68).JPG', 'sirsakk (65).JPG']\n",
            "LIDAH BUAYA TRAIN SET: ['lidah buaya (17).JPG', 'lidah buaya (12).JPG', 'lidah buaya (71).JPG', 'lidah buaya (45).JPG', 'lidah buaya (8).JPG', 'lidah buaya (70).JPG', 'lidah buaya (44).JPG', 'lidah buaya (59).JPG', 'lidah buaya (36).JPG', 'lidah buaya (80).JPG']\n",
            "TEH HIJAU TRAIN SET: ['Teh Hijauu (3).jpg', 'Teh Hijauu (5).jpg', 'Teh Hijauu (61).jpg', 'Teh Hijauu (7).jpg', 'Teh Hijauu (14).jpg', 'Teh Hijauu (41).jpg', 'Teh Hijauu (50).jpg', 'Teh Hijauu (64).jpg', 'Teh Hijauu (48).jpg', 'Teh Hijauu (11).jpg']\n"
          ]
        }
      ]
    },
    {
      "cell_type": "code",
      "source": [
        "#validation data\n",
        "validation_jambu_names = os.listdir(validation_jambu_dir)\n",
        "print(f'JAMBU BIJI VAL SET: {train_jambu_names[:10]}')\n",
        "\n",
        "validation_kari_names = os.listdir(validation_kari_dir)\n",
        "print(f'KARI VAL SET: {validation_kari_names[:10]}')\n",
        "\n",
        "validation_kemangi_names = os.listdir(validation_kemangi_dir)\n",
        "print(f'KEMANGI VAL SET: {validation_kemangi_names[:10]}')\n",
        "\n",
        "validation_kunyit_names = os.listdir(validation_kunyit_dir)\n",
        "print(f'KUNYIT VAL SET: {validation_kunyit_names[:10]}')\n",
        "\n",
        "validation_mint_names = os.listdir(validation_mint_dir)\n",
        "print(f'MINT VAL SET: {validation_mint_names[:10]}')\n",
        "\n",
        "validation_pepaya_names = os.listdir(validation_pepaya_dir)\n",
        "print(f'PEPAYA VAL SET: {validation_pepaya_names[:10]}')\n",
        "\n",
        "validation_sirih_names = os.listdir(validation_sirih_dir)\n",
        "print(f'SIRIH VAL SET: {validation_sirih_names[:10]}')\n",
        "\n",
        "validation_sirsak_names = os.listdir(validation_sirsak_dir)\n",
        "print(f'SIRIH VAL SET: {validation_sirsak_names[:10]}')\n",
        "\n",
        "validation_lidahbuaya_names = os.listdir(validation_lidahbuaya_dir)\n",
        "print(f'LIDAH BUAYA VAL SET: {validation_lidahbuaya_names[:10]}')\n",
        "\n",
        "validation_tehhijau_names = os.listdir(validation_tehhijau_dir)\n",
        "print(f'TEH HIJAU VAL SET: {validation_tehhijau_names[:10]}')"
      ],
      "metadata": {
        "colab": {
          "base_uri": "https://localhost:8080/"
        },
        "id": "RJ364fiEz6nX",
        "outputId": "4a776209-a035-432d-808c-a77e54c5bd21"
      },
      "execution_count": 8,
      "outputs": [
        {
          "output_type": "stream",
          "name": "stdout",
          "text": [
            "JAMBU BIJI VAL SET: ['jambu biji (39).jpg', 'jambu biji (19).JPG', 'jambu biji (72).JPG', 'jambu biji (30).JPG', 'jambu biji (32).JPG', 'jambu biji (38).jpg', 'jambu biji (49).JPG', 'jambu biji (29).JPG', 'jambu biji (75).JPG', 'jambu biji (12).JPG']\n",
            "KARI VAL SET: ['KARI (97).JPG', 'KARI (85).JPG', 'KARI (94).JPG', 'KARI (81).JPG', 'KARI (99).JPG', 'KARI (95).JPG', 'KARI (86).JPG', 'KARI (87).JPG', 'KARI (90).JPG', 'KARI (84).JPG']\n",
            "KEMANGI VAL SET: ['daun kemangi (85).jpg', 'daun kemangi (93).jpg', 'daun kemangi (83).jpg', 'daun kemangi (91).jpg', 'daun kemangi (82).jpg', 'daun kemangi (88).jpg', 'daun kemangi (86).jpg', 'daun kemangi (92).jpg', 'daun kemangi (84).jpg', 'daun kemangi (81).jpg']\n",
            "KUNYIT VAL SET: ['kunyit (90).JPG', 'kunyit (87).JPG', 'kunyit (95).JPG', 'kunyit (92).JPG', 'kunyit (85).JPG', 'kunyit (99).JPG', 'kunyit (82).JPG', 'kunyit (91).JPG', 'kunyit (96).JPG', 'kunyit (86).JPG']\n",
            "MINT VAL SET: ['mint (93).jpg', 'mint (94).jpg', 'mint (91).jpg', 'mint (95).jpg', 'mint (89).jpg', 'mint (87).jpg', 'mint (98).jpg', 'mint (92).jpg', 'mint (83).jpg', 'mint (88).jpg']\n",
            "PEPAYA VAL SET: ['pepaya (90).JPG', 'pepaya (100).JPG', 'pepaya (92).JPG', 'pepaya (82).JPG', 'pepaya (91).JPG', 'pepaya (95).JPG', 'pepaya (98).JPG', 'pepaya (99).JPG', 'pepaya (89).JPG', 'pepaya (81).JPG']\n",
            "SIRIH VAL SET: ['Sirih (99).jpg', 'Sirih (83).jpg', 'Sirih (91).jpg', 'Sirih (97).jpg', 'Sirih (89).jpg', 'Sirih (94).jpg', 'Sirih (81).jpg', 'Sirih (95).jpg', 'Sirih (88).jpg', 'Sirih (87).jpg']\n",
            "SIRIH VAL SET: ['sirsakk (83).JPG', 'sirsakk (88).JPG', 'sirsakk (84).JPG', 'sirsakk (87).JPG', 'sirsakk (86).JPG', 'sirsakk (92).JPG', 'sirsakk (82).JPG', 'sirsakk (98).JPG', 'sirsakk (99).JPG', 'sirsakk (89).JPG']\n",
            "LIDAH BUAYA VAL SET: ['lidah buaya (87).jpg', 'lidah buaya (90).jpg', 'lidah buaya (95).jpg', 'lidah buaya (99).jpg', 'lidah buaya (86).jpg', 'lidah buaya (83).jpg', 'lidah buaya (93).jpg', 'lidah buaya (100).jpg', 'lidah buaya (81).jpg', 'lidah buaya (91).jpg']\n",
            "TEH HIJAU VAL SET: ['Teh Hijauu (88).jpg', 'Teh Hijauu (82).jpg', 'Teh Hijauu (94).jpg', 'Teh Hijauu (98).jpg', 'Teh Hijauu (84).jpg', 'Teh Hijauu (81).jpg', 'Teh Hijauu (87).jpg', 'Teh Hijauu (89).jpg', 'Teh Hijauu (91).jpg', 'Teh Hijauu (92).jpg']\n"
          ]
        }
      ]
    },
    {
      "cell_type": "markdown",
      "source": [
        "**data augmentation**"
      ],
      "metadata": {
        "id": "UF2rPXHU2S_w"
      }
    },
    {
      "cell_type": "code",
      "source": [
        "import tensorflow as tf\n",
        "import keras_preprocessing\n",
        "from keras_preprocessing import image\n",
        "from keras_preprocessing.image import ImageDataGenerator"
      ],
      "metadata": {
        "id": "DxtqjFhx2Wmr"
      },
      "execution_count": 9,
      "outputs": []
    },
    {
      "cell_type": "code",
      "source": [
        "dir_training = \"./herbs-plant/Data_Training/\"\n",
        "\n",
        "training_datagen = ImageDataGenerator(\n",
        "      rescale = 1.0/255.,\n",
        "      featurewise_center=False,  \n",
        "      samplewise_center=False,  \n",
        "      featurewise_std_normalization=False,  \n",
        "      samplewise_std_normalization=False,  \n",
        "      zca_whitening=False,\n",
        "\t    rotation_range=30,\n",
        "      width_shift_range=0.1,\n",
        "      height_shift_range=0.1,\n",
        "      shear_range=0.3,\n",
        "      zoom_range=0.1,\n",
        "      horizontal_flip=True,\n",
        "      vertical_flip=True,\n",
        "      fill_mode='nearest')\n",
        "\n",
        "train_generator = training_datagen.flow_from_directory(\n",
        "\tdir_training,\n",
        "\ttarget_size=(224,224),\n",
        "\tclass_mode='categorical'\n",
        ")"
      ],
      "metadata": {
        "colab": {
          "base_uri": "https://localhost:8080/"
        },
        "id": "o0WopHNK2fnX",
        "outputId": "32f92fb7-e043-470a-b827-82a76da78124"
      },
      "execution_count": 10,
      "outputs": [
        {
          "output_type": "stream",
          "name": "stdout",
          "text": [
            "Found 800 images belonging to 11 classes.\n"
          ]
        }
      ]
    },
    {
      "cell_type": "code",
      "source": [
        "dir_validation = \"./herbs-plant/Data_Validation/\"\n",
        "\n",
        "validation_datagen = ImageDataGenerator(rescale = 1.0/255.)\n",
        "\n",
        "validation_generator = validation_datagen.flow_from_directory(\n",
        "\tdir_validation,\n",
        "\ttarget_size=(224,224),\n",
        "\tclass_mode='categorical'\n",
        ")"
      ],
      "metadata": {
        "colab": {
          "base_uri": "https://localhost:8080/"
        },
        "id": "iwVnjTQy3xYD",
        "outputId": "5d4ab7d3-f342-4237-f02e-f832fe8ca22f"
      },
      "execution_count": 11,
      "outputs": [
        {
          "output_type": "stream",
          "name": "stdout",
          "text": [
            "Found 200 images belonging to 11 classes.\n"
          ]
        }
      ]
    },
    {
      "cell_type": "code",
      "source": [
        "model = tf.keras.models.Sequential([\n",
        "    tf.keras.layers.Conv2D(32, (17,17), activation='relu', input_shape=(224, 224, 3)),\n",
        "    tf.keras.layers.MaxPooling2D(2, 2),\n",
        "    tf.keras.layers.Conv2D(64, (3,3), activation='relu'),\n",
        "    tf.keras.layers.MaxPooling2D(2,2),\n",
        "    tf.keras.layers.Conv2D(128, (3,3), activation='relu'),\n",
        "    tf.keras.layers.MaxPooling2D(2,2),\n",
        "    tf.keras.layers.Conv2D(96, (3,3), activation='relu'),\n",
        "    tf.keras.layers.MaxPooling2D(2,2),\n",
        "    tf.keras.layers.Conv2D(64, (3,3), activation='relu'),\n",
        "    tf.keras.layers.MaxPooling2D(2,2),\n",
        "    tf.keras.layers.Flatten(),\n",
        "    tf.keras.layers.Dropout(0.5),\n",
        "    tf.keras.layers.Dense(512, activation='relu'),\n",
        "    tf.keras.layers.Dense(11, activation='softmax')\n",
        "])\n",
        "\n",
        "\n",
        "model.summary()"
      ],
      "metadata": {
        "id": "A76Lmvrd4JK4",
        "colab": {
          "base_uri": "https://localhost:8080/"
        },
        "outputId": "bbf4d3b1-b958-4e32-a151-a7094d1f20f7"
      },
      "execution_count": 12,
      "outputs": [
        {
          "output_type": "stream",
          "name": "stdout",
          "text": [
            "Model: \"sequential\"\n",
            "_________________________________________________________________\n",
            " Layer (type)                Output Shape              Param #   \n",
            "=================================================================\n",
            " conv2d (Conv2D)             (None, 208, 208, 32)      27776     \n",
            "                                                                 \n",
            " max_pooling2d (MaxPooling2D  (None, 104, 104, 32)     0         \n",
            " )                                                               \n",
            "                                                                 \n",
            " conv2d_1 (Conv2D)           (None, 102, 102, 64)      18496     \n",
            "                                                                 \n",
            " max_pooling2d_1 (MaxPooling  (None, 51, 51, 64)       0         \n",
            " 2D)                                                             \n",
            "                                                                 \n",
            " conv2d_2 (Conv2D)           (None, 49, 49, 128)       73856     \n",
            "                                                                 \n",
            " max_pooling2d_2 (MaxPooling  (None, 24, 24, 128)      0         \n",
            " 2D)                                                             \n",
            "                                                                 \n",
            " conv2d_3 (Conv2D)           (None, 22, 22, 96)        110688    \n",
            "                                                                 \n",
            " max_pooling2d_3 (MaxPooling  (None, 11, 11, 96)       0         \n",
            " 2D)                                                             \n",
            "                                                                 \n",
            " conv2d_4 (Conv2D)           (None, 9, 9, 64)          55360     \n",
            "                                                                 \n",
            " max_pooling2d_4 (MaxPooling  (None, 4, 4, 64)         0         \n",
            " 2D)                                                             \n",
            "                                                                 \n",
            " flatten (Flatten)           (None, 1024)              0         \n",
            "                                                                 \n",
            " dropout (Dropout)           (None, 1024)              0         \n",
            "                                                                 \n",
            " dense (Dense)               (None, 512)               524800    \n",
            "                                                                 \n",
            " dense_1 (Dense)             (None, 11)                5643      \n",
            "                                                                 \n",
            "=================================================================\n",
            "Total params: 816,619\n",
            "Trainable params: 816,619\n",
            "Non-trainable params: 0\n",
            "_________________________________________________________________\n"
          ]
        }
      ]
    },
    {
      "cell_type": "code",
      "source": [
        "labels = train_generator.class_indices.keys()\n",
        "model.compile(loss = 'categorical_crossentropy', optimizer='adam', metrics=['accuracy'])\n",
        "performa = model.fit(train_generator, epochs=50, steps_per_epoch=25, validation_data = validation_generator, verbose = 1)"
      ],
      "metadata": {
        "id": "MtC8Fxaj4TDG",
        "colab": {
          "base_uri": "https://localhost:8080/"
        },
        "outputId": "39176779-5b1f-46e8-a1da-8f1342f08bc3"
      },
      "execution_count": 13,
      "outputs": [
        {
          "output_type": "stream",
          "name": "stdout",
          "text": [
            "Epoch 1/50\n",
            "25/25 [==============================] - 224s 8s/step - loss: 2.3338 - accuracy: 0.1013 - val_loss: 2.2011 - val_accuracy: 0.1400\n",
            "Epoch 2/50\n",
            "25/25 [==============================] - 200s 8s/step - loss: 2.1307 - accuracy: 0.1912 - val_loss: 1.9138 - val_accuracy: 0.3600\n",
            "Epoch 3/50\n",
            "25/25 [==============================] - 199s 8s/step - loss: 1.7508 - accuracy: 0.3475 - val_loss: 1.6993 - val_accuracy: 0.4550\n",
            "Epoch 4/50\n",
            "25/25 [==============================] - 197s 8s/step - loss: 1.4771 - accuracy: 0.4487 - val_loss: 1.7124 - val_accuracy: 0.5450\n",
            "Epoch 5/50\n",
            "25/25 [==============================] - 196s 8s/step - loss: 1.4257 - accuracy: 0.4663 - val_loss: 1.6072 - val_accuracy: 0.4550\n",
            "Epoch 6/50\n",
            "25/25 [==============================] - 195s 8s/step - loss: 1.2499 - accuracy: 0.5075 - val_loss: 1.5260 - val_accuracy: 0.4700\n",
            "Epoch 7/50\n",
            "25/25 [==============================] - 194s 8s/step - loss: 1.1353 - accuracy: 0.5612 - val_loss: 1.4706 - val_accuracy: 0.5400\n",
            "Epoch 8/50\n",
            "25/25 [==============================] - 195s 8s/step - loss: 1.0129 - accuracy: 0.6112 - val_loss: 1.5199 - val_accuracy: 0.5850\n",
            "Epoch 9/50\n",
            "25/25 [==============================] - 194s 8s/step - loss: 1.0942 - accuracy: 0.5738 - val_loss: 1.4479 - val_accuracy: 0.5900\n",
            "Epoch 10/50\n",
            "25/25 [==============================] - 196s 8s/step - loss: 0.9808 - accuracy: 0.6150 - val_loss: 1.5037 - val_accuracy: 0.5700\n",
            "Epoch 11/50\n",
            "25/25 [==============================] - 197s 8s/step - loss: 0.8658 - accuracy: 0.6700 - val_loss: 1.3180 - val_accuracy: 0.5500\n",
            "Epoch 12/50\n",
            "25/25 [==============================] - 197s 8s/step - loss: 0.9267 - accuracy: 0.6612 - val_loss: 1.2619 - val_accuracy: 0.5500\n",
            "Epoch 13/50\n",
            "25/25 [==============================] - 197s 8s/step - loss: 0.9371 - accuracy: 0.6363 - val_loss: 1.2488 - val_accuracy: 0.5600\n",
            "Epoch 14/50\n",
            "25/25 [==============================] - 196s 8s/step - loss: 0.7626 - accuracy: 0.7200 - val_loss: 1.2024 - val_accuracy: 0.6550\n",
            "Epoch 15/50\n",
            "25/25 [==============================] - 197s 8s/step - loss: 0.8000 - accuracy: 0.6950 - val_loss: 1.1195 - val_accuracy: 0.6800\n",
            "Epoch 16/50\n",
            "25/25 [==============================] - 199s 8s/step - loss: 0.6989 - accuracy: 0.7325 - val_loss: 1.1042 - val_accuracy: 0.6850\n",
            "Epoch 17/50\n",
            "25/25 [==============================] - 200s 8s/step - loss: 0.6915 - accuracy: 0.7513 - val_loss: 1.0948 - val_accuracy: 0.6650\n",
            "Epoch 18/50\n",
            "25/25 [==============================] - 199s 8s/step - loss: 0.6744 - accuracy: 0.7412 - val_loss: 1.3832 - val_accuracy: 0.5800\n",
            "Epoch 19/50\n",
            "25/25 [==============================] - 197s 8s/step - loss: 0.6879 - accuracy: 0.7513 - val_loss: 1.1697 - val_accuracy: 0.6400\n",
            "Epoch 20/50\n",
            "25/25 [==============================] - 196s 8s/step - loss: 0.5732 - accuracy: 0.7763 - val_loss: 1.0393 - val_accuracy: 0.7350\n",
            "Epoch 21/50\n",
            "25/25 [==============================] - 196s 8s/step - loss: 0.5506 - accuracy: 0.8100 - val_loss: 0.9394 - val_accuracy: 0.6900\n",
            "Epoch 22/50\n",
            "25/25 [==============================] - 196s 8s/step - loss: 0.5852 - accuracy: 0.7812 - val_loss: 1.4062 - val_accuracy: 0.6300\n",
            "Epoch 23/50\n",
            "25/25 [==============================] - 195s 8s/step - loss: 0.5785 - accuracy: 0.7850 - val_loss: 1.2931 - val_accuracy: 0.6250\n",
            "Epoch 24/50\n",
            "25/25 [==============================] - 194s 8s/step - loss: 0.5673 - accuracy: 0.7763 - val_loss: 1.1116 - val_accuracy: 0.6550\n",
            "Epoch 25/50\n",
            "25/25 [==============================] - 196s 8s/step - loss: 0.5267 - accuracy: 0.7912 - val_loss: 1.1572 - val_accuracy: 0.6800\n",
            "Epoch 26/50\n",
            "25/25 [==============================] - 197s 8s/step - loss: 0.4927 - accuracy: 0.8175 - val_loss: 1.1276 - val_accuracy: 0.7100\n",
            "Epoch 27/50\n",
            "25/25 [==============================] - 195s 8s/step - loss: 0.5720 - accuracy: 0.7950 - val_loss: 1.2447 - val_accuracy: 0.6150\n",
            "Epoch 28/50\n",
            "25/25 [==============================] - 194s 8s/step - loss: 0.5957 - accuracy: 0.7862 - val_loss: 1.0059 - val_accuracy: 0.6550\n",
            "Epoch 29/50\n",
            "25/25 [==============================] - 196s 8s/step - loss: 0.4555 - accuracy: 0.8425 - val_loss: 1.2749 - val_accuracy: 0.6700\n",
            "Epoch 30/50\n",
            "25/25 [==============================] - 196s 8s/step - loss: 0.4086 - accuracy: 0.8475 - val_loss: 1.0019 - val_accuracy: 0.7200\n",
            "Epoch 31/50\n",
            "25/25 [==============================] - 196s 8s/step - loss: 0.4411 - accuracy: 0.8338 - val_loss: 1.0403 - val_accuracy: 0.6850\n",
            "Epoch 32/50\n",
            "25/25 [==============================] - 195s 8s/step - loss: 0.4110 - accuracy: 0.8637 - val_loss: 1.0931 - val_accuracy: 0.6650\n",
            "Epoch 33/50\n",
            "25/25 [==============================] - 195s 8s/step - loss: 0.4364 - accuracy: 0.8213 - val_loss: 1.0985 - val_accuracy: 0.7000\n",
            "Epoch 34/50\n",
            "25/25 [==============================] - 195s 8s/step - loss: 0.3886 - accuracy: 0.8562 - val_loss: 0.8597 - val_accuracy: 0.7050\n",
            "Epoch 35/50\n",
            "25/25 [==============================] - 194s 8s/step - loss: 0.4141 - accuracy: 0.8500 - val_loss: 0.9640 - val_accuracy: 0.7400\n",
            "Epoch 36/50\n",
            "25/25 [==============================] - 195s 8s/step - loss: 0.4073 - accuracy: 0.8537 - val_loss: 1.0037 - val_accuracy: 0.7400\n",
            "Epoch 37/50\n",
            "25/25 [==============================] - 196s 8s/step - loss: 0.3813 - accuracy: 0.8625 - val_loss: 1.3006 - val_accuracy: 0.6800\n",
            "Epoch 38/50\n",
            "25/25 [==============================] - 196s 8s/step - loss: 0.4271 - accuracy: 0.8487 - val_loss: 0.9333 - val_accuracy: 0.7100\n",
            "Epoch 39/50\n",
            "25/25 [==============================] - 197s 8s/step - loss: 0.3609 - accuracy: 0.8737 - val_loss: 1.0689 - val_accuracy: 0.7050\n",
            "Epoch 40/50\n",
            "25/25 [==============================] - 198s 8s/step - loss: 0.3413 - accuracy: 0.8687 - val_loss: 0.8885 - val_accuracy: 0.7250\n",
            "Epoch 41/50\n",
            "25/25 [==============================] - 194s 8s/step - loss: 0.3935 - accuracy: 0.8550 - val_loss: 1.0991 - val_accuracy: 0.6900\n",
            "Epoch 42/50\n",
            "25/25 [==============================] - 195s 8s/step - loss: 0.4175 - accuracy: 0.8350 - val_loss: 0.8679 - val_accuracy: 0.7300\n",
            "Epoch 43/50\n",
            "25/25 [==============================] - 195s 8s/step - loss: 0.3461 - accuracy: 0.8712 - val_loss: 0.9872 - val_accuracy: 0.6600\n",
            "Epoch 44/50\n",
            "25/25 [==============================] - 194s 8s/step - loss: 0.2853 - accuracy: 0.9038 - val_loss: 0.9810 - val_accuracy: 0.7200\n",
            "Epoch 45/50\n",
            "25/25 [==============================] - 194s 8s/step - loss: 0.2850 - accuracy: 0.8950 - val_loss: 1.0005 - val_accuracy: 0.6900\n",
            "Epoch 46/50\n",
            "25/25 [==============================] - 194s 8s/step - loss: 0.3261 - accuracy: 0.8875 - val_loss: 0.8365 - val_accuracy: 0.7600\n",
            "Epoch 47/50\n",
            "25/25 [==============================] - 194s 8s/step - loss: 0.3411 - accuracy: 0.8662 - val_loss: 0.8386 - val_accuracy: 0.7050\n",
            "Epoch 48/50\n",
            "25/25 [==============================] - 194s 8s/step - loss: 0.2663 - accuracy: 0.8913 - val_loss: 0.9756 - val_accuracy: 0.7550\n",
            "Epoch 49/50\n",
            "25/25 [==============================] - 194s 8s/step - loss: 0.3520 - accuracy: 0.8775 - val_loss: 0.7834 - val_accuracy: 0.7300\n",
            "Epoch 50/50\n",
            "25/25 [==============================] - 194s 8s/step - loss: 0.2563 - accuracy: 0.9112 - val_loss: 0.9885 - val_accuracy: 0.7500\n"
          ]
        }
      ]
    },
    {
      "cell_type": "code",
      "source": [
        "import matplotlib.pyplot as plt\n",
        "\n",
        "# Plot the model results\n",
        "acc = performa.history['accuracy']\n",
        "val_acc = performa.history['val_accuracy']\n",
        "loss = performa.history['loss']\n",
        "val_loss = performa.history['val_loss']\n",
        "\n",
        "epochs = range(len(acc))\n",
        "\n",
        "plt.plot(epochs, acc, 'r', label='Training accuracy')\n",
        "plt.plot(epochs, val_acc, 'b', label='Validation accuracy')\n",
        "plt.title('Training and validation accuracy')\n",
        "\n",
        "plt.figure()\n",
        "\n",
        "plt.plot(epochs, loss, 'r', label='Training Loss')\n",
        "plt.plot(epochs, val_loss, 'b', label='Validation Loss')\n",
        "plt.title('Training and validation loss')\n",
        "plt.legend()\n",
        "\n",
        "plt.show()"
      ],
      "metadata": {
        "colab": {
          "base_uri": "https://localhost:8080/",
          "height": 545
        },
        "id": "mC816kms5LGB",
        "outputId": "e0285d92-273c-4a85-fdc6-a39c5bcf1a82"
      },
      "execution_count": 14,
      "outputs": [
        {
          "output_type": "display_data",
          "data": {
            "text/plain": [
              "<Figure size 432x288 with 1 Axes>"
            ],
            "image/png": "[encoded data removed]"
          },
          "metadata": {
            "needs_background": "light"
          }
        },
        {
          "output_type": "display_data",
          "data": {
            "text/plain": [
              "<Figure size 432x288 with 1 Axes>"
            ],
            "image/png": "[encoded data removed]"
          },
          "metadata": {
            "needs_background": "light"
          }
        }
      ]
    }
  ]
}