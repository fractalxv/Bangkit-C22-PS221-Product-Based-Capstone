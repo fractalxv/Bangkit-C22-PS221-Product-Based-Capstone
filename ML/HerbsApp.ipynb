{
  "nbformat": 4,
  "nbformat_minor": 0,
  "metadata": {
    "colab": {
      "name": "HerbsApp.ipynb",
      "provenance": [],
      "collapsed_sections": []
    },
    "kernelspec": {
      "name": "python3",
      "display_name": "Python 3"
    },
    "language_info": {
      "name": "python"
    },
    "accelerator": "GPU"
  },
  "cells": [
    {
      "cell_type": "markdown",
      "source": [
        "**Import data from drive**"
      ],
      "metadata": {
        "id": "FUO-rKdqiOOC"
      }
    },
    {
      "cell_type": "code",
      "execution_count": 1,
      "metadata": {
        "colab": {
          "base_uri": "https://localhost:8080/"
        },
        "id": "tE-ta8yb-mwk",
        "outputId": "d748b10d-3a63-4459-ce38-eec2ba397d18"
      },
      "outputs": [
        {
          "output_type": "stream",
          "name": "stdout",
          "text": [
            "Mounted at /content/gdrive\n",
            "gdrive\tsample_data\n"
          ]
        }
      ],
      "source": [
        "from google.colab import drive\n",
        "drive.mount('/content/gdrive')\n",
        "!ls"
      ]
    },
    {
      "cell_type": "markdown",
      "source": [
        "**Unzip file**"
      ],
      "metadata": {
        "id": "V27BHmNYiicP"
      }
    },
    {
      "cell_type": "code",
      "source": [
        "import zipfile\n",
        "\n",
        "# Unzip the dataset\n",
        "local_zip = './gdrive/MyDrive/DATASET_TANAMAN_HERBAL.zip'\n",
        "zip_ref = zipfile.ZipFile(local_zip, 'r')\n",
        "zip_ref.extractall('./herbs-plant')\n",
        "zip_ref.close()"
      ],
      "metadata": {
        "id": "Dy4HkHgSexqr"
      },
      "execution_count": 2,
      "outputs": []
    },
    {
      "cell_type": "markdown",
      "source": [
        "**define directories**"
      ],
      "metadata": {
        "id": "L8lysrpuumg6"
      }
    },
    {
      "cell_type": "code",
      "source": [
        "import os\n",
        "\n",
        "#train\n",
        "train_jambu_dir = os.path.join('./herbs-plant/Data_Training/Daun_Jambu_Biji')\n",
        "train_kari_dir = os.path.join('./herbs-plant/Data_Training/Daun_Kari')\n",
        "train_kemangi_dir = os.path.join('./herbs-plant/Data_Training/Daun_Kemangi')\n",
        "train_kunyit_dir = os.path.join('./herbs-plant/Data_Training/Daun_Kunyit')\n",
        "train_mint_dir = os.path.join('./herbs-plant/Data_Training/Daun_Mint')\n",
        "train_pepaya_dir = os.path.join('./herbs-plant/Data_Training/Daun_Pepaya')\n",
        "train_sirih_dir = os.path.join('./herbs-plant/Data_Training/Daun_Sirih')\n",
        "train_sirsak_dir = os.path.join('./herbs-plant/Data_Training/Daun_Sirsak')\n",
        "train_lidahbuaya_dir = os.path.join('./herbs-plant/Data_Training/Lidah_Buaya')\n",
        "train_tehhijau_dir = os.path.join('./herbs-plant/Data_Training/Teh_Hijau')\n",
        "\n",
        "#validation\n",
        "validation_jambu_dir = os.path.join('./herbs-plant/Data_Validation/Daun_Jambu_Biji')\n",
        "validation_kari_dir = os.path.join('./herbs-plant/Data_Validation/Daun_Kari')\n",
        "validation_kemangi_dir = os.path.join('./herbs-plant/Data_Validation/Daun_Kemangi')\n",
        "validation_kunyit_dir = os.path.join('./herbs-plant/Data_Validation/Daun_Kunyit')\n",
        "validation_mint_dir = os.path.join('./herbs-plant/Data_Validation/Daun_Mint')\n",
        "validation_pepaya_dir = os.path.join('./herbs-plant/Data_Validation/Daun_Pepaya')\n",
        "validation_sirih_dir = os.path.join('./herbs-plant/Data_Validation/Daun_Sirih')\n",
        "validation_sirsak_dir = os.path.join('./herbs-plant/Data_Validation/Daun_Sirsak')\n",
        "validation_lidahbuaya_dir = os.path.join('./herbs-plant/Data_Validation/Lidah_Buaya')\n",
        "validation_tehhijau_dir = os.path.join('./herbs-plant/Data_Validation/Teh_Hijau')"
      ],
      "metadata": {
        "id": "d93FCNQpiLyd"
      },
      "execution_count": 3,
      "outputs": []
    },
    {
      "cell_type": "code",
      "source": [
        "print('JAMBU BIJI TRAIN SET:', len(os.listdir(train_jambu_dir)))\n",
        "print('KARI TRAIN SET:', len(os.listdir(train_kari_dir)))\n",
        "print('KEMANGI TRAIN SET:', len(os.listdir(train_kemangi_dir)))\n",
        "print('KUNYIT TRAIN SET:', len(os.listdir(train_kunyit_dir)))\n",
        "print('MINT TRAIN SET:', len(os.listdir(train_mint_dir)))\n",
        "print('PEPAYA TRAIN SET:', len(os.listdir(train_pepaya_dir)))\n",
        "print('SIRIH TRAIN SET:', len(os.listdir(train_sirih_dir)))\n",
        "print('SIRSAK TRAIN SET:', len(os.listdir(train_sirsak_dir)))\n",
        "print('LIDAH BUAYA TRAIN SET:', len(os.listdir(train_lidahbuaya_dir)))\n",
        "print('TEH HIJAU TRAIN SET:', len(os.listdir(train_tehhijau_dir)))"
      ],
      "metadata": {
        "colab": {
          "base_uri": "https://localhost:8080/"
        },
        "id": "BVl-WGCyw9QY",
        "outputId": "4c485fd6-13ad-4b04-8b83-d7066d9aa1d8"
      },
      "execution_count": 4,
      "outputs": [
        {
          "output_type": "stream",
          "name": "stdout",
          "text": [
            "JAMBU BIJI TRAIN SET: 80\n",
            "KARI TRAIN SET: 80\n",
            "KEMANGI TRAIN SET: 80\n",
            "KUNYIT TRAIN SET: 80\n",
            "MINT TRAIN SET: 80\n",
            "PEPAYA TRAIN SET: 80\n",
            "SIRIH TRAIN SET: 80\n",
            "SIRSAK TRAIN SET: 80\n",
            "LIDAH BUAYA TRAIN SET: 80\n",
            "TEH HIJAU TRAIN SET: 80\n"
          ]
        }
      ]
    },
    {
      "cell_type": "code",
      "source": [
        "print('JAMBU BIJI VALIDATION SET:', len(os.listdir(validation_jambu_dir)))\n",
        "print('KARI VALIDATION SET:', len(os.listdir(validation_kari_dir)))\n",
        "print('KEMANGI VALIDATION SET:', len(os.listdir(validation_kemangi_dir)))\n",
        "print('KUNYIT VALIDATION SET:', len(os.listdir(validation_kunyit_dir)))\n",
        "print('MINT VALIDATION SET:', len(os.listdir(validation_mint_dir)))\n",
        "print('PEPAYA VALIDATION SET:', len(os.listdir(validation_pepaya_dir)))\n",
        "print('SIRIH VALIDATION SET:', len(os.listdir(validation_sirih_dir)))\n",
        "print('SIRSAK VALIDATION SET:', len(os.listdir(validation_sirsak_dir)))\n",
        "print('LIDAH VALIDATION TRAIN SET:', len(os.listdir(validation_lidahbuaya_dir)))\n",
        "print('TEH HIJAU VALIDATION SET:', len(os.listdir(validation_tehhijau_dir)))"
      ],
      "metadata": {
        "colab": {
          "base_uri": "https://localhost:8080/"
        },
        "id": "AWvJ557Lxy8K",
        "outputId": "35e27845-3640-4a35-9e78-afe18261d751"
      },
      "execution_count": 5,
      "outputs": [
        {
          "output_type": "stream",
          "name": "stdout",
          "text": [
            "JAMBU BIJI VALIDATION SET: 20\n",
            "KARI VALIDATION SET: 20\n",
            "KEMANGI VALIDATION SET: 20\n",
            "KUNYIT VALIDATION SET: 20\n",
            "MINT VALIDATION SET: 20\n",
            "PEPAYA VALIDATION SET: 20\n",
            "SIRIH VALIDATION SET: 20\n",
            "SIRSAK VALIDATION SET: 20\n",
            "LIDAH VALIDATION TRAIN SET: 20\n",
            "TEH HIJAU VALIDATION SET: 20\n"
          ]
        }
      ]
    },
    {
      "cell_type": "markdown",
      "source": [
        "**check data**"
      ],
      "metadata": {
        "id": "TO5upRnEyRpr"
      }
    },
    {
      "cell_type": "code",
      "source": [
        "#train data\n",
        "train_jambu_names = os.listdir(train_jambu_dir)\n",
        "print(f'JAMBU BIJI TRAIN SET: {train_jambu_names[:10]}')\n",
        "\n",
        "train_kari_names = os.listdir(train_kari_dir)\n",
        "print(f'KARI TRAIN SET: {train_kari_names[:10]}')\n",
        "\n",
        "train_kemangi_names = os.listdir(train_kemangi_dir)\n",
        "print(f'KEMANGI TRAIN SET: {train_kemangi_names[:10]}')\n",
        "\n",
        "train_kunyit_names = os.listdir(train_kunyit_dir)\n",
        "print(f'KUNYIT TRAIN SET: {train_kunyit_names[:10]}')\n",
        "\n",
        "train_mint_names = os.listdir(train_mint_dir)\n",
        "print(f'MINT TRAIN SET: {train_mint_names[:10]}')\n",
        "\n",
        "train_pepaya_names = os.listdir(train_pepaya_dir)\n",
        "print(f'PEPAYA TRAIN SET: {train_pepaya_names[:10]}')\n",
        "\n",
        "train_sirih_names = os.listdir(train_sirih_dir)\n",
        "print(f'SIRIH TRAIN SET: {train_sirih_names[:10]}')\n",
        "\n",
        "train_sirsak_names = os.listdir(train_sirsak_dir)\n",
        "print(f'SIRIH TRAIN SET: {train_sirsak_names[:10]}')\n",
        "\n",
        "train_lidahbuaya_names = os.listdir(train_lidahbuaya_dir)\n",
        "print(f'LIDAH BUAYA TRAIN SET: {train_lidahbuaya_names[:10]}')\n",
        "\n",
        "train_tehhijau_names = os.listdir(train_tehhijau_dir)\n",
        "print(f'TEH HIJAU TRAIN SET: {train_tehhijau_names[:10]}')"
      ],
      "metadata": {
        "colab": {
          "base_uri": "https://localhost:8080/"
        },
        "id": "wGTx7U_1yOn-",
        "outputId": "8dc57ad7-de2f-470e-f2c2-fe61dfd1c7c3"
      },
      "execution_count": 6,
      "outputs": [
        {
          "output_type": "stream",
          "name": "stdout",
          "text": [
            "JAMBU BIJI TRAIN SET: ['jambu biji (39).jpg', 'jambu biji (19).JPG', 'jambu biji (72).JPG', 'jambu biji (30).JPG', 'jambu biji (32).JPG', 'jambu biji (38).jpg', 'jambu biji (49).JPG', 'jambu biji (29).JPG', 'jambu biji (75).JPG', 'jambu biji (12).JPG']\n",
            "KARI TRAIN SET: ['KARI (79).JPG', 'KARI (52).JPG', 'KARI (76).JPG', 'KARI (7).JPG', 'KARI (17).JPG', 'KARI (33).JPG', 'KARI (45).JPG', 'KARI (59).JPG', 'KARI (73).JPG', 'KARI (60).JPG']\n",
            "KEMANGI TRAIN SET: ['daun kemangi (50).jpg', 'daun kemangi (48).jpg', 'daun kemangi (47).jpg', 'daun kemangi (29).jpg', 'daun kemangi (22).jpg', 'daun kemangi (67).jpg', 'daun kemangi (51).jpg', 'daun kemangi (23).jpg', 'daun kemangi (9).jpg', 'daun kemangi (44).jpg']\n",
            "KUNYIT TRAIN SET: ['kunyit (16).JPG', 'kunyit (14).JPG', 'kunyit (26).JPG', 'kunyit (59).JPG', 'kunyit (27).JPG', 'kunyit (67).JPG', 'kunyit (72).JPG', 'kunyit (45).JPG', 'kunyit (63).JPG', 'kunyit (18).JPG']\n",
            "MINT TRAIN SET: ['mint (50).jpg', 'mint (36).jpg', 'mint (49).jpg', 'mint (29).jpg', 'mint (10).jpg', 'mint (46).jpg', 'mint (70).jpg', 'mint (31).jpg', 'mint (20).jpg', 'mint (17).jpg']\n",
            "PEPAYA TRAIN SET: ['pepaya (62).JPG', 'pepaya (48).JPG', 'pepaya (22).JPG', 'pepaya (1).JPG', 'pepaya (50).JPG', 'pepaya (18).JPG', 'pepaya (4).JPG', 'pepaya (28).JPG', 'pepaya (47).JPG', 'pepaya (41).JPG']\n",
            "SIRIH TRAIN SET: ['Sirih (31).jpg', 'Sirih (34).jpg', 'Sirih (45).jpg', 'Sirih (25).jpg', 'Sirih (38).jpg', 'Sirih (24).jpg', 'Sirih (66).jpg', 'Sirih (58).jpg', 'Sirih (2).jpg', 'Sirih (68).jpg']\n",
            "SIRIH TRAIN SET: ['sirsakk (66).JPG', 'sirsakk (63).JPG', 'sirsakk (14).JPG', 'sirsakk (62).JPG', 'sirsakk (33).JPG', 'sirsakk (49).JPG', 'sirsakk (12).JPG', 'sirsakk (72).JPG', 'sirsakk (68).JPG', 'sirsakk (65).JPG']\n",
            "LIDAH BUAYA TRAIN SET: ['lidah buaya (17).JPG', 'lidah buaya (12).JPG', 'lidah buaya (71).JPG', 'lidah buaya (45).JPG', 'lidah buaya (8).JPG', 'lidah buaya (70).JPG', 'lidah buaya (44).JPG', 'lidah buaya (59).JPG', 'lidah buaya (36).JPG', 'lidah buaya (80).JPG']\n",
            "TEH HIJAU TRAIN SET: ['Teh Hijauu (3).jpg', 'Teh Hijauu (5).jpg', 'Teh Hijauu (61).jpg', 'Teh Hijauu (7).jpg', 'Teh Hijauu (14).jpg', 'Teh Hijauu (41).jpg', 'Teh Hijauu (50).jpg', 'Teh Hijauu (64).jpg', 'Teh Hijauu (48).jpg', 'Teh Hijauu (11).jpg']\n"
          ]
        }
      ]
    },
    {
      "cell_type": "code",
      "source": [
        "#validation data\n",
        "validation_jambu_names = os.listdir(validation_jambu_dir)\n",
        "print(f'JAMBU BIJI VAL SET: {train_jambu_names[:10]}')\n",
        "\n",
        "validation_kari_names = os.listdir(validation_kari_dir)\n",
        "print(f'KARI VAL SET: {validation_kari_names[:10]}')\n",
        "\n",
        "validation_kemangi_names = os.listdir(validation_kemangi_dir)\n",
        "print(f'KEMANGI VAL SET: {validation_kemangi_names[:10]}')\n",
        "\n",
        "validation_kunyit_names = os.listdir(validation_kunyit_dir)\n",
        "print(f'KUNYIT VAL SET: {validation_kunyit_names[:10]}')\n",
        "\n",
        "validation_mint_names = os.listdir(validation_mint_dir)\n",
        "print(f'MINT VAL SET: {validation_mint_names[:10]}')\n",
        "\n",
        "validation_pepaya_names = os.listdir(validation_pepaya_dir)\n",
        "print(f'PEPAYA VAL SET: {validation_pepaya_names[:10]}')\n",
        "\n",
        "validation_sirih_names = os.listdir(validation_sirih_dir)\n",
        "print(f'SIRIH VAL SET: {validation_sirih_names[:10]}')\n",
        "\n",
        "validation_sirsak_names = os.listdir(validation_sirsak_dir)\n",
        "print(f'SIRIH VAL SET: {validation_sirsak_names[:10]}')\n",
        "\n",
        "validation_lidahbuaya_names = os.listdir(validation_lidahbuaya_dir)\n",
        "print(f'LIDAH BUAYA VAL SET: {validation_lidahbuaya_names[:10]}')\n",
        "\n",
        "validation_tehhijau_names = os.listdir(validation_tehhijau_dir)\n",
        "print(f'TEH HIJAU VAL SET: {validation_tehhijau_names[:10]}')"
      ],
      "metadata": {
        "colab": {
          "base_uri": "https://localhost:8080/"
        },
        "id": "RJ364fiEz6nX",
        "outputId": "7a5275f3-ef00-46cc-d6f8-b3afcf814831"
      },
      "execution_count": 7,
      "outputs": [
        {
          "output_type": "stream",
          "name": "stdout",
          "text": [
            "JAMBU BIJI VAL SET: ['jambu biji (39).jpg', 'jambu biji (19).JPG', 'jambu biji (72).JPG', 'jambu biji (30).JPG', 'jambu biji (32).JPG', 'jambu biji (38).jpg', 'jambu biji (49).JPG', 'jambu biji (29).JPG', 'jambu biji (75).JPG', 'jambu biji (12).JPG']\n",
            "KARI VAL SET: ['KARI (97).JPG', 'KARI (85).JPG', 'KARI (94).JPG', 'KARI (81).JPG', 'KARI (99).JPG', 'KARI (95).JPG', 'KARI (86).JPG', 'KARI (87).JPG', 'KARI (90).JPG', 'KARI (84).JPG']\n",
            "KEMANGI VAL SET: ['daun kemangi (85).jpg', 'daun kemangi (93).jpg', 'daun kemangi (83).jpg', 'daun kemangi (91).jpg', 'daun kemangi (82).jpg', 'daun kemangi (88).jpg', 'daun kemangi (86).jpg', 'daun kemangi (92).jpg', 'daun kemangi (84).jpg', 'daun kemangi (81).jpg']\n",
            "KUNYIT VAL SET: ['kunyit (90).JPG', 'kunyit (87).JPG', 'kunyit (95).JPG', 'kunyit (92).JPG', 'kunyit (85).JPG', 'kunyit (99).JPG', 'kunyit (82).JPG', 'kunyit (91).JPG', 'kunyit (96).JPG', 'kunyit (86).JPG']\n",
            "MINT VAL SET: ['mint (93).jpg', 'mint (94).jpg', 'mint (91).jpg', 'mint (95).jpg', 'mint (89).jpg', 'mint (87).jpg', 'mint (98).jpg', 'mint (92).jpg', 'mint (83).jpg', 'mint (88).jpg']\n",
            "PEPAYA VAL SET: ['pepaya (90).JPG', 'pepaya (100).JPG', 'pepaya (92).JPG', 'pepaya (82).JPG', 'pepaya (91).JPG', 'pepaya (95).JPG', 'pepaya (98).JPG', 'pepaya (99).JPG', 'pepaya (89).JPG', 'pepaya (81).JPG']\n",
            "SIRIH VAL SET: ['Sirih (99).jpg', 'Sirih (83).jpg', 'Sirih (91).jpg', 'Sirih (97).jpg', 'Sirih (89).jpg', 'Sirih (94).jpg', 'Sirih (81).jpg', 'Sirih (95).jpg', 'Sirih (88).jpg', 'Sirih (87).jpg']\n",
            "SIRIH VAL SET: ['sirsakk (83).JPG', 'sirsakk (88).JPG', 'sirsakk (84).JPG', 'sirsakk (87).JPG', 'sirsakk (86).JPG', 'sirsakk (92).JPG', 'sirsakk (82).JPG', 'sirsakk (98).JPG', 'sirsakk (99).JPG', 'sirsakk (89).JPG']\n",
            "LIDAH BUAYA VAL SET: ['lidah buaya (87).jpg', 'lidah buaya (90).jpg', 'lidah buaya (95).jpg', 'lidah buaya (99).jpg', 'lidah buaya (86).jpg', 'lidah buaya (83).jpg', 'lidah buaya (93).jpg', 'lidah buaya (100).jpg', 'lidah buaya (81).jpg', 'lidah buaya (91).jpg']\n",
            "TEH HIJAU VAL SET: ['Teh Hijauu (88).jpg', 'Teh Hijauu (82).jpg', 'Teh Hijauu (94).jpg', 'Teh Hijauu (98).jpg', 'Teh Hijauu (84).jpg', 'Teh Hijauu (81).jpg', 'Teh Hijauu (87).jpg', 'Teh Hijauu (89).jpg', 'Teh Hijauu (91).jpg', 'Teh Hijauu (92).jpg']\n"
          ]
        }
      ]
    },
    {
      "cell_type": "markdown",
      "source": [
        "**data augmentation**"
      ],
      "metadata": {
        "id": "UF2rPXHU2S_w"
      }
    },
    {
      "cell_type": "code",
      "source": [
        "import tensorflow as tf\n",
        "import keras_preprocessing\n",
        "from keras_preprocessing import image\n",
        "from keras_preprocessing.image import ImageDataGenerator"
      ],
      "metadata": {
        "id": "DxtqjFhx2Wmr"
      },
      "execution_count": 8,
      "outputs": []
    },
    {
      "cell_type": "code",
      "source": [
        "dir_training = \"./herbs-plant/Data_Training/\"\n",
        "\n",
        "training_datagen = ImageDataGenerator(\n",
        "      rescale = 1.0/255.,\n",
        "\t    rotation_range=30,\n",
        "      width_shift_range=0.1,\n",
        "      height_shift_range=0.1,\n",
        "      shear_range=0.3,\n",
        "      zoom_range=0.3,\n",
        "      horizontal_flip=True,\n",
        "      vertical_flip=True,\n",
        "      fill_mode='nearest')\n",
        "\n",
        "train_generator = training_datagen.flow_from_directory(\n",
        "\tdir_training,\n",
        "\ttarget_size=(224,224),\n",
        "\tclass_mode='categorical'\n",
        ")"
      ],
      "metadata": {
        "colab": {
          "base_uri": "https://localhost:8080/"
        },
        "id": "o0WopHNK2fnX",
        "outputId": "a9ae529f-f8f6-436d-87d5-26e4d4f329f8"
      },
      "execution_count": 9,
      "outputs": [
        {
          "output_type": "stream",
          "name": "stdout",
          "text": [
            "Found 800 images belonging to 11 classes.\n"
          ]
        }
      ]
    },
    {
      "cell_type": "code",
      "source": [
        "dir_validation = \"./herbs-plant/Data_Validation/\"\n",
        "\n",
        "validation_datagen = ImageDataGenerator(rescale = 1.0/255.)\n",
        "\n",
        "validation_generator = validation_datagen.flow_from_directory(\n",
        "\tdir_validation,\n",
        "\ttarget_size=(224,224),\n",
        "\tclass_mode='categorical'\n",
        ")"
      ],
      "metadata": {
        "colab": {
          "base_uri": "https://localhost:8080/"
        },
        "id": "iwVnjTQy3xYD",
        "outputId": "734a1cc7-ef63-4ef8-827d-65969fd50230"
      },
      "execution_count": 10,
      "outputs": [
        {
          "output_type": "stream",
          "name": "stdout",
          "text": [
            "Found 200 images belonging to 11 classes.\n"
          ]
        }
      ]
    },
    {
      "cell_type": "code",
      "source": [
        "model = tf.keras.models.Sequential([\n",
        "    tf.keras.layers.Conv2D(64, (3,3), activation='relu', input_shape=(224, 224, 3)),\n",
        "    tf.keras.layers.MaxPooling2D(2, 2),\n",
        "    tf.keras.layers.Conv2D(128, (3,3), activation='relu'),\n",
        "    tf.keras.layers.MaxPooling2D(2,2),\n",
        "    tf.keras.layers.Conv2D(64, (3,3), activation='relu'),\n",
        "    tf.keras.layers.MaxPooling2D(2,2),\n",
        "    tf.keras.layers.Flatten(),\n",
        "    tf.keras.layers.Dropout(0.5),\n",
        "    tf.keras.layers.Dense(512, activation='relu'),\n",
        "    tf.keras.layers.Dense(11, activation='softmax')\n",
        "])\n",
        "\n",
        "\n",
        "model.summary()"
      ],
      "metadata": {
        "id": "A76Lmvrd4JK4",
        "colab": {
          "base_uri": "https://localhost:8080/"
        },
        "outputId": "bdad34aa-f1ef-4221-b677-2308540f25d8"
      },
      "execution_count": 11,
      "outputs": [
        {
          "output_type": "stream",
          "name": "stdout",
          "text": [
            "Model: \"sequential\"\n",
            "_________________________________________________________________\n",
            " Layer (type)                Output Shape              Param #   \n",
            "=================================================================\n",
            " conv2d (Conv2D)             (None, 222, 222, 64)      1792      \n",
            "                                                                 \n",
            " max_pooling2d (MaxPooling2D  (None, 111, 111, 64)     0         \n",
            " )                                                               \n",
            "                                                                 \n",
            " conv2d_1 (Conv2D)           (None, 109, 109, 128)     73856     \n",
            "                                                                 \n",
            " max_pooling2d_1 (MaxPooling  (None, 54, 54, 128)      0         \n",
            " 2D)                                                             \n",
            "                                                                 \n",
            " conv2d_2 (Conv2D)           (None, 52, 52, 64)        73792     \n",
            "                                                                 \n",
            " max_pooling2d_2 (MaxPooling  (None, 26, 26, 64)       0         \n",
            " 2D)                                                             \n",
            "                                                                 \n",
            " flatten (Flatten)           (None, 43264)             0         \n",
            "                                                                 \n",
            " dropout (Dropout)           (None, 43264)             0         \n",
            "                                                                 \n",
            " dense (Dense)               (None, 512)               22151680  \n",
            "                                                                 \n",
            " dense_1 (Dense)             (None, 11)                5643      \n",
            "                                                                 \n",
            "=================================================================\n",
            "Total params: 22,306,763\n",
            "Trainable params: 22,306,763\n",
            "Non-trainable params: 0\n",
            "_________________________________________________________________\n"
          ]
        }
      ]
    },
    {
      "cell_type": "code",
      "source": [
        "labels = train_generator.class_indices.keys()\n",
        "model.compile(loss = 'categorical_crossentropy', optimizer='adam', metrics=['accuracy'])\n",
        "performa = model.fit(train_generator, epochs=50, steps_per_epoch=25, validation_data = validation_generator, verbose = 1)"
      ],
      "metadata": {
        "id": "MtC8Fxaj4TDG",
        "colab": {
          "base_uri": "https://localhost:8080/"
        },
        "outputId": "be0b9032-3632-4e07-a1d4-85dc73675c69"
      },
      "execution_count": 12,
      "outputs": [
        {
          "output_type": "stream",
          "name": "stdout",
          "text": [
            "Epoch 1/50\n",
            "25/25 [==============================] - 249s 10s/step - loss: 2.5982 - accuracy: 0.1437 - val_loss: 2.0839 - val_accuracy: 0.1650\n",
            "Epoch 2/50\n",
            "25/25 [==============================] - 225s 9s/step - loss: 1.9196 - accuracy: 0.2725 - val_loss: 2.2671 - val_accuracy: 0.2250\n",
            "Epoch 3/50\n",
            "25/25 [==============================] - 221s 9s/step - loss: 1.4596 - accuracy: 0.4575 - val_loss: 2.0190 - val_accuracy: 0.4150\n",
            "Epoch 4/50\n",
            "25/25 [==============================] - 221s 9s/step - loss: 1.2667 - accuracy: 0.5113 - val_loss: 1.9261 - val_accuracy: 0.3900\n",
            "Epoch 5/50\n",
            "25/25 [==============================] - 222s 9s/step - loss: 1.2197 - accuracy: 0.5362 - val_loss: 1.5733 - val_accuracy: 0.4300\n",
            "Epoch 6/50\n",
            "25/25 [==============================] - 221s 9s/step - loss: 1.0590 - accuracy: 0.5825 - val_loss: 1.7953 - val_accuracy: 0.4650\n",
            "Epoch 7/50\n",
            "25/25 [==============================] - 221s 9s/step - loss: 1.0391 - accuracy: 0.6000 - val_loss: 1.9311 - val_accuracy: 0.4500\n",
            "Epoch 8/50\n",
            "25/25 [==============================] - 220s 9s/step - loss: 0.9480 - accuracy: 0.6450 - val_loss: 1.8946 - val_accuracy: 0.4800\n",
            "Epoch 9/50\n",
            "25/25 [==============================] - 221s 9s/step - loss: 0.8728 - accuracy: 0.6913 - val_loss: 1.3224 - val_accuracy: 0.6150\n",
            "Epoch 10/50\n",
            "25/25 [==============================] - 222s 9s/step - loss: 0.8681 - accuracy: 0.6775 - val_loss: 1.5570 - val_accuracy: 0.5750\n",
            "Epoch 11/50\n",
            "25/25 [==============================] - 224s 9s/step - loss: 0.7992 - accuracy: 0.7075 - val_loss: 1.3626 - val_accuracy: 0.6150\n",
            "Epoch 12/50\n",
            "25/25 [==============================] - 221s 9s/step - loss: 0.7944 - accuracy: 0.7200 - val_loss: 1.3324 - val_accuracy: 0.6450\n",
            "Epoch 13/50\n",
            "25/25 [==============================] - 220s 9s/step - loss: 0.7225 - accuracy: 0.7487 - val_loss: 1.4607 - val_accuracy: 0.6050\n",
            "Epoch 14/50\n",
            "25/25 [==============================] - 220s 9s/step - loss: 0.6916 - accuracy: 0.7375 - val_loss: 1.1382 - val_accuracy: 0.6550\n",
            "Epoch 15/50\n",
            "25/25 [==============================] - 220s 9s/step - loss: 0.7120 - accuracy: 0.7650 - val_loss: 1.0759 - val_accuracy: 0.6100\n",
            "Epoch 16/50\n",
            "25/25 [==============================] - 219s 9s/step - loss: 0.6722 - accuracy: 0.7563 - val_loss: 1.5215 - val_accuracy: 0.6000\n",
            "Epoch 17/50\n",
            "25/25 [==============================] - 220s 9s/step - loss: 0.6084 - accuracy: 0.7925 - val_loss: 1.0728 - val_accuracy: 0.6450\n",
            "Epoch 18/50\n",
            "25/25 [==============================] - 219s 9s/step - loss: 0.5882 - accuracy: 0.7887 - val_loss: 1.2750 - val_accuracy: 0.6600\n",
            "Epoch 19/50\n",
            "25/25 [==============================] - 220s 9s/step - loss: 0.6440 - accuracy: 0.7688 - val_loss: 1.1639 - val_accuracy: 0.7000\n",
            "Epoch 20/50\n",
            "25/25 [==============================] - 220s 9s/step - loss: 0.5824 - accuracy: 0.8062 - val_loss: 1.0036 - val_accuracy: 0.6800\n",
            "Epoch 21/50\n",
            "25/25 [==============================] - 222s 9s/step - loss: 0.5384 - accuracy: 0.8100 - val_loss: 1.0430 - val_accuracy: 0.7350\n",
            "Epoch 22/50\n",
            "25/25 [==============================] - 222s 9s/step - loss: 0.5119 - accuracy: 0.8425 - val_loss: 1.0486 - val_accuracy: 0.7300\n",
            "Epoch 23/50\n",
            "25/25 [==============================] - 220s 9s/step - loss: 0.5219 - accuracy: 0.8250 - val_loss: 1.0486 - val_accuracy: 0.7200\n",
            "Epoch 24/50\n",
            "25/25 [==============================] - 220s 9s/step - loss: 0.4813 - accuracy: 0.8338 - val_loss: 1.0014 - val_accuracy: 0.7200\n",
            "Epoch 25/50\n",
            "25/25 [==============================] - 220s 9s/step - loss: 0.4877 - accuracy: 0.8275 - val_loss: 1.1572 - val_accuracy: 0.7050\n",
            "Epoch 26/50\n",
            "25/25 [==============================] - 220s 9s/step - loss: 0.4629 - accuracy: 0.8375 - val_loss: 1.0539 - val_accuracy: 0.7250\n",
            "Epoch 27/50\n",
            "25/25 [==============================] - 220s 9s/step - loss: 0.4545 - accuracy: 0.8487 - val_loss: 1.2811 - val_accuracy: 0.6650\n",
            "Epoch 28/50\n",
            "25/25 [==============================] - 220s 9s/step - loss: 0.4092 - accuracy: 0.8512 - val_loss: 1.1811 - val_accuracy: 0.6950\n",
            "Epoch 29/50\n",
            "25/25 [==============================] - 219s 9s/step - loss: 0.3906 - accuracy: 0.8575 - val_loss: 1.3323 - val_accuracy: 0.6750\n",
            "Epoch 30/50\n",
            "25/25 [==============================] - 219s 9s/step - loss: 0.4150 - accuracy: 0.8475 - val_loss: 1.2630 - val_accuracy: 0.6800\n",
            "Epoch 31/50\n",
            "25/25 [==============================] - 219s 9s/step - loss: 0.4104 - accuracy: 0.8450 - val_loss: 1.3673 - val_accuracy: 0.6900\n",
            "Epoch 32/50\n",
            "25/25 [==============================] - 222s 9s/step - loss: 0.3145 - accuracy: 0.8863 - val_loss: 1.3027 - val_accuracy: 0.7300\n",
            "Epoch 33/50\n",
            "25/25 [==============================] - 221s 9s/step - loss: 0.3627 - accuracy: 0.8600 - val_loss: 1.0902 - val_accuracy: 0.7400\n",
            "Epoch 34/50\n",
            "25/25 [==============================] - 220s 9s/step - loss: 0.3925 - accuracy: 0.8637 - val_loss: 0.9768 - val_accuracy: 0.7450\n",
            "Epoch 35/50\n",
            "25/25 [==============================] - 221s 9s/step - loss: 0.3123 - accuracy: 0.8838 - val_loss: 1.2777 - val_accuracy: 0.7200\n",
            "Epoch 36/50\n",
            "25/25 [==============================] - 223s 9s/step - loss: 0.3919 - accuracy: 0.8512 - val_loss: 1.2046 - val_accuracy: 0.7400\n",
            "Epoch 37/50\n",
            "25/25 [==============================] - 219s 9s/step - loss: 0.3216 - accuracy: 0.8800 - val_loss: 1.3289 - val_accuracy: 0.7200\n",
            "Epoch 38/50\n",
            "25/25 [==============================] - 218s 9s/step - loss: 0.3481 - accuracy: 0.8838 - val_loss: 1.2300 - val_accuracy: 0.7250\n",
            "Epoch 39/50\n",
            "25/25 [==============================] - 217s 9s/step - loss: 0.3231 - accuracy: 0.8925 - val_loss: 1.1135 - val_accuracy: 0.7400\n",
            "Epoch 40/50\n",
            "25/25 [==============================] - 217s 9s/step - loss: 0.4214 - accuracy: 0.8562 - val_loss: 1.1905 - val_accuracy: 0.7250\n",
            "Epoch 41/50\n",
            "25/25 [==============================] - 218s 9s/step - loss: 0.3369 - accuracy: 0.8938 - val_loss: 1.2296 - val_accuracy: 0.7550\n",
            "Epoch 42/50\n",
            "25/25 [==============================] - 218s 9s/step - loss: 0.2157 - accuracy: 0.9262 - val_loss: 1.1592 - val_accuracy: 0.7300\n",
            "Epoch 43/50\n",
            "25/25 [==============================] - 222s 9s/step - loss: 0.2449 - accuracy: 0.9112 - val_loss: 1.2518 - val_accuracy: 0.7550\n",
            "Epoch 44/50\n",
            "25/25 [==============================] - 219s 9s/step - loss: 0.2365 - accuracy: 0.9187 - val_loss: 1.2599 - val_accuracy: 0.7600\n",
            "Epoch 45/50\n",
            "25/25 [==============================] - 218s 9s/step - loss: 0.2265 - accuracy: 0.9100 - val_loss: 1.6330 - val_accuracy: 0.7350\n",
            "Epoch 46/50\n",
            "25/25 [==============================] - 218s 9s/step - loss: 0.2145 - accuracy: 0.9300 - val_loss: 1.1606 - val_accuracy: 0.7450\n",
            "Epoch 47/50\n",
            "25/25 [==============================] - 224s 9s/step - loss: 0.1982 - accuracy: 0.9212 - val_loss: 1.4932 - val_accuracy: 0.7200\n",
            "Epoch 48/50\n",
            "25/25 [==============================] - 223s 9s/step - loss: 0.2651 - accuracy: 0.9025 - val_loss: 1.4314 - val_accuracy: 0.7550\n",
            "Epoch 49/50\n",
            "25/25 [==============================] - 223s 9s/step - loss: 0.1725 - accuracy: 0.9362 - val_loss: 1.9150 - val_accuracy: 0.7200\n",
            "Epoch 50/50\n",
            "25/25 [==============================] - 222s 9s/step - loss: 0.2010 - accuracy: 0.9287 - val_loss: 1.3506 - val_accuracy: 0.7100\n"
          ]
        }
      ]
    }
  ]
}