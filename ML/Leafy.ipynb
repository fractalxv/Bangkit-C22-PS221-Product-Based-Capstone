{
  "nbformat": 4,
  "nbformat_minor": 0,
  "metadata": {
    "colab": {
      "name": "Leafy.ipynb",
      "provenance": [],
      "collapsed_sections": []
    },
    "kernelspec": {
      "name": "python3",
      "display_name": "Python 3"
    },
    "language_info": {
      "name": "python"
    },
    "accelerator": "GPU"
  },
  "cells": [
    {
      "cell_type": "markdown",
      "source": [
        "**Import data from drive**"
      ],
      "metadata": {
        "id": "d3YTOV8HloDA"
      }
    },
    {
      "cell_type": "code",
      "source": [
        "from google.colab import drive\n",
        "drive.mount('/content/gdrive')\n",
        "!ls"
      ],
      "metadata": {
        "id": "Gyf_p8LAl09K",
        "colab": {
          "base_uri": "https://localhost:8080/"
        },
        "outputId": "5c49102c-a64d-40f4-c943-5026d93b514d"
      },
      "execution_count": 1,
      "outputs": [
        {
          "output_type": "stream",
          "name": "stdout",
          "text": [
            "Mounted at /content/gdrive\n",
            "gdrive\tsample_data\n"
          ]
        }
      ]
    },
    {
      "cell_type": "markdown",
      "source": [
        "**Unzip File**"
      ],
      "metadata": {
        "id": "eAjf2mInl8Z-"
      }
    },
    {
      "cell_type": "code",
      "source": [
        "import zipfile\n",
        "\n",
        "# Unzip the dataset\n",
        "local_zip = './gdrive/MyDrive/Dataset.zip'\n",
        "zip_ref = zipfile.ZipFile(local_zip, 'r')\n",
        "zip_ref.extractall('./')\n",
        "zip_ref.close()"
      ],
      "metadata": {
        "id": "Ih08Zsu9qCm5"
      },
      "execution_count": 2,
      "outputs": []
    },
    {
      "cell_type": "markdown",
      "source": [
        "**Define Directories**"
      ],
      "metadata": {
        "id": "qyihfdgbqYXM"
      }
    },
    {
      "cell_type": "code",
      "source": [
        "import os\n",
        "\n",
        "#train\n",
        "train_jambu_dir = os.path.join('./herbs-plant/Data_Training/Daun_Jambu_Biji')\n",
        "train_kari_dir = os.path.join('./herbs-plant/Data_Training/Daun_Kari')\n",
        "train_kunyit_dir = os.path.join('./herbs-plant/Data_Training/Daun_Kunyit')\n",
        "train_pepaya_dir = os.path.join('./herbs-plant/Data_Training/Daun_Pepaya')\n",
        "train_sirih_dir = os.path.join('./herbs-plant/Data_Training/Daun_Sirih')\n",
        "train_sirsak_dir = os.path.join('./herbs-plant/Data_Training/Daun_Sirsak')\n",
        "train_lidahbuaya_dir = os.path.join('./herbs-plant/Data_Training/Lidah_Buaya')\n",
        "\n",
        "#validation\n",
        "validation_jambu_dir = os.path.join('./herbs-plant/Data_Validation/Daun Jambu Biji')\n",
        "validation_kari_dir = os.path.join('./herbs-plant/Data_Validation/Daun Kari')\n",
        "validation_kunyit_dir = os.path.join('./herbs-plant/Data_Validation/Daun Kunyit')\n",
        "validation_pepaya_dir = os.path.join('./herbs-plant/Data_Validation/Daun Pepaya')\n",
        "validation_sirih_dir = os.path.join('./herbs-plant/Data_Validation/Daun Sirih')\n",
        "validation_sirsak_dir = os.path.join('./herbs-plant/Data_Validation/Daun Sirsak')\n",
        "validation_lidahbuaya_dir = os.path.join('./herbs-plant/Data_Validation/Lidah Buaya')"
      ],
      "metadata": {
        "id": "ZdsjlDBSqXmD"
      },
      "execution_count": 9,
      "outputs": []
    },
    {
      "cell_type": "code",
      "source": [
        "print('JAMBU BIJI TRAIN SET:', len(os.listdir(train_jambu_dir)))\n",
        "print('KARI TRAIN SET:', len(os.listdir(train_kari_dir)))\n",
        "print('KUNYIT TRAIN SET:', len(os.listdir(train_kunyit_dir)))\n",
        "print('PEPAYA TRAIN SET:', len(os.listdir(train_pepaya_dir)))\n",
        "print('SIRIH TRAIN SET:', len(os.listdir(train_sirih_dir)))\n",
        "print('SIRSAK TRAIN SET:', len(os.listdir(train_sirsak_dir)))\n",
        "print('LIDAH BUAYA TRAIN SET:', len(os.listdir(train_lidahbuaya_dir)))"
      ],
      "metadata": {
        "id": "OqCyVk8krmyp",
        "colab": {
          "base_uri": "https://localhost:8080/"
        },
        "outputId": "1869e315-bf87-47de-d319-04cd77088e8a"
      },
      "execution_count": 10,
      "outputs": [
        {
          "output_type": "stream",
          "name": "stdout",
          "text": [
            "JAMBU BIJI TRAIN SET: 80\n",
            "KARI TRAIN SET: 80\n",
            "KUNYIT TRAIN SET: 80\n",
            "PEPAYA TRAIN SET: 80\n",
            "SIRIH TRAIN SET: 80\n",
            "SIRSAK TRAIN SET: 80\n",
            "LIDAH BUAYA TRAIN SET: 80\n"
          ]
        }
      ]
    },
    {
      "cell_type": "code",
      "source": [
        "print('JAMBU BIJI VALIDATION SET:', len(os.listdir(validation_jambu_dir)))\n",
        "print('KARI VALIDATION SET:', len(os.listdir(validation_kari_dir)))\n",
        "print('KUNYIT VALIDATION SET:', len(os.listdir(validation_kunyit_dir)))\n",
        "print('PEPAYA VALIDATION SET:', len(os.listdir(validation_pepaya_dir)))\n",
        "print('SIRIH VALIDATION SET:', len(os.listdir(validation_sirih_dir)))\n",
        "print('SIRSAK VALIDATION SET:', len(os.listdir(validation_sirsak_dir)))\n",
        "print('LIDAH VALIDATION TRAIN SET:', len(os.listdir(validation_lidahbuaya_dir)))"
      ],
      "metadata": {
        "id": "zbBFgsYfrrv2",
        "colab": {
          "base_uri": "https://localhost:8080/"
        },
        "outputId": "40ee6b48-605f-492d-ee32-6a50be72079c"
      },
      "execution_count": 11,
      "outputs": [
        {
          "output_type": "stream",
          "name": "stdout",
          "text": [
            "JAMBU BIJI VALIDATION SET: 20\n",
            "KARI VALIDATION SET: 20\n",
            "KUNYIT VALIDATION SET: 20\n",
            "PEPAYA VALIDATION SET: 20\n",
            "SIRIH VALIDATION SET: 20\n",
            "SIRSAK VALIDATION SET: 20\n",
            "LIDAH VALIDATION TRAIN SET: 20\n"
          ]
        }
      ]
    },
    {
      "cell_type": "markdown",
      "source": [
        "**Check Data**"
      ],
      "metadata": {
        "id": "H8c_MUmSswU2"
      }
    },
    {
      "cell_type": "code",
      "source": [
        "#train data\n",
        "train_jambu_names = os.listdir(train_jambu_dir)\n",
        "print(f'JAMBU BIJI TRAIN SET: {train_jambu_names[:10]}')\n",
        "\n",
        "train_kari_names = os.listdir(train_kari_dir)\n",
        "print(f'KARI TRAIN SET: {train_kari_names[:10]}')\n",
        "\n",
        "train_kunyit_names = os.listdir(train_kunyit_dir)\n",
        "print(f'KUNYIT TRAIN SET: {train_kunyit_names[:10]}')\n",
        "\n",
        "train_pepaya_names = os.listdir(train_pepaya_dir)\n",
        "print(f'PEPAYA TRAIN SET: {train_pepaya_names[:10]}')\n",
        "\n",
        "train_sirih_names = os.listdir(train_sirih_dir)\n",
        "print(f'SIRIH TRAIN SET: {train_sirih_names[:10]}')\n",
        "\n",
        "train_sirsak_names = os.listdir(train_sirsak_dir)\n",
        "print(f'SIRIH TRAIN SET: {train_sirsak_names[:10]}')\n",
        "\n",
        "train_lidahbuaya_names = os.listdir(train_lidahbuaya_dir)\n",
        "print(f'LIDAH BUAYA TRAIN SET: {train_lidahbuaya_names[:10]}')"
      ],
      "metadata": {
        "id": "QzNz2588s0gt",
        "colab": {
          "base_uri": "https://localhost:8080/"
        },
        "outputId": "05d87494-e354-4314-943a-a7e96b77c556"
      },
      "execution_count": 12,
      "outputs": [
        {
          "output_type": "stream",
          "name": "stdout",
          "text": [
            "JAMBU BIJI TRAIN SET: ['jambu biji (33).JPG', 'jambu biji (45).JPG', 'jambu biji (57).JPG', 'jambu biji (15).JPG', 'jambu biji (49).JPG', 'jambu biji (70).JPG', 'jambu biji (26).JPG', 'jambu biji (41).JPG', 'jambu biji (61).JPG', 'jambu biji (51).JPG']\n",
            "KARI TRAIN SET: ['KARI (77).JPG', 'KARI (62).JPG', 'KARI (60).JPG', 'KARI (6).JPG', 'KARI (5).JPG', 'KARI (36).JPG', 'KARI (1).JPG', 'KARI (73).JPG', 'KARI (11).JPG', 'KARI (19).JPG']\n",
            "KUNYIT TRAIN SET: ['kunyit (47).JPG', 'kunyit (67).JPG', 'kunyit (62).JPG', 'kunyit (27).JPG', 'kunyit (30).JPG', 'kunyit (45).JPG', 'kunyit (16).JPG', 'kunyit (23).JPG', 'kunyit (3).JPG', 'kunyit (66).JPG']\n",
            "PEPAYA TRAIN SET: ['pepaya (50).JPG', 'pepaya (44).JPG', 'pepaya (61).JPG', 'pepaya (72).JPG', 'pepaya (42).JPG', 'pepaya (27).JPG', 'pepaya (12).JPG', 'pepaya (25).JPG', 'pepaya (19).JPG', 'pepaya (14).JPG']\n",
            "SIRIH TRAIN SET: ['Sirih (79).jpg', 'Sirih (23).jpg', 'Sirih (63).jpg', 'Sirih (68).jpg', 'Sirih (36).jpg', 'Sirih (60).jpg', 'Sirih (69).jpg', 'Sirih (24).jpg', 'Sirih (2).jpg', 'Sirih (64).jpg']\n",
            "SIRIH TRAIN SET: ['sirsakk (69).JPG', 'sirsakk (54).JPG', 'sirsakk (68).JPG', 'sirsakk (7).JPG', 'sirsakk (63).JPG', 'sirsakk (53).JPG', 'sirsakk (35).JPG', 'sirsakk (66).JPG', 'sirsakk (34).JPG', 'sirsakk (46).JPG']\n",
            "LIDAH BUAYA TRAIN SET: ['lidah buaya (24).jpg', 'lidah buaya (28).jpg', 'lidah buaya (31).JPG', 'lidah buaya (53).JPG', 'lidah buaya (39).JPG', 'lidah buaya (46).JPG', 'lidah buaya (15).JPG', 'lidah buaya (58).JPG', 'lidah buaya (33).JPG', 'lidah buaya (32).JPG']\n"
          ]
        }
      ]
    },
    {
      "cell_type": "code",
      "source": [
        "#validation data\n",
        "validation_jambu_names = os.listdir(validation_jambu_dir)\n",
        "print(f'JAMBU BIJI VAL SET: {train_jambu_names[:10]}')\n",
        "\n",
        "validation_kari_names = os.listdir(validation_kari_dir)\n",
        "print(f'KARI VAL SET: {validation_kari_names[:10]}')\n",
        "\n",
        "validation_kunyit_names = os.listdir(validation_kunyit_dir)\n",
        "print(f'KUNYIT VAL SET: {validation_kunyit_names[:10]}')\n",
        "\n",
        "validation_pepaya_names = os.listdir(validation_pepaya_dir)\n",
        "print(f'PEPAYA VAL SET: {validation_pepaya_names[:10]}')\n",
        "\n",
        "validation_sirih_names = os.listdir(validation_sirih_dir)\n",
        "print(f'SIRIH VAL SET: {validation_sirih_names[:10]}')\n",
        "\n",
        "validation_sirsak_names = os.listdir(validation_sirsak_dir)\n",
        "print(f'SIRIH VAL SET: {validation_sirsak_names[:10]}')\n",
        "\n",
        "validation_lidahbuaya_names = os.listdir(validation_lidahbuaya_dir)\n",
        "print(f'LIDAH BUAYA VAL SET: {validation_lidahbuaya_names[:10]}')"
      ],
      "metadata": {
        "id": "4X2ezPOms3Y7",
        "colab": {
          "base_uri": "https://localhost:8080/"
        },
        "outputId": "6c106b26-fa39-4bdd-d9d3-f632db08c74d"
      },
      "execution_count": 13,
      "outputs": [
        {
          "output_type": "stream",
          "name": "stdout",
          "text": [
            "JAMBU BIJI VAL SET: ['jambu biji (33).JPG', 'jambu biji (45).JPG', 'jambu biji (57).JPG', 'jambu biji (15).JPG', 'jambu biji (49).JPG', 'jambu biji (70).JPG', 'jambu biji (26).JPG', 'jambu biji (41).JPG', 'jambu biji (61).JPG', 'jambu biji (51).JPG']\n",
            "KARI VAL SET: ['KARI (92).JPG', 'KARI (96).JPG', 'KARI (97).JPG', 'KARI (84).JPG', 'KARI (100).JPG', 'KARI (85).JPG', 'KARI (89).JPG', 'KARI (87).JPG', 'KARI (95).JPG', 'KARI (90).JPG']\n",
            "KUNYIT VAL SET: ['kunyit (90).JPG', 'kunyit (93).JPG', 'kunyit (81).JPG', 'kunyit (84).JPG', 'kunyit (88).JPG', 'kunyit (87).JPG', 'kunyit (92).JPG', 'kunyit (99).JPG', 'kunyit (91).JPG', 'kunyit (94).JPG']\n",
            "PEPAYA VAL SET: ['pepaya (86).JPG', 'pepaya (97).JPG', 'pepaya (94).JPG', 'pepaya (92).JPG', 'pepaya (88).JPG', 'pepaya (89).JPG', 'pepaya (83).JPG', 'pepaya (99).JPG', 'pepaya (81).JPG', 'pepaya (87).JPG']\n",
            "SIRIH VAL SET: ['Sirih (91).jpg', 'Sirih (97).jpg', 'Sirih (85).jpg', 'Sirih (99).jpg', 'Sirih (93).jpg', 'Sirih (83).jpg', 'Sirih (98).jpg', 'Sirih (86).jpg', 'Sirih (92).jpg', 'Sirih (89).jpg']\n",
            "SIRIH VAL SET: ['sirsakk (91).JPG', 'sirsakk (82).JPG', 'sirsakk (84).JPG', 'sirsakk (86).JPG', 'sirsakk (92).JPG', 'sirsakk (90).JPG', 'sirsakk (93).JPG', 'sirsakk (85).JPG', 'sirsakk (81).JPG', 'sirsakk (94).JPG']\n",
            "LIDAH BUAYA VAL SET: ['lidah buaya (100).jpg', 'lidah buaya (95).jpg', 'lidah buaya (81).jpg', 'lidah buaya (86).jpg', 'lidah buaya (94).jpg', 'lidah buaya (83).jpg', 'lidah buaya (98).jpg', 'lidah buaya (87).jpg', 'lidah buaya (88).jpg', 'lidah buaya (93).jpg']\n"
          ]
        }
      ]
    },
    {
      "cell_type": "markdown",
      "source": [
        "**Data Augmentation**"
      ],
      "metadata": {
        "id": "4AoT4qM_s9KU"
      }
    },
    {
      "cell_type": "code",
      "source": [
        "import tensorflow as tf\n",
        "import keras_preprocessing\n",
        "from keras_preprocessing import image\n",
        "from keras_preprocessing.image import ImageDataGenerator"
      ],
      "metadata": {
        "id": "uYFBrPWvs6os"
      },
      "execution_count": 14,
      "outputs": []
    },
    {
      "cell_type": "code",
      "source": [
        "dir_training = \"./herbs-plant/Data_Training/\"\n",
        "\n",
        "training_datagen = ImageDataGenerator(\n",
        "      rescale = 1.0/255.,\n",
        "      featurewise_center=False,  \n",
        "      samplewise_center=False,  \n",
        "      featurewise_std_normalization=False,  \n",
        "      samplewise_std_normalization=False,  \n",
        "      zca_whitening=False,\n",
        "\t    rotation_range=30,\n",
        "      width_shift_range=0.1,\n",
        "      height_shift_range=0.1,\n",
        "      shear_range=0.3,\n",
        "      zoom_range=0.1,\n",
        "      horizontal_flip=True,\n",
        "      vertical_flip=True,\n",
        "      fill_mode='nearest')\n",
        "\n",
        "train_generator = training_datagen.flow_from_directory(\n",
        "\tdir_training,\n",
        "\ttarget_size=(224,224),\n",
        "\tclass_mode='categorical'\n",
        ")"
      ],
      "metadata": {
        "id": "jPO7-WC4tFMa",
        "colab": {
          "base_uri": "https://localhost:8080/"
        },
        "outputId": "2a34665f-cffc-4d06-cf62-925e3f377762"
      },
      "execution_count": 15,
      "outputs": [
        {
          "output_type": "stream",
          "name": "stdout",
          "text": [
            "Found 560 images belonging to 7 classes.\n"
          ]
        }
      ]
    },
    {
      "cell_type": "code",
      "source": [
        "dir_validation = \"./herbs-plant/Data_Validation/\"\n",
        "\n",
        "validation_datagen = ImageDataGenerator(rescale = 1.0/255.)\n",
        "\n",
        "validation_generator = validation_datagen.flow_from_directory(\n",
        "\tdir_validation,\n",
        "\ttarget_size=(224,224),\n",
        "\tclass_mode='categorical',\n",
        ")"
      ],
      "metadata": {
        "id": "i7POUYMHtOao",
        "colab": {
          "base_uri": "https://localhost:8080/"
        },
        "outputId": "5e16116f-c291-4739-a9a8-008f64932885"
      },
      "execution_count": 16,
      "outputs": [
        {
          "output_type": "stream",
          "name": "stdout",
          "text": [
            "Found 140 images belonging to 7 classes.\n"
          ]
        }
      ]
    },
    {
      "cell_type": "code",
      "source": [
        "from tensorflow.keras.applications.xception import Xception\n",
        "from tensorflow.keras.preprocessing import image\n",
        "from tensorflow.keras.models import Model\n",
        "from tensorflow.keras.layers import Dropout, Dense, Flatten\n",
        "from tensorflow.keras.optimizers import Adam\n",
        "\n",
        "model = Xception(weights='imagenet', input_shape = (224,224,3), include_top=False, pooling = 'avg')\n",
        "\n",
        "x = model.output\n",
        "\n",
        "x = Flatten()(x)\n",
        "x = Dense(1024, activation='relu')(x)\n",
        "x = Dropout(0.2)(x)\n",
        "x = Dense(64, activation='relu')(x)\n",
        "x = Dropout(0.2)(x)\n",
        "x = Dense(16, activation='relu')(x)\n",
        "x = Dense(7, activation='softmax')(x)\n",
        "\n",
        "model_herbs = Model(inputs=model.input, outputs=x)\n",
        "\n",
        "for layer in model.layers:\n",
        "    layer.trainable = False\n",
        "\n",
        "model_herbs.summary()"
      ],
      "metadata": {
        "id": "hb9PrwshwDLt",
        "colab": {
          "base_uri": "https://localhost:8080/"
        },
        "outputId": "95eb802a-403c-462d-ae7d-93f15860398e"
      },
      "execution_count": 19,
      "outputs": [
        {
          "output_type": "stream",
          "name": "stdout",
          "text": [
            "Model: \"model_1\"\n",
            "__________________________________________________________________________________________________\n",
            " Layer (type)                   Output Shape         Param #     Connected to                     \n",
            "==================================================================================================\n",
            " input_2 (InputLayer)           [(None, 224, 224, 3  0           []                               \n",
            "                                )]                                                                \n",
            "                                                                                                  \n",
            " block1_conv1 (Conv2D)          (None, 111, 111, 32  864         ['input_2[0][0]']                \n",
            "                                )                                                                 \n",
            "                                                                                                  \n",
            " block1_conv1_bn (BatchNormaliz  (None, 111, 111, 32  128        ['block1_conv1[0][0]']           \n",
            " ation)                         )                                                                 \n",
            "                                                                                                  \n",
            " block1_conv1_act (Activation)  (None, 111, 111, 32  0           ['block1_conv1_bn[0][0]']        \n",
            "                                )                                                                 \n",
            "                                                                                                  \n",
            " block1_conv2 (Conv2D)          (None, 109, 109, 64  18432       ['block1_conv1_act[0][0]']       \n",
            "                                )                                                                 \n",
            "                                                                                                  \n",
            " block1_conv2_bn (BatchNormaliz  (None, 109, 109, 64  256        ['block1_conv2[0][0]']           \n",
            " ation)                         )                                                                 \n",
            "                                                                                                  \n",
            " block1_conv2_act (Activation)  (None, 109, 109, 64  0           ['block1_conv2_bn[0][0]']        \n",
            "                                )                                                                 \n",
            "                                                                                                  \n",
            " block2_sepconv1 (SeparableConv  (None, 109, 109, 12  8768       ['block1_conv2_act[0][0]']       \n",
            " 2D)                            8)                                                                \n",
            "                                                                                                  \n",
            " block2_sepconv1_bn (BatchNorma  (None, 109, 109, 12  512        ['block2_sepconv1[0][0]']        \n",
            " lization)                      8)                                                                \n",
            "                                                                                                  \n",
            " block2_sepconv2_act (Activatio  (None, 109, 109, 12  0          ['block2_sepconv1_bn[0][0]']     \n",
            " n)                             8)                                                                \n",
            "                                                                                                  \n",
            " block2_sepconv2 (SeparableConv  (None, 109, 109, 12  17536      ['block2_sepconv2_act[0][0]']    \n",
            " 2D)                            8)                                                                \n",
            "                                                                                                  \n",
            " block2_sepconv2_bn (BatchNorma  (None, 109, 109, 12  512        ['block2_sepconv2[0][0]']        \n",
            " lization)                      8)                                                                \n",
            "                                                                                                  \n",
            " conv2d_4 (Conv2D)              (None, 55, 55, 128)  8192        ['block1_conv2_act[0][0]']       \n",
            "                                                                                                  \n",
            " block2_pool (MaxPooling2D)     (None, 55, 55, 128)  0           ['block2_sepconv2_bn[0][0]']     \n",
            "                                                                                                  \n",
            " batch_normalization_4 (BatchNo  (None, 55, 55, 128)  512        ['conv2d_4[0][0]']               \n",
            " rmalization)                                                                                     \n",
            "                                                                                                  \n",
            " add_12 (Add)                   (None, 55, 55, 128)  0           ['block2_pool[0][0]',            \n",
            "                                                                  'batch_normalization_4[0][0]']  \n",
            "                                                                                                  \n",
            " block3_sepconv1_act (Activatio  (None, 55, 55, 128)  0          ['add_12[0][0]']                 \n",
            " n)                                                                                               \n",
            "                                                                                                  \n",
            " block3_sepconv1 (SeparableConv  (None, 55, 55, 256)  33920      ['block3_sepconv1_act[0][0]']    \n",
            " 2D)                                                                                              \n",
            "                                                                                                  \n",
            " block3_sepconv1_bn (BatchNorma  (None, 55, 55, 256)  1024       ['block3_sepconv1[0][0]']        \n",
            " lization)                                                                                        \n",
            "                                                                                                  \n",
            " block3_sepconv2_act (Activatio  (None, 55, 55, 256)  0          ['block3_sepconv1_bn[0][0]']     \n",
            " n)                                                                                               \n",
            "                                                                                                  \n",
            " block3_sepconv2 (SeparableConv  (None, 55, 55, 256)  67840      ['block3_sepconv2_act[0][0]']    \n",
            " 2D)                                                                                              \n",
            "                                                                                                  \n",
            " block3_sepconv2_bn (BatchNorma  (None, 55, 55, 256)  1024       ['block3_sepconv2[0][0]']        \n",
            " lization)                                                                                        \n",
            "                                                                                                  \n",
            " conv2d_5 (Conv2D)              (None, 28, 28, 256)  32768       ['add_12[0][0]']                 \n",
            "                                                                                                  \n",
            " block3_pool (MaxPooling2D)     (None, 28, 28, 256)  0           ['block3_sepconv2_bn[0][0]']     \n",
            "                                                                                                  \n",
            " batch_normalization_5 (BatchNo  (None, 28, 28, 256)  1024       ['conv2d_5[0][0]']               \n",
            " rmalization)                                                                                     \n",
            "                                                                                                  \n",
            " add_13 (Add)                   (None, 28, 28, 256)  0           ['block3_pool[0][0]',            \n",
            "                                                                  'batch_normalization_5[0][0]']  \n",
            "                                                                                                  \n",
            " block4_sepconv1_act (Activatio  (None, 28, 28, 256)  0          ['add_13[0][0]']                 \n",
            " n)                                                                                               \n",
            "                                                                                                  \n",
            " block4_sepconv1 (SeparableConv  (None, 28, 28, 728)  188672     ['block4_sepconv1_act[0][0]']    \n",
            " 2D)                                                                                              \n",
            "                                                                                                  \n",
            " block4_sepconv1_bn (BatchNorma  (None, 28, 28, 728)  2912       ['block4_sepconv1[0][0]']        \n",
            " lization)                                                                                        \n",
            "                                                                                                  \n",
            " block4_sepconv2_act (Activatio  (None, 28, 28, 728)  0          ['block4_sepconv1_bn[0][0]']     \n",
            " n)                                                                                               \n",
            "                                                                                                  \n",
            " block4_sepconv2 (SeparableConv  (None, 28, 28, 728)  536536     ['block4_sepconv2_act[0][0]']    \n",
            " 2D)                                                                                              \n",
            "                                                                                                  \n",
            " block4_sepconv2_bn (BatchNorma  (None, 28, 28, 728)  2912       ['block4_sepconv2[0][0]']        \n",
            " lization)                                                                                        \n",
            "                                                                                                  \n",
            " conv2d_6 (Conv2D)              (None, 14, 14, 728)  186368      ['add_13[0][0]']                 \n",
            "                                                                                                  \n",
            " block4_pool (MaxPooling2D)     (None, 14, 14, 728)  0           ['block4_sepconv2_bn[0][0]']     \n",
            "                                                                                                  \n",
            " batch_normalization_6 (BatchNo  (None, 14, 14, 728)  2912       ['conv2d_6[0][0]']               \n",
            " rmalization)                                                                                     \n",
            "                                                                                                  \n",
            " add_14 (Add)                   (None, 14, 14, 728)  0           ['block4_pool[0][0]',            \n",
            "                                                                  'batch_normalization_6[0][0]']  \n",
            "                                                                                                  \n",
            " block5_sepconv1_act (Activatio  (None, 14, 14, 728)  0          ['add_14[0][0]']                 \n",
            " n)                                                                                               \n",
            "                                                                                                  \n",
            " block5_sepconv1 (SeparableConv  (None, 14, 14, 728)  536536     ['block5_sepconv1_act[0][0]']    \n",
            " 2D)                                                                                              \n",
            "                                                                                                  \n",
            " block5_sepconv1_bn (BatchNorma  (None, 14, 14, 728)  2912       ['block5_sepconv1[0][0]']        \n",
            " lization)                                                                                        \n",
            "                                                                                                  \n",
            " block5_sepconv2_act (Activatio  (None, 14, 14, 728)  0          ['block5_sepconv1_bn[0][0]']     \n",
            " n)                                                                                               \n",
            "                                                                                                  \n",
            " block5_sepconv2 (SeparableConv  (None, 14, 14, 728)  536536     ['block5_sepconv2_act[0][0]']    \n",
            " 2D)                                                                                              \n",
            "                                                                                                  \n",
            " block5_sepconv2_bn (BatchNorma  (None, 14, 14, 728)  2912       ['block5_sepconv2[0][0]']        \n",
            " lization)                                                                                        \n",
            "                                                                                                  \n",
            " block5_sepconv3_act (Activatio  (None, 14, 14, 728)  0          ['block5_sepconv2_bn[0][0]']     \n",
            " n)                                                                                               \n",
            "                                                                                                  \n",
            " block5_sepconv3 (SeparableConv  (None, 14, 14, 728)  536536     ['block5_sepconv3_act[0][0]']    \n",
            " 2D)                                                                                              \n",
            "                                                                                                  \n",
            " block5_sepconv3_bn (BatchNorma  (None, 14, 14, 728)  2912       ['block5_sepconv3[0][0]']        \n",
            " lization)                                                                                        \n",
            "                                                                                                  \n",
            " add_15 (Add)                   (None, 14, 14, 728)  0           ['block5_sepconv3_bn[0][0]',     \n",
            "                                                                  'add_14[0][0]']                 \n",
            "                                                                                                  \n",
            " block6_sepconv1_act (Activatio  (None, 14, 14, 728)  0          ['add_15[0][0]']                 \n",
            " n)                                                                                               \n",
            "                                                                                                  \n",
            " block6_sepconv1 (SeparableConv  (None, 14, 14, 728)  536536     ['block6_sepconv1_act[0][0]']    \n",
            " 2D)                                                                                              \n",
            "                                                                                                  \n",
            " block6_sepconv1_bn (BatchNorma  (None, 14, 14, 728)  2912       ['block6_sepconv1[0][0]']        \n",
            " lization)                                                                                        \n",
            "                                                                                                  \n",
            " block6_sepconv2_act (Activatio  (None, 14, 14, 728)  0          ['block6_sepconv1_bn[0][0]']     \n",
            " n)                                                                                               \n",
            "                                                                                                  \n",
            " block6_sepconv2 (SeparableConv  (None, 14, 14, 728)  536536     ['block6_sepconv2_act[0][0]']    \n",
            " 2D)                                                                                              \n",
            "                                                                                                  \n",
            " block6_sepconv2_bn (BatchNorma  (None, 14, 14, 728)  2912       ['block6_sepconv2[0][0]']        \n",
            " lization)                                                                                        \n",
            "                                                                                                  \n",
            " block6_sepconv3_act (Activatio  (None, 14, 14, 728)  0          ['block6_sepconv2_bn[0][0]']     \n",
            " n)                                                                                               \n",
            "                                                                                                  \n",
            " block6_sepconv3 (SeparableConv  (None, 14, 14, 728)  536536     ['block6_sepconv3_act[0][0]']    \n",
            " 2D)                                                                                              \n",
            "                                                                                                  \n",
            " block6_sepconv3_bn (BatchNorma  (None, 14, 14, 728)  2912       ['block6_sepconv3[0][0]']        \n",
            " lization)                                                                                        \n",
            "                                                                                                  \n",
            " add_16 (Add)                   (None, 14, 14, 728)  0           ['block6_sepconv3_bn[0][0]',     \n",
            "                                                                  'add_15[0][0]']                 \n",
            "                                                                                                  \n",
            " block7_sepconv1_act (Activatio  (None, 14, 14, 728)  0          ['add_16[0][0]']                 \n",
            " n)                                                                                               \n",
            "                                                                                                  \n",
            " block7_sepconv1 (SeparableConv  (None, 14, 14, 728)  536536     ['block7_sepconv1_act[0][0]']    \n",
            " 2D)                                                                                              \n",
            "                                                                                                  \n",
            " block7_sepconv1_bn (BatchNorma  (None, 14, 14, 728)  2912       ['block7_sepconv1[0][0]']        \n",
            " lization)                                                                                        \n",
            "                                                                                                  \n",
            " block7_sepconv2_act (Activatio  (None, 14, 14, 728)  0          ['block7_sepconv1_bn[0][0]']     \n",
            " n)                                                                                               \n",
            "                                                                                                  \n",
            " block7_sepconv2 (SeparableConv  (None, 14, 14, 728)  536536     ['block7_sepconv2_act[0][0]']    \n",
            " 2D)                                                                                              \n",
            "                                                                                                  \n",
            " block7_sepconv2_bn (BatchNorma  (None, 14, 14, 728)  2912       ['block7_sepconv2[0][0]']        \n",
            " lization)                                                                                        \n",
            "                                                                                                  \n",
            " block7_sepconv3_act (Activatio  (None, 14, 14, 728)  0          ['block7_sepconv2_bn[0][0]']     \n",
            " n)                                                                                               \n",
            "                                                                                                  \n",
            " block7_sepconv3 (SeparableConv  (None, 14, 14, 728)  536536     ['block7_sepconv3_act[0][0]']    \n",
            " 2D)                                                                                              \n",
            "                                                                                                  \n",
            " block7_sepconv3_bn (BatchNorma  (None, 14, 14, 728)  2912       ['block7_sepconv3[0][0]']        \n",
            " lization)                                                                                        \n",
            "                                                                                                  \n",
            " add_17 (Add)                   (None, 14, 14, 728)  0           ['block7_sepconv3_bn[0][0]',     \n",
            "                                                                  'add_16[0][0]']                 \n",
            "                                                                                                  \n",
            " block8_sepconv1_act (Activatio  (None, 14, 14, 728)  0          ['add_17[0][0]']                 \n",
            " n)                                                                                               \n",
            "                                                                                                  \n",
            " block8_sepconv1 (SeparableConv  (None, 14, 14, 728)  536536     ['block8_sepconv1_act[0][0]']    \n",
            " 2D)                                                                                              \n",
            "                                                                                                  \n",
            " block8_sepconv1_bn (BatchNorma  (None, 14, 14, 728)  2912       ['block8_sepconv1[0][0]']        \n",
            " lization)                                                                                        \n",
            "                                                                                                  \n",
            " block8_sepconv2_act (Activatio  (None, 14, 14, 728)  0          ['block8_sepconv1_bn[0][0]']     \n",
            " n)                                                                                               \n",
            "                                                                                                  \n",
            " block8_sepconv2 (SeparableConv  (None, 14, 14, 728)  536536     ['block8_sepconv2_act[0][0]']    \n",
            " 2D)                                                                                              \n",
            "                                                                                                  \n",
            " block8_sepconv2_bn (BatchNorma  (None, 14, 14, 728)  2912       ['block8_sepconv2[0][0]']        \n",
            " lization)                                                                                        \n",
            "                                                                                                  \n",
            " block8_sepconv3_act (Activatio  (None, 14, 14, 728)  0          ['block8_sepconv2_bn[0][0]']     \n",
            " n)                                                                                               \n",
            "                                                                                                  \n",
            " block8_sepconv3 (SeparableConv  (None, 14, 14, 728)  536536     ['block8_sepconv3_act[0][0]']    \n",
            " 2D)                                                                                              \n",
            "                                                                                                  \n",
            " block8_sepconv3_bn (BatchNorma  (None, 14, 14, 728)  2912       ['block8_sepconv3[0][0]']        \n",
            " lization)                                                                                        \n",
            "                                                                                                  \n",
            " add_18 (Add)                   (None, 14, 14, 728)  0           ['block8_sepconv3_bn[0][0]',     \n",
            "                                                                  'add_17[0][0]']                 \n",
            "                                                                                                  \n",
            " block9_sepconv1_act (Activatio  (None, 14, 14, 728)  0          ['add_18[0][0]']                 \n",
            " n)                                                                                               \n",
            "                                                                                                  \n",
            " block9_sepconv1 (SeparableConv  (None, 14, 14, 728)  536536     ['block9_sepconv1_act[0][0]']    \n",
            " 2D)                                                                                              \n",
            "                                                                                                  \n",
            " block9_sepconv1_bn (BatchNorma  (None, 14, 14, 728)  2912       ['block9_sepconv1[0][0]']        \n",
            " lization)                                                                                        \n",
            "                                                                                                  \n",
            " block9_sepconv2_act (Activatio  (None, 14, 14, 728)  0          ['block9_sepconv1_bn[0][0]']     \n",
            " n)                                                                                               \n",
            "                                                                                                  \n",
            " block9_sepconv2 (SeparableConv  (None, 14, 14, 728)  536536     ['block9_sepconv2_act[0][0]']    \n",
            " 2D)                                                                                              \n",
            "                                                                                                  \n",
            " block9_sepconv2_bn (BatchNorma  (None, 14, 14, 728)  2912       ['block9_sepconv2[0][0]']        \n",
            " lization)                                                                                        \n",
            "                                                                                                  \n",
            " block9_sepconv3_act (Activatio  (None, 14, 14, 728)  0          ['block9_sepconv2_bn[0][0]']     \n",
            " n)                                                                                               \n",
            "                                                                                                  \n",
            " block9_sepconv3 (SeparableConv  (None, 14, 14, 728)  536536     ['block9_sepconv3_act[0][0]']    \n",
            " 2D)                                                                                              \n",
            "                                                                                                  \n",
            " block9_sepconv3_bn (BatchNorma  (None, 14, 14, 728)  2912       ['block9_sepconv3[0][0]']        \n",
            " lization)                                                                                        \n",
            "                                                                                                  \n",
            " add_19 (Add)                   (None, 14, 14, 728)  0           ['block9_sepconv3_bn[0][0]',     \n",
            "                                                                  'add_18[0][0]']                 \n",
            "                                                                                                  \n",
            " block10_sepconv1_act (Activati  (None, 14, 14, 728)  0          ['add_19[0][0]']                 \n",
            " on)                                                                                              \n",
            "                                                                                                  \n",
            " block10_sepconv1 (SeparableCon  (None, 14, 14, 728)  536536     ['block10_sepconv1_act[0][0]']   \n",
            " v2D)                                                                                             \n",
            "                                                                                                  \n",
            " block10_sepconv1_bn (BatchNorm  (None, 14, 14, 728)  2912       ['block10_sepconv1[0][0]']       \n",
            " alization)                                                                                       \n",
            "                                                                                                  \n",
            " block10_sepconv2_act (Activati  (None, 14, 14, 728)  0          ['block10_sepconv1_bn[0][0]']    \n",
            " on)                                                                                              \n",
            "                                                                                                  \n",
            " block10_sepconv2 (SeparableCon  (None, 14, 14, 728)  536536     ['block10_sepconv2_act[0][0]']   \n",
            " v2D)                                                                                             \n",
            "                                                                                                  \n",
            " block10_sepconv2_bn (BatchNorm  (None, 14, 14, 728)  2912       ['block10_sepconv2[0][0]']       \n",
            " alization)                                                                                       \n",
            "                                                                                                  \n",
            " block10_sepconv3_act (Activati  (None, 14, 14, 728)  0          ['block10_sepconv2_bn[0][0]']    \n",
            " on)                                                                                              \n",
            "                                                                                                  \n",
            " block10_sepconv3 (SeparableCon  (None, 14, 14, 728)  536536     ['block10_sepconv3_act[0][0]']   \n",
            " v2D)                                                                                             \n",
            "                                                                                                  \n",
            " block10_sepconv3_bn (BatchNorm  (None, 14, 14, 728)  2912       ['block10_sepconv3[0][0]']       \n",
            " alization)                                                                                       \n",
            "                                                                                                  \n",
            " add_20 (Add)                   (None, 14, 14, 728)  0           ['block10_sepconv3_bn[0][0]',    \n",
            "                                                                  'add_19[0][0]']                 \n",
            "                                                                                                  \n",
            " block11_sepconv1_act (Activati  (None, 14, 14, 728)  0          ['add_20[0][0]']                 \n",
            " on)                                                                                              \n",
            "                                                                                                  \n",
            " block11_sepconv1 (SeparableCon  (None, 14, 14, 728)  536536     ['block11_sepconv1_act[0][0]']   \n",
            " v2D)                                                                                             \n",
            "                                                                                                  \n",
            " block11_sepconv1_bn (BatchNorm  (None, 14, 14, 728)  2912       ['block11_sepconv1[0][0]']       \n",
            " alization)                                                                                       \n",
            "                                                                                                  \n",
            " block11_sepconv2_act (Activati  (None, 14, 14, 728)  0          ['block11_sepconv1_bn[0][0]']    \n",
            " on)                                                                                              \n",
            "                                                                                                  \n",
            " block11_sepconv2 (SeparableCon  (None, 14, 14, 728)  536536     ['block11_sepconv2_act[0][0]']   \n",
            " v2D)                                                                                             \n",
            "                                                                                                  \n",
            " block11_sepconv2_bn (BatchNorm  (None, 14, 14, 728)  2912       ['block11_sepconv2[0][0]']       \n",
            " alization)                                                                                       \n",
            "                                                                                                  \n",
            " block11_sepconv3_act (Activati  (None, 14, 14, 728)  0          ['block11_sepconv2_bn[0][0]']    \n",
            " on)                                                                                              \n",
            "                                                                                                  \n",
            " block11_sepconv3 (SeparableCon  (None, 14, 14, 728)  536536     ['block11_sepconv3_act[0][0]']   \n",
            " v2D)                                                                                             \n",
            "                                                                                                  \n",
            " block11_sepconv3_bn (BatchNorm  (None, 14, 14, 728)  2912       ['block11_sepconv3[0][0]']       \n",
            " alization)                                                                                       \n",
            "                                                                                                  \n",
            " add_21 (Add)                   (None, 14, 14, 728)  0           ['block11_sepconv3_bn[0][0]',    \n",
            "                                                                  'add_20[0][0]']                 \n",
            "                                                                                                  \n",
            " block12_sepconv1_act (Activati  (None, 14, 14, 728)  0          ['add_21[0][0]']                 \n",
            " on)                                                                                              \n",
            "                                                                                                  \n",
            " block12_sepconv1 (SeparableCon  (None, 14, 14, 728)  536536     ['block12_sepconv1_act[0][0]']   \n",
            " v2D)                                                                                             \n",
            "                                                                                                  \n",
            " block12_sepconv1_bn (BatchNorm  (None, 14, 14, 728)  2912       ['block12_sepconv1[0][0]']       \n",
            " alization)                                                                                       \n",
            "                                                                                                  \n",
            " block12_sepconv2_act (Activati  (None, 14, 14, 728)  0          ['block12_sepconv1_bn[0][0]']    \n",
            " on)                                                                                              \n",
            "                                                                                                  \n",
            " block12_sepconv2 (SeparableCon  (None, 14, 14, 728)  536536     ['block12_sepconv2_act[0][0]']   \n",
            " v2D)                                                                                             \n",
            "                                                                                                  \n",
            " block12_sepconv2_bn (BatchNorm  (None, 14, 14, 728)  2912       ['block12_sepconv2[0][0]']       \n",
            " alization)                                                                                       \n",
            "                                                                                                  \n",
            " block12_sepconv3_act (Activati  (None, 14, 14, 728)  0          ['block12_sepconv2_bn[0][0]']    \n",
            " on)                                                                                              \n",
            "                                                                                                  \n",
            " block12_sepconv3 (SeparableCon  (None, 14, 14, 728)  536536     ['block12_sepconv3_act[0][0]']   \n",
            " v2D)                                                                                             \n",
            "                                                                                                  \n",
            " block12_sepconv3_bn (BatchNorm  (None, 14, 14, 728)  2912       ['block12_sepconv3[0][0]']       \n",
            " alization)                                                                                       \n",
            "                                                                                                  \n",
            " add_22 (Add)                   (None, 14, 14, 728)  0           ['block12_sepconv3_bn[0][0]',    \n",
            "                                                                  'add_21[0][0]']                 \n",
            "                                                                                                  \n",
            " block13_sepconv1_act (Activati  (None, 14, 14, 728)  0          ['add_22[0][0]']                 \n",
            " on)                                                                                              \n",
            "                                                                                                  \n",
            " block13_sepconv1 (SeparableCon  (None, 14, 14, 728)  536536     ['block13_sepconv1_act[0][0]']   \n",
            " v2D)                                                                                             \n",
            "                                                                                                  \n",
            " block13_sepconv1_bn (BatchNorm  (None, 14, 14, 728)  2912       ['block13_sepconv1[0][0]']       \n",
            " alization)                                                                                       \n",
            "                                                                                                  \n",
            " block13_sepconv2_act (Activati  (None, 14, 14, 728)  0          ['block13_sepconv1_bn[0][0]']    \n",
            " on)                                                                                              \n",
            "                                                                                                  \n",
            " block13_sepconv2 (SeparableCon  (None, 14, 14, 1024  752024     ['block13_sepconv2_act[0][0]']   \n",
            " v2D)                           )                                                                 \n",
            "                                                                                                  \n",
            " block13_sepconv2_bn (BatchNorm  (None, 14, 14, 1024  4096       ['block13_sepconv2[0][0]']       \n",
            " alization)                     )                                                                 \n",
            "                                                                                                  \n",
            " conv2d_7 (Conv2D)              (None, 7, 7, 1024)   745472      ['add_22[0][0]']                 \n",
            "                                                                                                  \n",
            " block13_pool (MaxPooling2D)    (None, 7, 7, 1024)   0           ['block13_sepconv2_bn[0][0]']    \n",
            "                                                                                                  \n",
            " batch_normalization_7 (BatchNo  (None, 7, 7, 1024)  4096        ['conv2d_7[0][0]']               \n",
            " rmalization)                                                                                     \n",
            "                                                                                                  \n",
            " add_23 (Add)                   (None, 7, 7, 1024)   0           ['block13_pool[0][0]',           \n",
            "                                                                  'batch_normalization_7[0][0]']  \n",
            "                                                                                                  \n",
            " block14_sepconv1 (SeparableCon  (None, 7, 7, 1536)  1582080     ['add_23[0][0]']                 \n",
            " v2D)                                                                                             \n",
            "                                                                                                  \n",
            " block14_sepconv1_bn (BatchNorm  (None, 7, 7, 1536)  6144        ['block14_sepconv1[0][0]']       \n",
            " alization)                                                                                       \n",
            "                                                                                                  \n",
            " block14_sepconv1_act (Activati  (None, 7, 7, 1536)  0           ['block14_sepconv1_bn[0][0]']    \n",
            " on)                                                                                              \n",
            "                                                                                                  \n",
            " block14_sepconv2 (SeparableCon  (None, 7, 7, 2048)  3159552     ['block14_sepconv1_act[0][0]']   \n",
            " v2D)                                                                                             \n",
            "                                                                                                  \n",
            " block14_sepconv2_bn (BatchNorm  (None, 7, 7, 2048)  8192        ['block14_sepconv2[0][0]']       \n",
            " alization)                                                                                       \n",
            "                                                                                                  \n",
            " block14_sepconv2_act (Activati  (None, 7, 7, 2048)  0           ['block14_sepconv2_bn[0][0]']    \n",
            " on)                                                                                              \n",
            "                                                                                                  \n",
            " global_average_pooling2d_1 (Gl  (None, 2048)        0           ['block14_sepconv2_act[0][0]']   \n",
            " obalAveragePooling2D)                                                                            \n",
            "                                                                                                  \n",
            " flatten_1 (Flatten)            (None, 2048)         0           ['global_average_pooling2d_1[0][0\n",
            "                                                                 ]']                              \n",
            "                                                                                                  \n",
            " dense_4 (Dense)                (None, 1024)         2098176     ['flatten_1[0][0]']              \n",
            "                                                                                                  \n",
            " dropout_2 (Dropout)            (None, 1024)         0           ['dense_4[0][0]']                \n",
            "                                                                                                  \n",
            " dense_5 (Dense)                (None, 64)           65600       ['dropout_2[0][0]']              \n",
            "                                                                                                  \n",
            " dropout_3 (Dropout)            (None, 64)           0           ['dense_5[0][0]']                \n",
            "                                                                                                  \n",
            " dense_6 (Dense)                (None, 16)           1040        ['dropout_3[0][0]']              \n",
            "                                                                                                  \n",
            " dense_7 (Dense)                (None, 7)            119         ['dense_6[0][0]']                \n",
            "                                                                                                  \n",
            "==================================================================================================\n",
            "Total params: 23,026,415\n",
            "Trainable params: 2,164,935\n",
            "Non-trainable params: 20,861,480\n",
            "__________________________________________________________________________________________________\n"
          ]
        }
      ]
    },
    {
      "cell_type": "code",
      "source": [
        "model_herbs.compile(optimizer='adam', loss='categorical_crossentropy', metrics = ['accuracy'])\n",
        "history = model_herbs.fit(train_generator, epochs=15, validation_data = validation_generator, verbose = 1)"
      ],
      "metadata": {
        "id": "9tccaNKS1IPv",
        "colab": {
          "base_uri": "https://localhost:8080/"
        },
        "outputId": "23d59b76-444c-4438-aadb-e2106a93be25"
      },
      "execution_count": 26,
      "outputs": [
        {
          "output_type": "stream",
          "name": "stdout",
          "text": [
            "Epoch 1/15\n",
            "18/18 [==============================] - 182s 10s/step - loss: 0.2261 - accuracy: 0.9393 - val_loss: 0.3640 - val_accuracy: 0.9214\n",
            "Epoch 2/15\n",
            "18/18 [==============================] - 185s 10s/step - loss: 0.1065 - accuracy: 0.9714 - val_loss: 0.0529 - val_accuracy: 0.9786\n",
            "Epoch 3/15\n",
            "18/18 [==============================] - 174s 10s/step - loss: 0.0615 - accuracy: 0.9804 - val_loss: 0.1159 - val_accuracy: 0.9571\n",
            "Epoch 4/15\n",
            "18/18 [==============================] - 175s 10s/step - loss: 0.0591 - accuracy: 0.9839 - val_loss: 0.1572 - val_accuracy: 0.9500\n",
            "Epoch 5/15\n",
            "18/18 [==============================] - 173s 10s/step - loss: 0.0607 - accuracy: 0.9786 - val_loss: 0.0577 - val_accuracy: 0.9714\n",
            "Epoch 6/15\n",
            "18/18 [==============================] - 174s 10s/step - loss: 0.0478 - accuracy: 0.9875 - val_loss: 0.0101 - val_accuracy: 1.0000\n",
            "Epoch 7/15\n",
            "18/18 [==============================] - 174s 10s/step - loss: 0.0401 - accuracy: 0.9893 - val_loss: 0.0094 - val_accuracy: 1.0000\n",
            "Epoch 8/15\n",
            "18/18 [==============================] - 175s 10s/step - loss: 0.0347 - accuracy: 0.9946 - val_loss: 0.0454 - val_accuracy: 0.9857\n",
            "Epoch 9/15\n",
            "18/18 [==============================] - 176s 10s/step - loss: 0.0351 - accuracy: 0.9875 - val_loss: 0.0049 - val_accuracy: 1.0000\n",
            "Epoch 10/15\n",
            "18/18 [==============================] - 174s 10s/step - loss: 0.0164 - accuracy: 0.9964 - val_loss: 0.0771 - val_accuracy: 0.9643\n",
            "Epoch 11/15\n",
            "18/18 [==============================] - 173s 10s/step - loss: 0.0246 - accuracy: 0.9875 - val_loss: 0.0395 - val_accuracy: 0.9786\n",
            "Epoch 12/15\n",
            "18/18 [==============================] - 173s 10s/step - loss: 0.0306 - accuracy: 0.9875 - val_loss: 0.0265 - val_accuracy: 0.9929\n",
            "Epoch 13/15\n",
            "18/18 [==============================] - 173s 10s/step - loss: 0.0361 - accuracy: 0.9875 - val_loss: 0.0377 - val_accuracy: 0.9929\n",
            "Epoch 14/15\n",
            "18/18 [==============================] - 173s 10s/step - loss: 0.0372 - accuracy: 0.9893 - val_loss: 0.0469 - val_accuracy: 0.9714\n",
            "Epoch 15/15\n",
            "18/18 [==============================] - 174s 10s/step - loss: 0.0429 - accuracy: 0.9875 - val_loss: 0.0178 - val_accuracy: 0.9929\n"
          ]
        }
      ]
    },
    {
      "cell_type": "code",
      "source": [
        "model_herbs.save(\"Leafy.h5\")\n",
        "tf.keras.models.save_model(model_herbs,'Leafy.hdf5')"
      ],
      "metadata": {
        "id": "fMaFq-H5rcm5"
      },
      "execution_count": 28,
      "outputs": []
    },
    {
      "cell_type": "code",
      "source": [
        "#Convert ke TF Lite\n",
        "import tensorflow as tf\n",
        "\n",
        "#Load model yang telah disimpan\n",
        "model_akhir = tf.keras.models.load_model(filepath=\"Leafy.h5\")\n",
        "\n",
        "#Convert model tsb ke bentuk TF Lite\n",
        "konversi = tf.lite.TFLiteConverter.from_keras_model(model_akhir)\n",
        "model_tflite = konversi.convert()\n",
        "\n",
        "#Simpan TF Lite model.\n",
        "with tf.io.gfile.GFile('Leafy.tflite', 'wb') as f:\n",
        "  f.write(model_tflite)"
      ],
      "metadata": {
        "colab": {
          "base_uri": "https://localhost:8080/"
        },
        "id": "FKGY9iwRrm54",
        "outputId": "9af37a1e-4c0d-44a8-db74-d42f89fd7b4b"
      },
      "execution_count": 29,
      "outputs": [
        {
          "output_type": "stream",
          "name": "stdout",
          "text": [
            "INFO:tensorflow:Assets written to: /tmp/tmpy_6rxtf7/assets\n"
          ]
        },
        {
          "output_type": "stream",
          "name": "stderr",
          "text": [
            "WARNING:absl:Buffer deduplication procedure will be skipped when flatbuffer library is not properly loaded\n"
          ]
        }
      ]
    },
    {
      "cell_type": "code",
      "source": [
        "model_herbs_json = model_herbs.to_json()\n",
        "with open(\"model_tl_json\", \"w\") as file_json:\n",
        "    file_json.write(model_herbs_json)"
      ],
      "metadata": {
        "id": "hxGMhC8NsjeR"
      },
      "execution_count": 30,
      "outputs": []
    }
  ]
}